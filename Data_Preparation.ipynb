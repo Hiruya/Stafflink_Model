{
 "cells": [
  {
   "cell_type": "markdown",
   "id": "371e68c6-b8fa-4f69-8f71-c8593eae1214",
   "metadata": {},
   "source": [
    "**Import Library**"
   ]
  },
  {
   "cell_type": "code",
   "execution_count": 1,
   "id": "3c0d9d72-e232-4161-a6b3-96c821e24881",
   "metadata": {},
   "outputs": [],
   "source": [
    "import numpy as np \n",
    "import pandas as pd\n",
    "from pymongo import MongoClient\n",
    "import warnings\n",
    "warnings.filterwarnings('ignore')"
   ]
  },
  {
   "cell_type": "code",
   "execution_count": 2,
   "id": "eb81de96-19c3-4ecb-b664-616eee41afb3",
   "metadata": {},
   "outputs": [
    {
     "data": {
      "text/html": [
       "<div>\n",
       "<style scoped>\n",
       "    .dataframe tbody tr th:only-of-type {\n",
       "        vertical-align: middle;\n",
       "    }\n",
       "\n",
       "    .dataframe tbody tr th {\n",
       "        vertical-align: top;\n",
       "    }\n",
       "\n",
       "    .dataframe thead th {\n",
       "        text-align: right;\n",
       "    }\n",
       "</style>\n",
       "<table border=\"1\" class=\"dataframe\">\n",
       "  <thead>\n",
       "    <tr style=\"text-align: right;\">\n",
       "      <th></th>\n",
       "      <th>employee_id</th>\n",
       "      <th>department</th>\n",
       "      <th>region</th>\n",
       "      <th>education</th>\n",
       "      <th>gender</th>\n",
       "      <th>recruitment_channel</th>\n",
       "      <th>no_of_trainings</th>\n",
       "      <th>age</th>\n",
       "      <th>previous_year_rating</th>\n",
       "      <th>length_of_service</th>\n",
       "      <th>KPIs_met &gt;80%</th>\n",
       "      <th>awards_won?</th>\n",
       "      <th>avg_training_score</th>\n",
       "      <th>is_promoted</th>\n",
       "    </tr>\n",
       "  </thead>\n",
       "  <tbody>\n",
       "    <tr>\n",
       "      <th>0</th>\n",
       "      <td>65438</td>\n",
       "      <td>Sales &amp; Marketing</td>\n",
       "      <td>region_7</td>\n",
       "      <td>Master's &amp; above</td>\n",
       "      <td>f</td>\n",
       "      <td>sourcing</td>\n",
       "      <td>1</td>\n",
       "      <td>35</td>\n",
       "      <td>5.0</td>\n",
       "      <td>8</td>\n",
       "      <td>1</td>\n",
       "      <td>0</td>\n",
       "      <td>49</td>\n",
       "      <td>0</td>\n",
       "    </tr>\n",
       "    <tr>\n",
       "      <th>1</th>\n",
       "      <td>65141</td>\n",
       "      <td>Operations</td>\n",
       "      <td>region_22</td>\n",
       "      <td>Bachelor's</td>\n",
       "      <td>m</td>\n",
       "      <td>other</td>\n",
       "      <td>1</td>\n",
       "      <td>30</td>\n",
       "      <td>5.0</td>\n",
       "      <td>4</td>\n",
       "      <td>0</td>\n",
       "      <td>0</td>\n",
       "      <td>60</td>\n",
       "      <td>0</td>\n",
       "    </tr>\n",
       "    <tr>\n",
       "      <th>2</th>\n",
       "      <td>7513</td>\n",
       "      <td>Sales &amp; Marketing</td>\n",
       "      <td>region_19</td>\n",
       "      <td>Bachelor's</td>\n",
       "      <td>m</td>\n",
       "      <td>sourcing</td>\n",
       "      <td>1</td>\n",
       "      <td>34</td>\n",
       "      <td>3.0</td>\n",
       "      <td>7</td>\n",
       "      <td>0</td>\n",
       "      <td>0</td>\n",
       "      <td>50</td>\n",
       "      <td>0</td>\n",
       "    </tr>\n",
       "    <tr>\n",
       "      <th>3</th>\n",
       "      <td>2542</td>\n",
       "      <td>Sales &amp; Marketing</td>\n",
       "      <td>region_23</td>\n",
       "      <td>Bachelor's</td>\n",
       "      <td>m</td>\n",
       "      <td>other</td>\n",
       "      <td>2</td>\n",
       "      <td>39</td>\n",
       "      <td>1.0</td>\n",
       "      <td>10</td>\n",
       "      <td>0</td>\n",
       "      <td>0</td>\n",
       "      <td>50</td>\n",
       "      <td>0</td>\n",
       "    </tr>\n",
       "    <tr>\n",
       "      <th>4</th>\n",
       "      <td>48945</td>\n",
       "      <td>Technology</td>\n",
       "      <td>region_26</td>\n",
       "      <td>Bachelor's</td>\n",
       "      <td>m</td>\n",
       "      <td>other</td>\n",
       "      <td>1</td>\n",
       "      <td>45</td>\n",
       "      <td>3.0</td>\n",
       "      <td>2</td>\n",
       "      <td>0</td>\n",
       "      <td>0</td>\n",
       "      <td>73</td>\n",
       "      <td>0</td>\n",
       "    </tr>\n",
       "  </tbody>\n",
       "</table>\n",
       "</div>"
      ],
      "text/plain": [
       "   employee_id         department     region         education gender  \\\n",
       "0        65438  Sales & Marketing   region_7  Master's & above      f   \n",
       "1        65141         Operations  region_22        Bachelor's      m   \n",
       "2         7513  Sales & Marketing  region_19        Bachelor's      m   \n",
       "3         2542  Sales & Marketing  region_23        Bachelor's      m   \n",
       "4        48945         Technology  region_26        Bachelor's      m   \n",
       "\n",
       "  recruitment_channel  no_of_trainings  age  previous_year_rating  \\\n",
       "0            sourcing                1   35                   5.0   \n",
       "1               other                1   30                   5.0   \n",
       "2            sourcing                1   34                   3.0   \n",
       "3               other                2   39                   1.0   \n",
       "4               other                1   45                   3.0   \n",
       "\n",
       "   length_of_service  KPIs_met >80%  awards_won?  avg_training_score  \\\n",
       "0                  8              1            0                  49   \n",
       "1                  4              0            0                  60   \n",
       "2                  7              0            0                  50   \n",
       "3                 10              0            0                  50   \n",
       "4                  2              0            0                  73   \n",
       "\n",
       "   is_promoted  \n",
       "0            0  \n",
       "1            0  \n",
       "2            0  \n",
       "3            0  \n",
       "4            0  "
      ]
     },
     "execution_count": 2,
     "metadata": {},
     "output_type": "execute_result"
    }
   ],
   "source": [
    "# ---Memuat DataFrame dari CSV---\n",
    "df = pd.read_csv(r\"C:\\Users\\Pongo\\Project\\train_LZdllcl.csv\")\n",
    "df.head()"
   ]
  },
  {
   "cell_type": "markdown",
   "id": "6285d930-0a75-4710-85ac-f4c13bbf196d",
   "metadata": {},
   "source": [
    "**Analysis Data**"
   ]
  },
  {
   "cell_type": "code",
   "execution_count": 3,
   "id": "48d85e4b-25ee-4928-9456-c2150d2892a4",
   "metadata": {},
   "outputs": [
    {
     "name": "stdout",
     "output_type": "stream",
     "text": [
      "Jumlah baris dan kolom: (54808, 14)\n",
      "\n",
      "Tipe data:\n",
      "employee_id               int64\n",
      "department               object\n",
      "region                   object\n",
      "education                object\n",
      "gender                   object\n",
      "recruitment_channel      object\n",
      "no_of_trainings           int64\n",
      "age                       int64\n",
      "previous_year_rating    float64\n",
      "length_of_service         int64\n",
      "KPIs_met >80%             int64\n",
      "awards_won?               int64\n",
      "avg_training_score        int64\n",
      "is_promoted               int64\n",
      "dtype: object\n",
      "\n",
      "Statistik deskriptif:\n",
      "         employee_id         department    region   education gender  \\\n",
      "count   54808.000000              54808     54808       52399  54808   \n",
      "unique           NaN                  9        34           3      2   \n",
      "top              NaN  Sales & Marketing  region_2  Bachelor's      m   \n",
      "freq             NaN              16840     12343       36669  38496   \n",
      "mean    39195.830627                NaN       NaN         NaN    NaN   \n",
      "std     22586.581449                NaN       NaN         NaN    NaN   \n",
      "min         1.000000                NaN       NaN         NaN    NaN   \n",
      "25%     19669.750000                NaN       NaN         NaN    NaN   \n",
      "50%     39225.500000                NaN       NaN         NaN    NaN   \n",
      "75%     58730.500000                NaN       NaN         NaN    NaN   \n",
      "max     78298.000000                NaN       NaN         NaN    NaN   \n",
      "\n",
      "       recruitment_channel  no_of_trainings           age  \\\n",
      "count                54808     54808.000000  54808.000000   \n",
      "unique                   3              NaN           NaN   \n",
      "top                  other              NaN           NaN   \n",
      "freq                 30446              NaN           NaN   \n",
      "mean                   NaN         1.253011     34.803915   \n",
      "std                    NaN         0.609264      7.660169   \n",
      "min                    NaN         1.000000     20.000000   \n",
      "25%                    NaN         1.000000     29.000000   \n",
      "50%                    NaN         1.000000     33.000000   \n",
      "75%                    NaN         1.000000     39.000000   \n",
      "max                    NaN        10.000000     60.000000   \n",
      "\n",
      "        previous_year_rating  length_of_service  KPIs_met >80%   awards_won?  \\\n",
      "count           50684.000000       54808.000000   54808.000000  54808.000000   \n",
      "unique                   NaN                NaN            NaN           NaN   \n",
      "top                      NaN                NaN            NaN           NaN   \n",
      "freq                     NaN                NaN            NaN           NaN   \n",
      "mean                3.329256           5.865512       0.351974      0.023172   \n",
      "std                 1.259993           4.265094       0.477590      0.150450   \n",
      "min                 1.000000           1.000000       0.000000      0.000000   \n",
      "25%                 3.000000           3.000000       0.000000      0.000000   \n",
      "50%                 3.000000           5.000000       0.000000      0.000000   \n",
      "75%                 4.000000           7.000000       1.000000      0.000000   \n",
      "max                 5.000000          37.000000       1.000000      1.000000   \n",
      "\n",
      "        avg_training_score   is_promoted  \n",
      "count         54808.000000  54808.000000  \n",
      "unique                 NaN           NaN  \n",
      "top                    NaN           NaN  \n",
      "freq                   NaN           NaN  \n",
      "mean             63.386750      0.085170  \n",
      "std              13.371559      0.279137  \n",
      "min              39.000000      0.000000  \n",
      "25%              51.000000      0.000000  \n",
      "50%              60.000000      0.000000  \n",
      "75%              76.000000      0.000000  \n",
      "max              99.000000      1.000000  \n",
      "\n",
      "Jumlah duplikat: 0\n"
     ]
    }
   ],
   "source": [
    "# Shape\n",
    "print(\"Jumlah baris dan kolom:\", df.shape)\n",
    "\n",
    "# Tipe data per kolom\n",
    "print(\"\\nTipe data:\")\n",
    "print(df.dtypes)\n",
    "\n",
    "# Statistik deskriptif\n",
    "print(\"\\nStatistik deskriptif:\")\n",
    "print(df.describe(include='all'))\n",
    "\n",
    "#Cek duplikasi\n",
    "print(\"\\nJumlah duplikat:\", df.duplicated().sum())"
   ]
  },
  {
   "cell_type": "code",
   "execution_count": 4,
   "id": "ba71fe41-7783-4e92-9a66-31950a589a5e",
   "metadata": {},
   "outputs": [
    {
     "data": {
      "text/plain": [
       "54808"
      ]
     },
     "execution_count": 4,
     "metadata": {},
     "output_type": "execute_result"
    }
   ],
   "source": [
    "len(df)"
   ]
  },
  {
   "cell_type": "code",
   "execution_count": 5,
   "id": "b9910662-c44c-438b-b763-5b4c20c245e3",
   "metadata": {},
   "outputs": [
    {
     "name": "stdout",
     "output_type": "stream",
     "text": [
      "\n",
      "Missing values:\n",
      "employee_id                0\n",
      "department                 0\n",
      "region                     0\n",
      "education               2409\n",
      "gender                     0\n",
      "recruitment_channel        0\n",
      "no_of_trainings            0\n",
      "age                        0\n",
      "previous_year_rating    4124\n",
      "length_of_service          0\n",
      "KPIs_met >80%              0\n",
      "awards_won?                0\n",
      "avg_training_score         0\n",
      "is_promoted                0\n",
      "dtype: int64\n"
     ]
    }
   ],
   "source": [
    "\n",
    "print(\"\\nMissing values:\")\n",
    "print(df.isnull().sum())"
   ]
  },
  {
   "cell_type": "code",
   "execution_count": 6,
   "id": "4e00f3a8-5244-4037-ad31-6502ec2609d1",
   "metadata": {},
   "outputs": [
    {
     "data": {
      "text/plain": [
       "48660"
      ]
     },
     "execution_count": 6,
     "metadata": {},
     "output_type": "execute_result"
    }
   ],
   "source": [
    "df = df.dropna()\n",
    "len(df)"
   ]
  },
  {
   "cell_type": "code",
   "execution_count": 7,
   "id": "a80b32a1-2e97-470f-ade2-beb3b9a91964",
   "metadata": {},
   "outputs": [
    {
     "name": "stdout",
     "output_type": "stream",
     "text": [
      "\n",
      "Missing values:\n",
      "employee_id             0\n",
      "department              0\n",
      "region                  0\n",
      "education               0\n",
      "gender                  0\n",
      "recruitment_channel     0\n",
      "no_of_trainings         0\n",
      "age                     0\n",
      "previous_year_rating    0\n",
      "length_of_service       0\n",
      "KPIs_met >80%           0\n",
      "awards_won?             0\n",
      "avg_training_score      0\n",
      "is_promoted             0\n",
      "dtype: int64\n"
     ]
    }
   ],
   "source": [
    "# ---Mengecek Missing Values---\n",
    "print(\"\\nMissing values:\")\n",
    "print(df.isnull().sum())"
   ]
  },
  {
   "cell_type": "code",
   "execution_count": 8,
   "id": "424b9dca-0127-428f-b97c-f1a1bac61025",
   "metadata": {},
   "outputs": [],
   "source": [
    "# ---Mengubah Tipe Data---\n",
    "df['previous_year_rating'] = df['previous_year_rating'].astype(np.int64)"
   ]
  },
  {
   "cell_type": "code",
   "execution_count": 9,
   "id": "a7f5b02f-e360-4faf-a65a-b9da23ead5ce",
   "metadata": {},
   "outputs": [
    {
     "name": "stdout",
     "output_type": "stream",
     "text": [
      "\n",
      "Jumlah duplikat: 0\n"
     ]
    }
   ],
   "source": [
    "# ---Menghapus Duplikasi---\n",
    "df.drop_duplicates(inplace=True)\n",
    "print(\"\\nJumlah duplikat:\", df.duplicated().sum())"
   ]
  },
  {
   "cell_type": "code",
   "execution_count": 10,
   "id": "248bffcc-e864-4eb3-a53f-1c9d0baf5852",
   "metadata": {},
   "outputs": [
    {
     "data": {
      "text/plain": [
       "48660"
      ]
     },
     "execution_count": 10,
     "metadata": {},
     "output_type": "execute_result"
    }
   ],
   "source": [
    "len(df)"
   ]
  },
  {
   "cell_type": "code",
   "execution_count": 11,
   "id": "466c339d-7da1-4e0c-9dd6-01e37ea611fc",
   "metadata": {},
   "outputs": [
    {
     "data": {
      "text/html": [
       "<div>\n",
       "<style scoped>\n",
       "    .dataframe tbody tr th:only-of-type {\n",
       "        vertical-align: middle;\n",
       "    }\n",
       "\n",
       "    .dataframe tbody tr th {\n",
       "        vertical-align: top;\n",
       "    }\n",
       "\n",
       "    .dataframe thead th {\n",
       "        text-align: right;\n",
       "    }\n",
       "</style>\n",
       "<table border=\"1\" class=\"dataframe\">\n",
       "  <thead>\n",
       "    <tr style=\"text-align: right;\">\n",
       "      <th></th>\n",
       "      <th>employee_id</th>\n",
       "      <th>department</th>\n",
       "      <th>region</th>\n",
       "      <th>education</th>\n",
       "      <th>gender</th>\n",
       "      <th>recruitment_channel</th>\n",
       "      <th>no_of_trainings</th>\n",
       "      <th>age</th>\n",
       "      <th>previous_year_rating</th>\n",
       "      <th>length_of_service</th>\n",
       "      <th>KPIs_met &gt;80%</th>\n",
       "      <th>awards_won?</th>\n",
       "      <th>avg_training_score</th>\n",
       "      <th>is_promoted</th>\n",
       "    </tr>\n",
       "  </thead>\n",
       "  <tbody>\n",
       "    <tr>\n",
       "      <th>0</th>\n",
       "      <td>65438</td>\n",
       "      <td>Sales &amp; Marketing</td>\n",
       "      <td>region_7</td>\n",
       "      <td>Master's &amp; above</td>\n",
       "      <td>f</td>\n",
       "      <td>sourcing</td>\n",
       "      <td>1</td>\n",
       "      <td>35</td>\n",
       "      <td>5</td>\n",
       "      <td>8</td>\n",
       "      <td>1</td>\n",
       "      <td>0</td>\n",
       "      <td>49</td>\n",
       "      <td>0</td>\n",
       "    </tr>\n",
       "    <tr>\n",
       "      <th>1</th>\n",
       "      <td>65141</td>\n",
       "      <td>Operations</td>\n",
       "      <td>region_22</td>\n",
       "      <td>Bachelor's</td>\n",
       "      <td>m</td>\n",
       "      <td>other</td>\n",
       "      <td>1</td>\n",
       "      <td>30</td>\n",
       "      <td>5</td>\n",
       "      <td>4</td>\n",
       "      <td>0</td>\n",
       "      <td>0</td>\n",
       "      <td>60</td>\n",
       "      <td>0</td>\n",
       "    </tr>\n",
       "    <tr>\n",
       "      <th>2</th>\n",
       "      <td>7513</td>\n",
       "      <td>Sales &amp; Marketing</td>\n",
       "      <td>region_19</td>\n",
       "      <td>Bachelor's</td>\n",
       "      <td>m</td>\n",
       "      <td>sourcing</td>\n",
       "      <td>1</td>\n",
       "      <td>34</td>\n",
       "      <td>3</td>\n",
       "      <td>7</td>\n",
       "      <td>0</td>\n",
       "      <td>0</td>\n",
       "      <td>50</td>\n",
       "      <td>0</td>\n",
       "    </tr>\n",
       "    <tr>\n",
       "      <th>3</th>\n",
       "      <td>2542</td>\n",
       "      <td>Sales &amp; Marketing</td>\n",
       "      <td>region_23</td>\n",
       "      <td>Bachelor's</td>\n",
       "      <td>m</td>\n",
       "      <td>other</td>\n",
       "      <td>2</td>\n",
       "      <td>39</td>\n",
       "      <td>1</td>\n",
       "      <td>10</td>\n",
       "      <td>0</td>\n",
       "      <td>0</td>\n",
       "      <td>50</td>\n",
       "      <td>0</td>\n",
       "    </tr>\n",
       "    <tr>\n",
       "      <th>4</th>\n",
       "      <td>48945</td>\n",
       "      <td>Technology</td>\n",
       "      <td>region_26</td>\n",
       "      <td>Bachelor's</td>\n",
       "      <td>m</td>\n",
       "      <td>other</td>\n",
       "      <td>1</td>\n",
       "      <td>45</td>\n",
       "      <td>3</td>\n",
       "      <td>2</td>\n",
       "      <td>0</td>\n",
       "      <td>0</td>\n",
       "      <td>73</td>\n",
       "      <td>0</td>\n",
       "    </tr>\n",
       "  </tbody>\n",
       "</table>\n",
       "</div>"
      ],
      "text/plain": [
       "   employee_id         department     region         education gender  \\\n",
       "0        65438  Sales & Marketing   region_7  Master's & above      f   \n",
       "1        65141         Operations  region_22        Bachelor's      m   \n",
       "2         7513  Sales & Marketing  region_19        Bachelor's      m   \n",
       "3         2542  Sales & Marketing  region_23        Bachelor's      m   \n",
       "4        48945         Technology  region_26        Bachelor's      m   \n",
       "\n",
       "  recruitment_channel  no_of_trainings  age  previous_year_rating  \\\n",
       "0            sourcing                1   35                     5   \n",
       "1               other                1   30                     5   \n",
       "2            sourcing                1   34                     3   \n",
       "3               other                2   39                     1   \n",
       "4               other                1   45                     3   \n",
       "\n",
       "   length_of_service  KPIs_met >80%  awards_won?  avg_training_score  \\\n",
       "0                  8              1            0                  49   \n",
       "1                  4              0            0                  60   \n",
       "2                  7              0            0                  50   \n",
       "3                 10              0            0                  50   \n",
       "4                  2              0            0                  73   \n",
       "\n",
       "   is_promoted  \n",
       "0            0  \n",
       "1            0  \n",
       "2            0  \n",
       "3            0  \n",
       "4            0  "
      ]
     },
     "execution_count": 11,
     "metadata": {},
     "output_type": "execute_result"
    }
   ],
   "source": [
    "df.head()"
   ]
  },
  {
   "cell_type": "code",
   "execution_count": 12,
   "id": "bb5776fd-431a-4ddd-8b02-2d80472ffecd",
   "metadata": {},
   "outputs": [],
   "source": [
    "# ---Menghapus Kolom yang Tidak Diperlukan---\n",
    "df.drop([\"employee_id\", \"region\"], axis=1, inplace=True)"
   ]
  },
  {
   "cell_type": "code",
   "execution_count": 13,
   "id": "7baef71e-fa46-42ac-8949-71ee68129414",
   "metadata": {},
   "outputs": [
    {
     "data": {
      "text/html": [
       "<div>\n",
       "<style scoped>\n",
       "    .dataframe tbody tr th:only-of-type {\n",
       "        vertical-align: middle;\n",
       "    }\n",
       "\n",
       "    .dataframe tbody tr th {\n",
       "        vertical-align: top;\n",
       "    }\n",
       "\n",
       "    .dataframe thead th {\n",
       "        text-align: right;\n",
       "    }\n",
       "</style>\n",
       "<table border=\"1\" class=\"dataframe\">\n",
       "  <thead>\n",
       "    <tr style=\"text-align: right;\">\n",
       "      <th></th>\n",
       "      <th>department</th>\n",
       "      <th>education</th>\n",
       "      <th>gender</th>\n",
       "      <th>recruitment_channel</th>\n",
       "      <th>no_of_trainings</th>\n",
       "      <th>age</th>\n",
       "      <th>previous_year_rating</th>\n",
       "      <th>length_of_service</th>\n",
       "      <th>KPIs_met &gt;80%</th>\n",
       "      <th>awards_won?</th>\n",
       "      <th>avg_training_score</th>\n",
       "      <th>is_promoted</th>\n",
       "    </tr>\n",
       "  </thead>\n",
       "  <tbody>\n",
       "    <tr>\n",
       "      <th>0</th>\n",
       "      <td>0</td>\n",
       "      <td>0</td>\n",
       "      <td>0</td>\n",
       "      <td>0</td>\n",
       "      <td>1</td>\n",
       "      <td>35</td>\n",
       "      <td>5</td>\n",
       "      <td>8</td>\n",
       "      <td>1</td>\n",
       "      <td>0</td>\n",
       "      <td>49</td>\n",
       "      <td>0</td>\n",
       "    </tr>\n",
       "    <tr>\n",
       "      <th>1</th>\n",
       "      <td>1</td>\n",
       "      <td>1</td>\n",
       "      <td>1</td>\n",
       "      <td>1</td>\n",
       "      <td>1</td>\n",
       "      <td>30</td>\n",
       "      <td>5</td>\n",
       "      <td>4</td>\n",
       "      <td>0</td>\n",
       "      <td>0</td>\n",
       "      <td>60</td>\n",
       "      <td>0</td>\n",
       "    </tr>\n",
       "    <tr>\n",
       "      <th>2</th>\n",
       "      <td>0</td>\n",
       "      <td>1</td>\n",
       "      <td>1</td>\n",
       "      <td>0</td>\n",
       "      <td>1</td>\n",
       "      <td>34</td>\n",
       "      <td>3</td>\n",
       "      <td>7</td>\n",
       "      <td>0</td>\n",
       "      <td>0</td>\n",
       "      <td>50</td>\n",
       "      <td>0</td>\n",
       "    </tr>\n",
       "    <tr>\n",
       "      <th>3</th>\n",
       "      <td>0</td>\n",
       "      <td>1</td>\n",
       "      <td>1</td>\n",
       "      <td>1</td>\n",
       "      <td>2</td>\n",
       "      <td>39</td>\n",
       "      <td>1</td>\n",
       "      <td>10</td>\n",
       "      <td>0</td>\n",
       "      <td>0</td>\n",
       "      <td>50</td>\n",
       "      <td>0</td>\n",
       "    </tr>\n",
       "    <tr>\n",
       "      <th>4</th>\n",
       "      <td>2</td>\n",
       "      <td>1</td>\n",
       "      <td>1</td>\n",
       "      <td>1</td>\n",
       "      <td>1</td>\n",
       "      <td>45</td>\n",
       "      <td>3</td>\n",
       "      <td>2</td>\n",
       "      <td>0</td>\n",
       "      <td>0</td>\n",
       "      <td>73</td>\n",
       "      <td>0</td>\n",
       "    </tr>\n",
       "  </tbody>\n",
       "</table>\n",
       "</div>"
      ],
      "text/plain": [
       "   department  education  gender  recruitment_channel  no_of_trainings  age  \\\n",
       "0           0          0       0                    0                1   35   \n",
       "1           1          1       1                    1                1   30   \n",
       "2           0          1       1                    0                1   34   \n",
       "3           0          1       1                    1                2   39   \n",
       "4           2          1       1                    1                1   45   \n",
       "\n",
       "   previous_year_rating  length_of_service  KPIs_met >80%  awards_won?  \\\n",
       "0                     5                  8              1            0   \n",
       "1                     5                  4              0            0   \n",
       "2                     3                  7              0            0   \n",
       "3                     1                 10              0            0   \n",
       "4                     3                  2              0            0   \n",
       "\n",
       "   avg_training_score  is_promoted  \n",
       "0                  49            0  \n",
       "1                  60            0  \n",
       "2                  50            0  \n",
       "3                  50            0  \n",
       "4                  73            0  "
      ]
     },
     "execution_count": 13,
     "metadata": {},
     "output_type": "execute_result"
    }
   ],
   "source": [
    "# ---Mengubah String menjadi Kategori---\n",
    "df.department = df.department.map({\"Sales & Marketing\":0,\n",
    "                 \"Operations\":1,\n",
    "                 \"Technology\":2,\n",
    "                 \"Analytics\":3,\n",
    "                 \"R&D\":4,\n",
    "                 \"Procurement\":5,\n",
    "                 \"Finance\":6,\n",
    "                 \"HR\":7,\n",
    "                 \"Legal\":8})\n",
    "df.education = df.education.map({\"Master's & above\":0,\n",
    "                                \"Bachelor's\":1,\n",
    "                                \"Below Secondary\":2})\n",
    "df.gender = df.gender.map({\"f\":0,\n",
    "                          \"m\":1})\n",
    "df.recruitment_channel = df.recruitment_channel.map({\"sourcing\":0,\n",
    "                                                    \"other\":1,\n",
    "                                                    \"referred\":2})\n",
    "df.head()"
   ]
  },
  {
   "cell_type": "code",
   "execution_count": 14,
   "id": "c23968f5",
   "metadata": {},
   "outputs": [
    {
     "data": {
      "text/plain": [
       "5262"
      ]
     },
     "execution_count": 14,
     "metadata": {},
     "output_type": "execute_result"
    }
   ],
   "source": [
    "# --- Menyeimbangkan Promosi ---\n",
    "promoted_df = df[df['is_promoted'] == 1]\n",
    "not_promoted_df = df[df['is_promoted'] == 0]\n",
    "\n",
    "# Undersampling data tidak dipromosi sebanyak jumlah data dipromosi\n",
    "not_promoted_sampled = not_promoted_df.sample(n=len(promoted_df), random_state=42)\n",
    "\n",
    "# Gabungkan jadi dataset seimbang secara promosi\n",
    "balanced_df = pd.concat([promoted_df, not_promoted_sampled])\n",
    "\n",
    "# --- Menyeimbangkan Gender ---\n",
    "female_df = balanced_df[balanced_df['gender'] == 0]\n",
    "male_df = balanced_df[balanced_df['gender'] == 1]\n",
    "\n",
    "# Undersampling laki-laki sebanyak jumlah perempuan\n",
    "male_sampled = male_df.sample(n=len(female_df), random_state=42)\n",
    "\n",
    "# Update balanced_df supaya seimbang secara promosi dan gender\n",
    "balanced_df = pd.concat([female_df, male_sampled])\n",
    "\n",
    "len(balanced_df)"
   ]
  },
  {
   "cell_type": "code",
   "execution_count": 15,
   "id": "f8bbf08e",
   "metadata": {},
   "outputs": [
    {
     "data": {
      "application/vnd.plotly.v1+json": {
       "config": {
        "plotlyServerURL": "https://plot.ly"
       },
       "data": [
        {
         "domain": {
          "x": [
           0,
           1
          ],
          "y": [
           0,
           1
          ]
         },
         "hovertemplate": "Values=%{label}<br>Promoted=%{value}<extra></extra>",
         "labels": [
          "Promoted",
          "Not Promoted"
         ],
         "legendgroup": "",
         "name": "",
         "showlegend": true,
         "type": "pie",
         "values": {
          "bdata": "cgocCg==",
          "dtype": "i2"
         }
        }
       ],
       "layout": {
        "autosize": false,
        "height": 500,
        "legend": {
         "tracegroupgap": 0
        },
        "piecolorway": [
         "rgb(179,226,205)",
         "rgb(253,205,172)",
         "rgb(203,213,232)",
         "rgb(244,202,228)",
         "rgb(230,245,201)",
         "rgb(255,242,174)",
         "rgb(241,226,204)",
         "rgb(204,204,204)"
        ],
        "template": {
         "data": {
          "bar": [
           {
            "error_x": {
             "color": "#2a3f5f"
            },
            "error_y": {
             "color": "#2a3f5f"
            },
            "marker": {
             "line": {
              "color": "#E5ECF6",
              "width": 0.5
             },
             "pattern": {
              "fillmode": "overlay",
              "size": 10,
              "solidity": 0.2
             }
            },
            "type": "bar"
           }
          ],
          "barpolar": [
           {
            "marker": {
             "line": {
              "color": "#E5ECF6",
              "width": 0.5
             },
             "pattern": {
              "fillmode": "overlay",
              "size": 10,
              "solidity": 0.2
             }
            },
            "type": "barpolar"
           }
          ],
          "carpet": [
           {
            "aaxis": {
             "endlinecolor": "#2a3f5f",
             "gridcolor": "white",
             "linecolor": "white",
             "minorgridcolor": "white",
             "startlinecolor": "#2a3f5f"
            },
            "baxis": {
             "endlinecolor": "#2a3f5f",
             "gridcolor": "white",
             "linecolor": "white",
             "minorgridcolor": "white",
             "startlinecolor": "#2a3f5f"
            },
            "type": "carpet"
           }
          ],
          "choropleth": [
           {
            "colorbar": {
             "outlinewidth": 0,
             "ticks": ""
            },
            "type": "choropleth"
           }
          ],
          "contour": [
           {
            "colorbar": {
             "outlinewidth": 0,
             "ticks": ""
            },
            "colorscale": [
             [
              0,
              "#0d0887"
             ],
             [
              0.1111111111111111,
              "#46039f"
             ],
             [
              0.2222222222222222,
              "#7201a8"
             ],
             [
              0.3333333333333333,
              "#9c179e"
             ],
             [
              0.4444444444444444,
              "#bd3786"
             ],
             [
              0.5555555555555556,
              "#d8576b"
             ],
             [
              0.6666666666666666,
              "#ed7953"
             ],
             [
              0.7777777777777778,
              "#fb9f3a"
             ],
             [
              0.8888888888888888,
              "#fdca26"
             ],
             [
              1,
              "#f0f921"
             ]
            ],
            "type": "contour"
           }
          ],
          "contourcarpet": [
           {
            "colorbar": {
             "outlinewidth": 0,
             "ticks": ""
            },
            "type": "contourcarpet"
           }
          ],
          "heatmap": [
           {
            "colorbar": {
             "outlinewidth": 0,
             "ticks": ""
            },
            "colorscale": [
             [
              0,
              "#0d0887"
             ],
             [
              0.1111111111111111,
              "#46039f"
             ],
             [
              0.2222222222222222,
              "#7201a8"
             ],
             [
              0.3333333333333333,
              "#9c179e"
             ],
             [
              0.4444444444444444,
              "#bd3786"
             ],
             [
              0.5555555555555556,
              "#d8576b"
             ],
             [
              0.6666666666666666,
              "#ed7953"
             ],
             [
              0.7777777777777778,
              "#fb9f3a"
             ],
             [
              0.8888888888888888,
              "#fdca26"
             ],
             [
              1,
              "#f0f921"
             ]
            ],
            "type": "heatmap"
           }
          ],
          "histogram": [
           {
            "marker": {
             "pattern": {
              "fillmode": "overlay",
              "size": 10,
              "solidity": 0.2
             }
            },
            "type": "histogram"
           }
          ],
          "histogram2d": [
           {
            "colorbar": {
             "outlinewidth": 0,
             "ticks": ""
            },
            "colorscale": [
             [
              0,
              "#0d0887"
             ],
             [
              0.1111111111111111,
              "#46039f"
             ],
             [
              0.2222222222222222,
              "#7201a8"
             ],
             [
              0.3333333333333333,
              "#9c179e"
             ],
             [
              0.4444444444444444,
              "#bd3786"
             ],
             [
              0.5555555555555556,
              "#d8576b"
             ],
             [
              0.6666666666666666,
              "#ed7953"
             ],
             [
              0.7777777777777778,
              "#fb9f3a"
             ],
             [
              0.8888888888888888,
              "#fdca26"
             ],
             [
              1,
              "#f0f921"
             ]
            ],
            "type": "histogram2d"
           }
          ],
          "histogram2dcontour": [
           {
            "colorbar": {
             "outlinewidth": 0,
             "ticks": ""
            },
            "colorscale": [
             [
              0,
              "#0d0887"
             ],
             [
              0.1111111111111111,
              "#46039f"
             ],
             [
              0.2222222222222222,
              "#7201a8"
             ],
             [
              0.3333333333333333,
              "#9c179e"
             ],
             [
              0.4444444444444444,
              "#bd3786"
             ],
             [
              0.5555555555555556,
              "#d8576b"
             ],
             [
              0.6666666666666666,
              "#ed7953"
             ],
             [
              0.7777777777777778,
              "#fb9f3a"
             ],
             [
              0.8888888888888888,
              "#fdca26"
             ],
             [
              1,
              "#f0f921"
             ]
            ],
            "type": "histogram2dcontour"
           }
          ],
          "mesh3d": [
           {
            "colorbar": {
             "outlinewidth": 0,
             "ticks": ""
            },
            "type": "mesh3d"
           }
          ],
          "parcoords": [
           {
            "line": {
             "colorbar": {
              "outlinewidth": 0,
              "ticks": ""
             }
            },
            "type": "parcoords"
           }
          ],
          "pie": [
           {
            "automargin": true,
            "type": "pie"
           }
          ],
          "scatter": [
           {
            "fillpattern": {
             "fillmode": "overlay",
             "size": 10,
             "solidity": 0.2
            },
            "type": "scatter"
           }
          ],
          "scatter3d": [
           {
            "line": {
             "colorbar": {
              "outlinewidth": 0,
              "ticks": ""
             }
            },
            "marker": {
             "colorbar": {
              "outlinewidth": 0,
              "ticks": ""
             }
            },
            "type": "scatter3d"
           }
          ],
          "scattercarpet": [
           {
            "marker": {
             "colorbar": {
              "outlinewidth": 0,
              "ticks": ""
             }
            },
            "type": "scattercarpet"
           }
          ],
          "scattergeo": [
           {
            "marker": {
             "colorbar": {
              "outlinewidth": 0,
              "ticks": ""
             }
            },
            "type": "scattergeo"
           }
          ],
          "scattergl": [
           {
            "marker": {
             "colorbar": {
              "outlinewidth": 0,
              "ticks": ""
             }
            },
            "type": "scattergl"
           }
          ],
          "scattermap": [
           {
            "marker": {
             "colorbar": {
              "outlinewidth": 0,
              "ticks": ""
             }
            },
            "type": "scattermap"
           }
          ],
          "scattermapbox": [
           {
            "marker": {
             "colorbar": {
              "outlinewidth": 0,
              "ticks": ""
             }
            },
            "type": "scattermapbox"
           }
          ],
          "scatterpolar": [
           {
            "marker": {
             "colorbar": {
              "outlinewidth": 0,
              "ticks": ""
             }
            },
            "type": "scatterpolar"
           }
          ],
          "scatterpolargl": [
           {
            "marker": {
             "colorbar": {
              "outlinewidth": 0,
              "ticks": ""
             }
            },
            "type": "scatterpolargl"
           }
          ],
          "scatterternary": [
           {
            "marker": {
             "colorbar": {
              "outlinewidth": 0,
              "ticks": ""
             }
            },
            "type": "scatterternary"
           }
          ],
          "surface": [
           {
            "colorbar": {
             "outlinewidth": 0,
             "ticks": ""
            },
            "colorscale": [
             [
              0,
              "#0d0887"
             ],
             [
              0.1111111111111111,
              "#46039f"
             ],
             [
              0.2222222222222222,
              "#7201a8"
             ],
             [
              0.3333333333333333,
              "#9c179e"
             ],
             [
              0.4444444444444444,
              "#bd3786"
             ],
             [
              0.5555555555555556,
              "#d8576b"
             ],
             [
              0.6666666666666666,
              "#ed7953"
             ],
             [
              0.7777777777777778,
              "#fb9f3a"
             ],
             [
              0.8888888888888888,
              "#fdca26"
             ],
             [
              1,
              "#f0f921"
             ]
            ],
            "type": "surface"
           }
          ],
          "table": [
           {
            "cells": {
             "fill": {
              "color": "#EBF0F8"
             },
             "line": {
              "color": "white"
             }
            },
            "header": {
             "fill": {
              "color": "#C8D4E3"
             },
             "line": {
              "color": "white"
             }
            },
            "type": "table"
           }
          ]
         },
         "layout": {
          "annotationdefaults": {
           "arrowcolor": "#2a3f5f",
           "arrowhead": 0,
           "arrowwidth": 1
          },
          "autotypenumbers": "strict",
          "coloraxis": {
           "colorbar": {
            "outlinewidth": 0,
            "ticks": ""
           }
          },
          "colorscale": {
           "diverging": [
            [
             0,
             "#8e0152"
            ],
            [
             0.1,
             "#c51b7d"
            ],
            [
             0.2,
             "#de77ae"
            ],
            [
             0.3,
             "#f1b6da"
            ],
            [
             0.4,
             "#fde0ef"
            ],
            [
             0.5,
             "#f7f7f7"
            ],
            [
             0.6,
             "#e6f5d0"
            ],
            [
             0.7,
             "#b8e186"
            ],
            [
             0.8,
             "#7fbc41"
            ],
            [
             0.9,
             "#4d9221"
            ],
            [
             1,
             "#276419"
            ]
           ],
           "sequential": [
            [
             0,
             "#0d0887"
            ],
            [
             0.1111111111111111,
             "#46039f"
            ],
            [
             0.2222222222222222,
             "#7201a8"
            ],
            [
             0.3333333333333333,
             "#9c179e"
            ],
            [
             0.4444444444444444,
             "#bd3786"
            ],
            [
             0.5555555555555556,
             "#d8576b"
            ],
            [
             0.6666666666666666,
             "#ed7953"
            ],
            [
             0.7777777777777778,
             "#fb9f3a"
            ],
            [
             0.8888888888888888,
             "#fdca26"
            ],
            [
             1,
             "#f0f921"
            ]
           ],
           "sequentialminus": [
            [
             0,
             "#0d0887"
            ],
            [
             0.1111111111111111,
             "#46039f"
            ],
            [
             0.2222222222222222,
             "#7201a8"
            ],
            [
             0.3333333333333333,
             "#9c179e"
            ],
            [
             0.4444444444444444,
             "#bd3786"
            ],
            [
             0.5555555555555556,
             "#d8576b"
            ],
            [
             0.6666666666666666,
             "#ed7953"
            ],
            [
             0.7777777777777778,
             "#fb9f3a"
            ],
            [
             0.8888888888888888,
             "#fdca26"
            ],
            [
             1,
             "#f0f921"
            ]
           ]
          },
          "colorway": [
           "#636efa",
           "#EF553B",
           "#00cc96",
           "#ab63fa",
           "#FFA15A",
           "#19d3f3",
           "#FF6692",
           "#B6E880",
           "#FF97FF",
           "#FECB52"
          ],
          "font": {
           "color": "#2a3f5f"
          },
          "geo": {
           "bgcolor": "white",
           "lakecolor": "white",
           "landcolor": "#E5ECF6",
           "showlakes": true,
           "showland": true,
           "subunitcolor": "white"
          },
          "hoverlabel": {
           "align": "left"
          },
          "hovermode": "closest",
          "mapbox": {
           "style": "light"
          },
          "paper_bgcolor": "white",
          "plot_bgcolor": "#E5ECF6",
          "polar": {
           "angularaxis": {
            "gridcolor": "white",
            "linecolor": "white",
            "ticks": ""
           },
           "bgcolor": "#E5ECF6",
           "radialaxis": {
            "gridcolor": "white",
            "linecolor": "white",
            "ticks": ""
           }
          },
          "scene": {
           "xaxis": {
            "backgroundcolor": "#E5ECF6",
            "gridcolor": "white",
            "gridwidth": 2,
            "linecolor": "white",
            "showbackground": true,
            "ticks": "",
            "zerolinecolor": "white"
           },
           "yaxis": {
            "backgroundcolor": "#E5ECF6",
            "gridcolor": "white",
            "gridwidth": 2,
            "linecolor": "white",
            "showbackground": true,
            "ticks": "",
            "zerolinecolor": "white"
           },
           "zaxis": {
            "backgroundcolor": "#E5ECF6",
            "gridcolor": "white",
            "gridwidth": 2,
            "linecolor": "white",
            "showbackground": true,
            "ticks": "",
            "zerolinecolor": "white"
           }
          },
          "shapedefaults": {
           "line": {
            "color": "#2a3f5f"
           }
          },
          "ternary": {
           "aaxis": {
            "gridcolor": "white",
            "linecolor": "white",
            "ticks": ""
           },
           "baxis": {
            "gridcolor": "white",
            "linecolor": "white",
            "ticks": ""
           },
           "bgcolor": "#E5ECF6",
           "caxis": {
            "gridcolor": "white",
            "linecolor": "white",
            "ticks": ""
           }
          },
          "title": {
           "x": 0.05
          },
          "xaxis": {
           "automargin": true,
           "gridcolor": "white",
           "linecolor": "white",
           "ticks": "",
           "title": {
            "standoff": 15
           },
           "zerolinecolor": "white",
           "zerolinewidth": 2
          },
          "yaxis": {
           "automargin": true,
           "gridcolor": "white",
           "linecolor": "white",
           "ticks": "",
           "title": {
            "standoff": 15
           },
           "zerolinecolor": "white",
           "zerolinewidth": 2
          }
         }
        },
        "title": {
         "text": "Promoted Employees"
        },
        "width": 1000
       }
      }
     },
     "metadata": {},
     "output_type": "display_data"
    }
   ],
   "source": [
    "# --- 3. Visualisasi Data ---\n",
    "import plotly.express as px\n",
    "promo = pd.DataFrame(balanced_df.is_promoted.value_counts())\n",
    "promo.columns = [\"Promoted\"]\n",
    "promo[\"Values\"] = promo.index\n",
    "promo[\"Values\"] = promo[\"Values\"].map({0: \"Not Promoted\", 1: \"Promoted\"})\n",
    "\n",
    "fig = px.pie(\n",
    "    promo,\n",
    "    values=\"Promoted\",\n",
    "    names=\"Values\",\n",
    "    title=\"Promoted Employees\",\n",
    "    color_discrete_sequence=px.colors.qualitative.Pastel2\n",
    ")\n",
    "\n",
    "fig.update_layout(autosize=False, width=1000, height=500)\n",
    "fig.show()"
   ]
  },
  {
   "cell_type": "code",
   "execution_count": 16,
   "id": "2632294b",
   "metadata": {},
   "outputs": [
    {
     "data": {
      "image/png": "[encoded data removed]",
      "text/plain": [
       "<Figure size 1300x800 with 1 Axes>"
      ]
     },
     "metadata": {},
     "output_type": "display_data"
    }
   ],
   "source": [
    "# --- 4. Visualisasi Promosi berdasarkan Jenis Kelamin ---\n",
    "import matplotlib.pyplot as plt\n",
    "import seaborn as sns\n",
    "sns.set_theme(style='darkgrid')\n",
    "sns.set_palette(\"pastel\")\n",
    "\n",
    "gender = pd.DataFrame(balanced_df.groupby(\"is_promoted\").gender.value_counts().reset_index(name='Values'))\n",
    "\n",
    "plt.figure(figsize=(13, 8))\n",
    "sns.barplot(x='gender', y='Values', data=gender, hue='is_promoted')\n",
    "plt.title(\"Promoted and Not Promoted Employees by Gender\")\n",
    "plt.legend(title='Promoted', bbox_to_anchor=(1.05, 1), loc='upper left')\n",
    "plt.xlabel('Gender')\n",
    "plt.show()"
   ]
  },
  {
   "cell_type": "code",
   "execution_count": 17,
   "id": "af7a57fd-a7e7-40c0-8304-5c53ca70b08b",
   "metadata": {},
   "outputs": [
    {
     "data": {
      "text/plain": [
       "InsertManyResult([ObjectId('681a2a86a522f6645b22fcf2'), ObjectId('681a2a86a522f6645b22fcf3'), ObjectId('681a2a86a522f6645b22fcf4'), ObjectId('681a2a86a522f6645b22fcf5'), ObjectId('681a2a86a522f6645b22fcf6'), ObjectId('681a2a86a522f6645b22fcf7'), ObjectId('681a2a86a522f6645b22fcf8'), ObjectId('681a2a86a522f6645b22fcf9'), ObjectId('681a2a86a522f6645b22fcfa'), ObjectId('681a2a86a522f6645b22fcfb'), ObjectId('681a2a86a522f6645b22fcfc'), ObjectId('681a2a86a522f6645b22fcfd'), ObjectId('681a2a86a522f6645b22fcfe'), ObjectId('681a2a86a522f6645b22fcff'), ObjectId('681a2a86a522f6645b22fd00'), ObjectId('681a2a86a522f6645b22fd01'), ObjectId('681a2a86a522f6645b22fd02'), ObjectId('681a2a86a522f6645b22fd03'), ObjectId('681a2a86a522f6645b22fd04'), ObjectId('681a2a86a522f6645b22fd05'), ObjectId('681a2a86a522f6645b22fd06'), ObjectId('681a2a86a522f6645b22fd07'), ObjectId('681a2a86a522f6645b22fd08'), ObjectId('681a2a86a522f6645b22fd09'), ObjectId('681a2a86a522f6645b22fd0a'), ObjectId('681a2a86a522f6645b22fd0b'), ObjectId('681a2a86a522f6645b22fd0c'), ObjectId('681a2a86a522f6645b22fd0d'), ObjectId('681a2a86a522f6645b22fd0e'), ObjectId('681a2a86a522f6645b22fd0f'), ObjectId('681a2a86a522f6645b22fd10'), ObjectId('681a2a86a522f6645b22fd11'), ObjectId('681a2a86a522f6645b22fd12'), ObjectId('681a2a86a522f6645b22fd13'), ObjectId('681a2a86a522f6645b22fd14'), ObjectId('681a2a86a522f6645b22fd15'), ObjectId('681a2a86a522f6645b22fd16'), ObjectId('681a2a86a522f6645b22fd17'), ObjectId('681a2a86a522f6645b22fd18'), ObjectId('681a2a86a522f6645b22fd19'), ObjectId('681a2a86a522f6645b22fd1a'), ObjectId('681a2a86a522f6645b22fd1b'), ObjectId('681a2a86a522f6645b22fd1c'), ObjectId('681a2a86a522f6645b22fd1d'), ObjectId('681a2a86a522f6645b22fd1e'), ObjectId('681a2a86a522f6645b22fd1f'), ObjectId('681a2a86a522f6645b22fd20'), ObjectId('681a2a86a522f6645b22fd21'), ObjectId('681a2a86a522f6645b22fd22'), ObjectId('681a2a86a522f6645b22fd23'), ObjectId('681a2a86a522f6645b22fd24'), ObjectId('681a2a86a522f6645b22fd25'), ObjectId('681a2a86a522f6645b22fd26'), ObjectId('681a2a86a522f6645b22fd27'), ObjectId('681a2a86a522f6645b22fd28'), ObjectId('681a2a86a522f6645b22fd29'), ObjectId('681a2a86a522f6645b22fd2a'), ObjectId('681a2a86a522f6645b22fd2b'), ObjectId('681a2a86a522f6645b22fd2c'), ObjectId('681a2a86a522f6645b22fd2d'), ObjectId('681a2a86a522f6645b22fd2e'), ObjectId('681a2a86a522f6645b22fd2f'), ObjectId('681a2a86a522f6645b22fd30'), ObjectId('681a2a86a522f6645b22fd31'), ObjectId('681a2a86a522f6645b22fd32'), ObjectId('681a2a86a522f6645b22fd33'), ObjectId('681a2a86a522f6645b22fd34'), ObjectId('681a2a86a522f6645b22fd35'), ObjectId('681a2a86a522f6645b22fd36'), ObjectId('681a2a86a522f6645b22fd37'), ObjectId('681a2a86a522f6645b22fd38'), ObjectId('681a2a86a522f6645b22fd39'), ObjectId('681a2a86a522f6645b22fd3a'), ObjectId('681a2a86a522f6645b22fd3b'), ObjectId('681a2a86a522f6645b22fd3c'), ObjectId('681a2a86a522f6645b22fd3d'), ObjectId('681a2a86a522f6645b22fd3e'), ObjectId('681a2a86a522f6645b22fd3f'), ObjectId('681a2a86a522f6645b22fd40'), ObjectId('681a2a86a522f6645b22fd41'), ObjectId('681a2a86a522f6645b22fd42'), ObjectId('681a2a86a522f6645b22fd43'), ObjectId('681a2a86a522f6645b22fd44'), ObjectId('681a2a86a522f6645b22fd45'), ObjectId('681a2a86a522f6645b22fd46'), ObjectId('681a2a86a522f6645b22fd47'), ObjectId('681a2a86a522f6645b22fd48'), ObjectId('681a2a86a522f6645b22fd49'), ObjectId('681a2a86a522f6645b22fd4a'), ObjectId('681a2a86a522f6645b22fd4b'), ObjectId('681a2a86a522f6645b22fd4c'), ObjectId('681a2a86a522f6645b22fd4d'), ObjectId('681a2a86a522f6645b22fd4e'), ObjectId('681a2a86a522f6645b22fd4f'), ObjectId('681a2a86a522f6645b22fd50'), ObjectId('681a2a86a522f6645b22fd51'), ObjectId('681a2a86a522f6645b22fd52'), ObjectId('681a2a86a522f6645b22fd53'), ObjectId('681a2a86a522f6645b22fd54'), ObjectId('681a2a86a522f6645b22fd55'), ObjectId('681a2a86a522f6645b22fd56'), ObjectId('681a2a86a522f6645b22fd57'), ObjectId('681a2a86a522f6645b22fd58'), ObjectId('681a2a86a522f6645b22fd59'), ObjectId('681a2a86a522f6645b22fd5a'), ObjectId('681a2a86a522f6645b22fd5b'), ObjectId('681a2a86a522f6645b22fd5c'), ObjectId('681a2a86a522f6645b22fd5d'), ObjectId('681a2a86a522f6645b22fd5e'), ObjectId('681a2a86a522f6645b22fd5f'), ObjectId('681a2a86a522f6645b22fd60'), ObjectId('681a2a86a522f6645b22fd61'), ObjectId('681a2a86a522f6645b22fd62'), ObjectId('681a2a86a522f6645b22fd63'), ObjectId('681a2a86a522f6645b22fd64'), ObjectId('681a2a86a522f6645b22fd65'), ObjectId('681a2a86a522f6645b22fd66'), ObjectId('681a2a86a522f6645b22fd67'), ObjectId('681a2a86a522f6645b22fd68'), ObjectId('681a2a86a522f6645b22fd69'), ObjectId('681a2a86a522f6645b22fd6a'), ObjectId('681a2a86a522f6645b22fd6b'), ObjectId('681a2a86a522f6645b22fd6c'), ObjectId('681a2a86a522f6645b22fd6d'), ObjectId('681a2a86a522f6645b22fd6e'), ObjectId('681a2a86a522f6645b22fd6f'), ObjectId('681a2a86a522f6645b22fd70'), ObjectId('681a2a86a522f6645b22fd71'), ObjectId('681a2a86a522f6645b22fd72'), ObjectId('681a2a86a522f6645b22fd73'), ObjectId('681a2a86a522f6645b22fd74'), ObjectId('681a2a86a522f6645b22fd75'), ObjectId('681a2a86a522f6645b22fd76'), ObjectId('681a2a86a522f6645b22fd77'), ObjectId('681a2a86a522f6645b22fd78'), ObjectId('681a2a86a522f6645b22fd79'), ObjectId('681a2a86a522f6645b22fd7a'), ObjectId('681a2a86a522f6645b22fd7b'), ObjectId('681a2a86a522f6645b22fd7c'), ObjectId('681a2a86a522f6645b22fd7d'), ObjectId('681a2a86a522f6645b22fd7e'), ObjectId('681a2a86a522f6645b22fd7f'), ObjectId('681a2a86a522f6645b22fd80'), ObjectId('681a2a86a522f6645b22fd81'), ObjectId('681a2a86a522f6645b22fd82'), ObjectId('681a2a86a522f6645b22fd83'), ObjectId('681a2a86a522f6645b22fd84'), ObjectId('681a2a86a522f6645b22fd85'), ObjectId('681a2a86a522f6645b22fd86'), ObjectId('681a2a86a522f6645b22fd87'), ObjectId('681a2a86a522f6645b22fd88'), ObjectId('681a2a86a522f6645b22fd89'), ObjectId('681a2a86a522f6645b22fd8a'), ObjectId('681a2a86a522f6645b22fd8b'), ObjectId('681a2a86a522f6645b22fd8c'), ObjectId('681a2a86a522f6645b22fd8d'), ObjectId('681a2a86a522f6645b22fd8e'), ObjectId('681a2a86a522f6645b22fd8f'), ObjectId('681a2a86a522f6645b22fd90'), ObjectId('681a2a86a522f6645b22fd91'), ObjectId('681a2a86a522f6645b22fd92'), ObjectId('681a2a86a522f6645b22fd93'), ObjectId('681a2a86a522f6645b22fd94'), ObjectId('681a2a86a522f6645b22fd95'), ObjectId('681a2a86a522f6645b22fd96'), ObjectId('681a2a86a522f6645b22fd97'), ObjectId('681a2a86a522f6645b22fd98'), ObjectId('681a2a86a522f6645b22fd99'), ObjectId('681a2a86a522f6645b22fd9a'), ObjectId('681a2a86a522f6645b22fd9b'), ObjectId('681a2a86a522f6645b22fd9c'), ObjectId('681a2a86a522f6645b22fd9d'), ObjectId('681a2a86a522f6645b22fd9e'), ObjectId('681a2a86a522f6645b22fd9f'), ObjectId('681a2a86a522f6645b22fda0'), ObjectId('681a2a86a522f6645b22fda1'), ObjectId('681a2a86a522f6645b22fda2'), ObjectId('681a2a86a522f6645b22fda3'), ObjectId('681a2a86a522f6645b22fda4'), ObjectId('681a2a86a522f6645b22fda5'), ObjectId('681a2a86a522f6645b22fda6'), ObjectId('681a2a86a522f6645b22fda7'), ObjectId('681a2a86a522f6645b22fda8'), ObjectId('681a2a86a522f6645b22fda9'), ObjectId('681a2a86a522f6645b22fdaa'), ObjectId('681a2a86a522f6645b22fdab'), ObjectId('681a2a86a522f6645b22fdac'), ObjectId('681a2a86a522f6645b22fdad'), ObjectId('681a2a86a522f6645b22fdae'), ObjectId('681a2a86a522f6645b22fdaf'), ObjectId('681a2a86a522f6645b22fdb0'), ObjectId('681a2a86a522f6645b22fdb1'), ObjectId('681a2a86a522f6645b22fdb2'), ObjectId('681a2a86a522f6645b22fdb3'), ObjectId('681a2a86a522f6645b22fdb4'), ObjectId('681a2a86a522f6645b22fdb5'), ObjectId('681a2a86a522f6645b22fdb6'), ObjectId('681a2a86a522f6645b22fdb7'), ObjectId('681a2a86a522f6645b22fdb8'), ObjectId('681a2a86a522f6645b22fdb9'), ObjectId('681a2a86a522f6645b22fdba'), ObjectId('681a2a86a522f6645b22fdbb'), ObjectId('681a2a86a522f6645b22fdbc'), ObjectId('681a2a86a522f6645b22fdbd'), ObjectId('681a2a86a522f6645b22fdbe'), ObjectId('681a2a86a522f6645b22fdbf'), ObjectId('681a2a86a522f6645b22fdc0'), ObjectId('681a2a86a522f6645b22fdc1'), ObjectId('681a2a86a522f6645b22fdc2'), ObjectId('681a2a86a522f6645b22fdc3'), ObjectId('681a2a86a522f6645b22fdc4'), ObjectId('681a2a86a522f6645b22fdc5'), ObjectId('681a2a86a522f6645b22fdc6'), ObjectId('681a2a86a522f6645b22fdc7'), ObjectId('681a2a86a522f6645b22fdc8'), ObjectId('681a2a86a522f6645b22fdc9'), ObjectId('681a2a86a522f6645b22fdca'), ObjectId('681a2a86a522f6645b22fdcb'), ObjectId('681a2a86a522f6645b22fdcc'), ObjectId('681a2a86a522f6645b22fdcd'), ObjectId('681a2a86a522f6645b22fdce'), ObjectId('681a2a86a522f6645b22fdcf'), ObjectId('681a2a86a522f6645b22fdd0'), ObjectId('681a2a86a522f6645b22fdd1'), ObjectId('681a2a86a522f6645b22fdd2'), ObjectId('681a2a86a522f6645b22fdd3'), ObjectId('681a2a86a522f6645b22fdd4'), ObjectId('681a2a86a522f6645b22fdd5'), ObjectId('681a2a86a522f6645b22fdd6'), ObjectId('681a2a86a522f6645b22fdd7'), ObjectId('681a2a86a522f6645b22fdd8'), ObjectId('681a2a86a522f6645b22fdd9'), ObjectId('681a2a86a522f6645b22fdda'), ObjectId('681a2a86a522f6645b22fddb'), ObjectId('681a2a86a522f6645b22fddc'), ObjectId('681a2a86a522f6645b22fddd'), ObjectId('681a2a86a522f6645b22fdde'), ObjectId('681a2a86a522f6645b22fddf'), ObjectId('681a2a86a522f6645b22fde0'), ObjectId('681a2a86a522f6645b22fde1'), ObjectId('681a2a86a522f6645b22fde2'), ObjectId('681a2a86a522f6645b22fde3'), ObjectId('681a2a86a522f6645b22fde4'), ObjectId('681a2a86a522f6645b22fde5'), ObjectId('681a2a86a522f6645b22fde6'), ObjectId('681a2a86a522f6645b22fde7'), ObjectId('681a2a86a522f6645b22fde8'), ObjectId('681a2a86a522f6645b22fde9'), ObjectId('681a2a86a522f6645b22fdea'), ObjectId('681a2a86a522f6645b22fdeb'), ObjectId('681a2a86a522f6645b22fdec'), ObjectId('681a2a86a522f6645b22fded'), ObjectId('681a2a86a522f6645b22fdee'), ObjectId('681a2a86a522f6645b22fdef'), ObjectId('681a2a86a522f6645b22fdf0'), ObjectId('681a2a86a522f6645b22fdf1'), ObjectId('681a2a86a522f6645b22fdf2'), ObjectId('681a2a86a522f6645b22fdf3'), ObjectId('681a2a86a522f6645b22fdf4'), ObjectId('681a2a86a522f6645b22fdf5'), ObjectId('681a2a86a522f6645b22fdf6'), ObjectId('681a2a86a522f6645b22fdf7'), ObjectId('681a2a86a522f6645b22fdf8'), ObjectId('681a2a86a522f6645b22fdf9'), ObjectId('681a2a86a522f6645b22fdfa'), ObjectId('681a2a86a522f6645b22fdfb'), ObjectId('681a2a86a522f6645b22fdfc'), ObjectId('681a2a86a522f6645b22fdfd'), ObjectId('681a2a86a522f6645b22fdfe'), ObjectId('681a2a86a522f6645b22fdff'), ObjectId('681a2a86a522f6645b22fe00'), ObjectId('681a2a86a522f6645b22fe01'), ObjectId('681a2a86a522f6645b22fe02'), ObjectId('681a2a86a522f6645b22fe03'), ObjectId('681a2a86a522f6645b22fe04'), ObjectId('681a2a86a522f6645b22fe05'), ObjectId('681a2a86a522f6645b22fe06'), ObjectId('681a2a86a522f6645b22fe07'), ObjectId('681a2a86a522f6645b22fe08'), ObjectId('681a2a86a522f6645b22fe09'), ObjectId('681a2a86a522f6645b22fe0a'), ObjectId('681a2a86a522f6645b22fe0b'), ObjectId('681a2a86a522f6645b22fe0c'), ObjectId('681a2a86a522f6645b22fe0d'), ObjectId('681a2a86a522f6645b22fe0e'), ObjectId('681a2a86a522f6645b22fe0f'), ObjectId('681a2a86a522f6645b22fe10'), ObjectId('681a2a86a522f6645b22fe11'), ObjectId('681a2a86a522f6645b22fe12'), ObjectId('681a2a86a522f6645b22fe13'), ObjectId('681a2a86a522f6645b22fe14'), ObjectId('681a2a86a522f6645b22fe15'), ObjectId('681a2a86a522f6645b22fe16'), ObjectId('681a2a86a522f6645b22fe17'), ObjectId('681a2a86a522f6645b22fe18'), ObjectId('681a2a86a522f6645b22fe19'), ObjectId('681a2a86a522f6645b22fe1a'), ObjectId('681a2a86a522f6645b22fe1b'), ObjectId('681a2a86a522f6645b22fe1c'), ObjectId('681a2a86a522f6645b22fe1d'), ObjectId('681a2a86a522f6645b22fe1e'), ObjectId('681a2a86a522f6645b22fe1f'), ObjectId('681a2a86a522f6645b22fe20'), ObjectId('681a2a86a522f6645b22fe21'), ObjectId('681a2a86a522f6645b22fe22'), ObjectId('681a2a86a522f6645b22fe23'), ObjectId('681a2a86a522f6645b22fe24'), ObjectId('681a2a86a522f6645b22fe25'), ObjectId('681a2a86a522f6645b22fe26'), ObjectId('681a2a86a522f6645b22fe27'), ObjectId('681a2a86a522f6645b22fe28'), ObjectId('681a2a86a522f6645b22fe29'), ObjectId('681a2a86a522f6645b22fe2a'), ObjectId('681a2a86a522f6645b22fe2b'), ObjectId('681a2a86a522f6645b22fe2c'), ObjectId('681a2a86a522f6645b22fe2d'), ObjectId('681a2a86a522f6645b22fe2e'), ObjectId('681a2a86a522f6645b22fe2f'), ObjectId('681a2a86a522f6645b22fe30'), ObjectId('681a2a86a522f6645b22fe31'), ObjectId('681a2a86a522f6645b22fe32'), ObjectId('681a2a86a522f6645b22fe33'), ObjectId('681a2a86a522f6645b22fe34'), ObjectId('681a2a86a522f6645b22fe35'), ObjectId('681a2a86a522f6645b22fe36'), ObjectId('681a2a86a522f6645b22fe37'), ObjectId('681a2a86a522f6645b22fe38'), ObjectId('681a2a86a522f6645b22fe39'), ObjectId('681a2a86a522f6645b22fe3a'), ObjectId('681a2a86a522f6645b22fe3b'), ObjectId('681a2a86a522f6645b22fe3c'), ObjectId('681a2a86a522f6645b22fe3d'), ObjectId('681a2a86a522f6645b22fe3e'), ObjectId('681a2a86a522f6645b22fe3f'), ObjectId('681a2a86a522f6645b22fe40'), ObjectId('681a2a86a522f6645b22fe41'), ObjectId('681a2a86a522f6645b22fe42'), ObjectId('681a2a86a522f6645b22fe43'), ObjectId('681a2a86a522f6645b22fe44'), ObjectId('681a2a86a522f6645b22fe45'), ObjectId('681a2a86a522f6645b22fe46'), ObjectId('681a2a86a522f6645b22fe47'), ObjectId('681a2a86a522f6645b22fe48'), ObjectId('681a2a86a522f6645b22fe49'), ObjectId('681a2a86a522f6645b22fe4a'), ObjectId('681a2a86a522f6645b22fe4b'), ObjectId('681a2a86a522f6645b22fe4c'), ObjectId('681a2a86a522f6645b22fe4d'), ObjectId('681a2a86a522f6645b22fe4e'), ObjectId('681a2a86a522f6645b22fe4f'), ObjectId('681a2a86a522f6645b22fe50'), ObjectId('681a2a86a522f6645b22fe51'), ObjectId('681a2a86a522f6645b22fe52'), ObjectId('681a2a86a522f6645b22fe53'), ObjectId('681a2a86a522f6645b22fe54'), ObjectId('681a2a86a522f6645b22fe55'), ObjectId('681a2a86a522f6645b22fe56'), ObjectId('681a2a86a522f6645b22fe57'), ObjectId('681a2a86a522f6645b22fe58'), ObjectId('681a2a86a522f6645b22fe59'), ObjectId('681a2a86a522f6645b22fe5a'), ObjectId('681a2a86a522f6645b22fe5b'), ObjectId('681a2a86a522f6645b22fe5c'), ObjectId('681a2a86a522f6645b22fe5d'), ObjectId('681a2a86a522f6645b22fe5e'), ObjectId('681a2a86a522f6645b22fe5f'), ObjectId('681a2a86a522f6645b22fe60'), ObjectId('681a2a86a522f6645b22fe61'), ObjectId('681a2a86a522f6645b22fe62'), ObjectId('681a2a86a522f6645b22fe63'), ObjectId('681a2a86a522f6645b22fe64'), ObjectId('681a2a86a522f6645b22fe65'), ObjectId('681a2a86a522f6645b22fe66'), ObjectId('681a2a86a522f6645b22fe67'), ObjectId('681a2a86a522f6645b22fe68'), ObjectId('681a2a86a522f6645b22fe69'), ObjectId('681a2a86a522f6645b22fe6a'), ObjectId('681a2a86a522f6645b22fe6b'), ObjectId('681a2a86a522f6645b22fe6c'), ObjectId('681a2a86a522f6645b22fe6d'), ObjectId('681a2a86a522f6645b22fe6e'), ObjectId('681a2a86a522f6645b22fe6f'), ObjectId('681a2a86a522f6645b22fe70'), ObjectId('681a2a86a522f6645b22fe71'), ObjectId('681a2a86a522f6645b22fe72'), ObjectId('681a2a86a522f6645b22fe73'), ObjectId('681a2a86a522f6645b22fe74'), ObjectId('681a2a86a522f6645b22fe75'), ObjectId('681a2a86a522f6645b22fe76'), ObjectId('681a2a86a522f6645b22fe77'), ObjectId('681a2a86a522f6645b22fe78'), ObjectId('681a2a86a522f6645b22fe79'), ObjectId('681a2a86a522f6645b22fe7a'), ObjectId('681a2a86a522f6645b22fe7b'), ObjectId('681a2a86a522f6645b22fe7c'), ObjectId('681a2a86a522f6645b22fe7d'), ObjectId('681a2a86a522f6645b22fe7e'), ObjectId('681a2a86a522f6645b22fe7f'), ObjectId('681a2a86a522f6645b22fe80'), ObjectId('681a2a86a522f6645b22fe81'), ObjectId('681a2a86a522f6645b22fe82'), ObjectId('681a2a86a522f6645b22fe83'), ObjectId('681a2a86a522f6645b22fe84'), ObjectId('681a2a86a522f6645b22fe85'), ObjectId('681a2a86a522f6645b22fe86'), ObjectId('681a2a86a522f6645b22fe87'), ObjectId('681a2a86a522f6645b22fe88'), ObjectId('681a2a86a522f6645b22fe89'), ObjectId('681a2a86a522f6645b22fe8a'), ObjectId('681a2a86a522f6645b22fe8b'), ObjectId('681a2a86a522f6645b22fe8c'), ObjectId('681a2a86a522f6645b22fe8d'), ObjectId('681a2a86a522f6645b22fe8e'), ObjectId('681a2a86a522f6645b22fe8f'), ObjectId('681a2a86a522f6645b22fe90'), ObjectId('681a2a86a522f6645b22fe91'), ObjectId('681a2a86a522f6645b22fe92'), ObjectId('681a2a86a522f6645b22fe93'), ObjectId('681a2a86a522f6645b22fe94'), ObjectId('681a2a86a522f6645b22fe95'), ObjectId('681a2a86a522f6645b22fe96'), ObjectId('681a2a86a522f6645b22fe97'), ObjectId('681a2a86a522f6645b22fe98'), ObjectId('681a2a86a522f6645b22fe99'), ObjectId('681a2a86a522f6645b22fe9a'), ObjectId('681a2a86a522f6645b22fe9b'), ObjectId('681a2a86a522f6645b22fe9c'), ObjectId('681a2a86a522f6645b22fe9d'), ObjectId('681a2a86a522f6645b22fe9e'), ObjectId('681a2a86a522f6645b22fe9f'), ObjectId('681a2a86a522f6645b22fea0'), ObjectId('681a2a86a522f6645b22fea1'), ObjectId('681a2a86a522f6645b22fea2'), ObjectId('681a2a86a522f6645b22fea3'), ObjectId('681a2a86a522f6645b22fea4'), ObjectId('681a2a86a522f6645b22fea5'), ObjectId('681a2a86a522f6645b22fea6'), ObjectId('681a2a86a522f6645b22fea7'), ObjectId('681a2a86a522f6645b22fea8'), ObjectId('681a2a86a522f6645b22fea9'), ObjectId('681a2a86a522f6645b22feaa'), ObjectId('681a2a86a522f6645b22feab'), ObjectId('681a2a86a522f6645b22feac'), ObjectId('681a2a86a522f6645b22fead'), ObjectId('681a2a86a522f6645b22feae'), ObjectId('681a2a86a522f6645b22feaf'), ObjectId('681a2a86a522f6645b22feb0'), ObjectId('681a2a86a522f6645b22feb1'), ObjectId('681a2a86a522f6645b22feb2'), ObjectId('681a2a86a522f6645b22feb3'), ObjectId('681a2a86a522f6645b22feb4'), ObjectId('681a2a86a522f6645b22feb5'), ObjectId('681a2a86a522f6645b22feb6'), ObjectId('681a2a86a522f6645b22feb7'), ObjectId('681a2a86a522f6645b22feb8'), ObjectId('681a2a86a522f6645b22feb9'), ObjectId('681a2a86a522f6645b22feba'), ObjectId('681a2a86a522f6645b22febb'), ObjectId('681a2a86a522f6645b22febc'), ObjectId('681a2a86a522f6645b22febd'), ObjectId('681a2a86a522f6645b22febe'), ObjectId('681a2a86a522f6645b22febf'), ObjectId('681a2a86a522f6645b22fec0'), ObjectId('681a2a86a522f6645b22fec1'), ObjectId('681a2a86a522f6645b22fec2'), ObjectId('681a2a86a522f6645b22fec3'), ObjectId('681a2a86a522f6645b22fec4'), ObjectId('681a2a86a522f6645b22fec5'), ObjectId('681a2a86a522f6645b22fec6'), ObjectId('681a2a86a522f6645b22fec7'), ObjectId('681a2a86a522f6645b22fec8'), ObjectId('681a2a86a522f6645b22fec9'), ObjectId('681a2a86a522f6645b22feca'), ObjectId('681a2a86a522f6645b22fecb'), ObjectId('681a2a86a522f6645b22fecc'), ObjectId('681a2a86a522f6645b22fecd'), ObjectId('681a2a86a522f6645b22fece'), ObjectId('681a2a86a522f6645b22fecf'), ObjectId('681a2a86a522f6645b22fed0'), ObjectId('681a2a86a522f6645b22fed1'), ObjectId('681a2a86a522f6645b22fed2'), ObjectId('681a2a86a522f6645b22fed3'), ObjectId('681a2a86a522f6645b22fed4'), ObjectId('681a2a86a522f6645b22fed5'), ObjectId('681a2a86a522f6645b22fed6'), ObjectId('681a2a86a522f6645b22fed7'), ObjectId('681a2a86a522f6645b22fed8'), ObjectId('681a2a86a522f6645b22fed9'), ObjectId('681a2a86a522f6645b22feda'), ObjectId('681a2a86a522f6645b22fedb'), ObjectId('681a2a86a522f6645b22fedc'), ObjectId('681a2a86a522f6645b22fedd'), ObjectId('681a2a86a522f6645b22fede'), ObjectId('681a2a86a522f6645b22fedf'), ObjectId('681a2a86a522f6645b22fee0'), ObjectId('681a2a86a522f6645b22fee1'), ObjectId('681a2a86a522f6645b22fee2'), ObjectId('681a2a86a522f6645b22fee3'), ObjectId('681a2a86a522f6645b22fee4'), ObjectId('681a2a86a522f6645b22fee5'), ObjectId('681a2a86a522f6645b22fee6'), ObjectId('681a2a86a522f6645b22fee7'), ObjectId('681a2a86a522f6645b22fee8'), ObjectId('681a2a86a522f6645b22fee9'), ObjectId('681a2a86a522f6645b22feea'), ObjectId('681a2a86a522f6645b22feeb'), ObjectId('681a2a86a522f6645b22feec'), ObjectId('681a2a86a522f6645b22feed'), ObjectId('681a2a86a522f6645b22feee'), ObjectId('681a2a86a522f6645b22feef'), ObjectId('681a2a86a522f6645b22fef0'), ObjectId('681a2a86a522f6645b22fef1'), ObjectId('681a2a86a522f6645b22fef2'), ObjectId('681a2a86a522f6645b22fef3'), ObjectId('681a2a86a522f6645b22fef4'), ObjectId('681a2a86a522f6645b22fef5'), ObjectId('681a2a86a522f6645b22fef6'), ObjectId('681a2a86a522f6645b22fef7'), ObjectId('681a2a86a522f6645b22fef8'), ObjectId('681a2a86a522f6645b22fef9'), ObjectId('681a2a86a522f6645b22fefa'), ObjectId('681a2a86a522f6645b22fefb'), ObjectId('681a2a86a522f6645b22fefc'), ObjectId('681a2a86a522f6645b22fefd'), ObjectId('681a2a86a522f6645b22fefe'), ObjectId('681a2a86a522f6645b22feff'), ObjectId('681a2a86a522f6645b22ff00'), ObjectId('681a2a86a522f6645b22ff01'), ObjectId('681a2a86a522f6645b22ff02'), ObjectId('681a2a86a522f6645b22ff03'), ObjectId('681a2a86a522f6645b22ff04'), ObjectId('681a2a86a522f6645b22ff05'), ObjectId('681a2a86a522f6645b22ff06'), ObjectId('681a2a86a522f6645b22ff07'), ObjectId('681a2a86a522f6645b22ff08'), ObjectId('681a2a86a522f6645b22ff09'), ObjectId('681a2a86a522f6645b22ff0a'), ObjectId('681a2a86a522f6645b22ff0b'), ObjectId('681a2a86a522f6645b22ff0c'), ObjectId('681a2a86a522f6645b22ff0d'), ObjectId('681a2a86a522f6645b22ff0e'), ObjectId('681a2a86a522f6645b22ff0f'), ObjectId('681a2a86a522f6645b22ff10'), ObjectId('681a2a86a522f6645b22ff11'), ObjectId('681a2a86a522f6645b22ff12'), ObjectId('681a2a86a522f6645b22ff13'), ObjectId('681a2a86a522f6645b22ff14'), ObjectId('681a2a86a522f6645b22ff15'), ObjectId('681a2a86a522f6645b22ff16'), ObjectId('681a2a86a522f6645b22ff17'), ObjectId('681a2a86a522f6645b22ff18'), ObjectId('681a2a86a522f6645b22ff19'), ObjectId('681a2a86a522f6645b22ff1a'), ObjectId('681a2a86a522f6645b22ff1b'), ObjectId('681a2a86a522f6645b22ff1c'), ObjectId('681a2a86a522f6645b22ff1d'), ObjectId('681a2a86a522f6645b22ff1e'), ObjectId('681a2a86a522f6645b22ff1f'), ObjectId('681a2a86a522f6645b22ff20'), ObjectId('681a2a86a522f6645b22ff21'), ObjectId('681a2a86a522f6645b22ff22'), ObjectId('681a2a86a522f6645b22ff23'), ObjectId('681a2a86a522f6645b22ff24'), ObjectId('681a2a86a522f6645b22ff25'), ObjectId('681a2a86a522f6645b22ff26'), ObjectId('681a2a86a522f6645b22ff27'), ObjectId('681a2a86a522f6645b22ff28'), ObjectId('681a2a86a522f6645b22ff29'), ObjectId('681a2a86a522f6645b22ff2a'), ObjectId('681a2a86a522f6645b22ff2b'), ObjectId('681a2a86a522f6645b22ff2c'), ObjectId('681a2a86a522f6645b22ff2d'), ObjectId('681a2a86a522f6645b22ff2e'), ObjectId('681a2a86a522f6645b22ff2f'), ObjectId('681a2a86a522f6645b22ff30'), ObjectId('681a2a86a522f6645b22ff31'), ObjectId('681a2a86a522f6645b22ff32'), ObjectId('681a2a86a522f6645b22ff33'), ObjectId('681a2a86a522f6645b22ff34'), ObjectId('681a2a86a522f6645b22ff35'), ObjectId('681a2a86a522f6645b22ff36'), ObjectId('681a2a86a522f6645b22ff37'), ObjectId('681a2a86a522f6645b22ff38'), ObjectId('681a2a86a522f6645b22ff39'), ObjectId('681a2a86a522f6645b22ff3a'), ObjectId('681a2a86a522f6645b22ff3b'), ObjectId('681a2a86a522f6645b22ff3c'), ObjectId('681a2a86a522f6645b22ff3d'), ObjectId('681a2a86a522f6645b22ff3e'), ObjectId('681a2a86a522f6645b22ff3f'), ObjectId('681a2a86a522f6645b22ff40'), ObjectId('681a2a86a522f6645b22ff41'), ObjectId('681a2a86a522f6645b22ff42'), ObjectId('681a2a86a522f6645b22ff43'), ObjectId('681a2a86a522f6645b22ff44'), ObjectId('681a2a86a522f6645b22ff45'), ObjectId('681a2a86a522f6645b22ff46'), ObjectId('681a2a86a522f6645b22ff47'), ObjectId('681a2a86a522f6645b22ff48'), ObjectId('681a2a86a522f6645b22ff49'), ObjectId('681a2a86a522f6645b22ff4a'), ObjectId('681a2a86a522f6645b22ff4b'), ObjectId('681a2a86a522f6645b22ff4c'), ObjectId('681a2a86a522f6645b22ff4d'), ObjectId('681a2a86a522f6645b22ff4e'), ObjectId('681a2a86a522f6645b22ff4f'), ObjectId('681a2a86a522f6645b22ff50'), ObjectId('681a2a86a522f6645b22ff51'), ObjectId('681a2a86a522f6645b22ff52'), ObjectId('681a2a86a522f6645b22ff53'), ObjectId('681a2a86a522f6645b22ff54'), ObjectId('681a2a86a522f6645b22ff55'), ObjectId('681a2a86a522f6645b22ff56'), ObjectId('681a2a86a522f6645b22ff57'), ObjectId('681a2a86a522f6645b22ff58'), ObjectId('681a2a86a522f6645b22ff59'), ObjectId('681a2a86a522f6645b22ff5a'), ObjectId('681a2a86a522f6645b22ff5b'), ObjectId('681a2a86a522f6645b22ff5c'), ObjectId('681a2a86a522f6645b22ff5d'), ObjectId('681a2a86a522f6645b22ff5e'), ObjectId('681a2a86a522f6645b22ff5f'), ObjectId('681a2a86a522f6645b22ff60'), ObjectId('681a2a86a522f6645b22ff61'), ObjectId('681a2a86a522f6645b22ff62'), ObjectId('681a2a86a522f6645b22ff63'), ObjectId('681a2a86a522f6645b22ff64'), ObjectId('681a2a86a522f6645b22ff65'), ObjectId('681a2a86a522f6645b22ff66'), ObjectId('681a2a86a522f6645b22ff67'), ObjectId('681a2a86a522f6645b22ff68'), ObjectId('681a2a86a522f6645b22ff69'), ObjectId('681a2a86a522f6645b22ff6a'), ObjectId('681a2a86a522f6645b22ff6b'), ObjectId('681a2a86a522f6645b22ff6c'), ObjectId('681a2a86a522f6645b22ff6d'), ObjectId('681a2a86a522f6645b22ff6e'), ObjectId('681a2a86a522f6645b22ff6f'), ObjectId('681a2a86a522f6645b22ff70'), ObjectId('681a2a86a522f6645b22ff71'), ObjectId('681a2a86a522f6645b22ff72'), ObjectId('681a2a86a522f6645b22ff73'), ObjectId('681a2a86a522f6645b22ff74'), ObjectId('681a2a86a522f6645b22ff75'), ObjectId('681a2a86a522f6645b22ff76'), ObjectId('681a2a86a522f6645b22ff77'), ObjectId('681a2a86a522f6645b22ff78'), ObjectId('681a2a86a522f6645b22ff79'), ObjectId('681a2a86a522f6645b22ff7a'), ObjectId('681a2a86a522f6645b22ff7b'), ObjectId('681a2a86a522f6645b22ff7c'), ObjectId('681a2a86a522f6645b22ff7d'), ObjectId('681a2a86a522f6645b22ff7e'), ObjectId('681a2a86a522f6645b22ff7f'), ObjectId('681a2a86a522f6645b22ff80'), ObjectId('681a2a86a522f6645b22ff81'), ObjectId('681a2a86a522f6645b22ff82'), ObjectId('681a2a86a522f6645b22ff83'), ObjectId('681a2a86a522f6645b22ff84'), ObjectId('681a2a86a522f6645b22ff85'), ObjectId('681a2a86a522f6645b22ff86'), ObjectId('681a2a86a522f6645b22ff87'), ObjectId('681a2a86a522f6645b22ff88'), ObjectId('681a2a86a522f6645b22ff89'), ObjectId('681a2a86a522f6645b22ff8a'), ObjectId('681a2a86a522f6645b22ff8b'), ObjectId('681a2a86a522f6645b22ff8c'), ObjectId('681a2a86a522f6645b22ff8d'), ObjectId('681a2a86a522f6645b22ff8e'), ObjectId('681a2a86a522f6645b22ff8f'), ObjectId('681a2a86a522f6645b22ff90'), ObjectId('681a2a86a522f6645b22ff91'), ObjectId('681a2a86a522f6645b22ff92'), ObjectId('681a2a86a522f6645b22ff93'), ObjectId('681a2a86a522f6645b22ff94'), ObjectId('681a2a86a522f6645b22ff95'), ObjectId('681a2a86a522f6645b22ff96'), ObjectId('681a2a86a522f6645b22ff97'), ObjectId('681a2a86a522f6645b22ff98'), ObjectId('681a2a86a522f6645b22ff99'), ObjectId('681a2a86a522f6645b22ff9a'), ObjectId('681a2a86a522f6645b22ff9b'), ObjectId('681a2a86a522f6645b22ff9c'), ObjectId('681a2a86a522f6645b22ff9d'), ObjectId('681a2a86a522f6645b22ff9e'), ObjectId('681a2a86a522f6645b22ff9f'), ObjectId('681a2a86a522f6645b22ffa0'), ObjectId('681a2a86a522f6645b22ffa1'), ObjectId('681a2a86a522f6645b22ffa2'), ObjectId('681a2a86a522f6645b22ffa3'), ObjectId('681a2a86a522f6645b22ffa4'), ObjectId('681a2a86a522f6645b22ffa5'), ObjectId('681a2a86a522f6645b22ffa6'), ObjectId('681a2a86a522f6645b22ffa7'), ObjectId('681a2a86a522f6645b22ffa8'), ObjectId('681a2a86a522f6645b22ffa9'), ObjectId('681a2a86a522f6645b22ffaa'), ObjectId('681a2a86a522f6645b22ffab'), ObjectId('681a2a86a522f6645b22ffac'), ObjectId('681a2a86a522f6645b22ffad'), ObjectId('681a2a86a522f6645b22ffae'), ObjectId('681a2a86a522f6645b22ffaf'), ObjectId('681a2a86a522f6645b22ffb0'), ObjectId('681a2a86a522f6645b22ffb1'), ObjectId('681a2a86a522f6645b22ffb2'), ObjectId('681a2a86a522f6645b22ffb3'), ObjectId('681a2a86a522f6645b22ffb4'), ObjectId('681a2a86a522f6645b22ffb5'), ObjectId('681a2a86a522f6645b22ffb6'), ObjectId('681a2a86a522f6645b22ffb7'), ObjectId('681a2a86a522f6645b22ffb8'), ObjectId('681a2a86a522f6645b22ffb9'), ObjectId('681a2a86a522f6645b22ffba'), ObjectId('681a2a86a522f6645b22ffbb'), ObjectId('681a2a86a522f6645b22ffbc'), ObjectId('681a2a86a522f6645b22ffbd'), ObjectId('681a2a86a522f6645b22ffbe'), ObjectId('681a2a86a522f6645b22ffbf'), ObjectId('681a2a86a522f6645b22ffc0'), ObjectId('681a2a86a522f6645b22ffc1'), ObjectId('681a2a86a522f6645b22ffc2'), ObjectId('681a2a86a522f6645b22ffc3'), ObjectId('681a2a86a522f6645b22ffc4'), ObjectId('681a2a86a522f6645b22ffc5'), ObjectId('681a2a86a522f6645b22ffc6'), ObjectId('681a2a86a522f6645b22ffc7'), ObjectId('681a2a86a522f6645b22ffc8'), ObjectId('681a2a86a522f6645b22ffc9'), ObjectId('681a2a86a522f6645b22ffca'), ObjectId('681a2a86a522f6645b22ffcb'), ObjectId('681a2a86a522f6645b22ffcc'), ObjectId('681a2a86a522f6645b22ffcd'), ObjectId('681a2a86a522f6645b22ffce'), ObjectId('681a2a86a522f6645b22ffcf'), ObjectId('681a2a86a522f6645b22ffd0'), ObjectId('681a2a86a522f6645b22ffd1'), ObjectId('681a2a86a522f6645b22ffd2'), ObjectId('681a2a86a522f6645b22ffd3'), ObjectId('681a2a86a522f6645b22ffd4'), ObjectId('681a2a86a522f6645b22ffd5'), ObjectId('681a2a86a522f6645b22ffd6'), ObjectId('681a2a86a522f6645b22ffd7'), ObjectId('681a2a86a522f6645b22ffd8'), ObjectId('681a2a86a522f6645b22ffd9'), ObjectId('681a2a86a522f6645b22ffda'), ObjectId('681a2a86a522f6645b22ffdb'), ObjectId('681a2a86a522f6645b22ffdc'), ObjectId('681a2a86a522f6645b22ffdd'), ObjectId('681a2a86a522f6645b22ffde'), ObjectId('681a2a86a522f6645b22ffdf'), ObjectId('681a2a86a522f6645b22ffe0'), ObjectId('681a2a86a522f6645b22ffe1'), ObjectId('681a2a86a522f6645b22ffe2'), ObjectId('681a2a86a522f6645b22ffe3'), ObjectId('681a2a86a522f6645b22ffe4'), ObjectId('681a2a86a522f6645b22ffe5'), ObjectId('681a2a86a522f6645b22ffe6'), ObjectId('681a2a86a522f6645b22ffe7'), ObjectId('681a2a86a522f6645b22ffe8'), ObjectId('681a2a86a522f6645b22ffe9'), ObjectId('681a2a86a522f6645b22ffea'), ObjectId('681a2a86a522f6645b22ffeb'), ObjectId('681a2a86a522f6645b22ffec'), ObjectId('681a2a86a522f6645b22ffed'), ObjectId('681a2a86a522f6645b22ffee'), ObjectId('681a2a86a522f6645b22ffef'), ObjectId('681a2a86a522f6645b22fff0'), ObjectId('681a2a86a522f6645b22fff1'), ObjectId('681a2a86a522f6645b22fff2'), ObjectId('681a2a86a522f6645b22fff3'), ObjectId('681a2a86a522f6645b22fff4'), ObjectId('681a2a86a522f6645b22fff5'), ObjectId('681a2a86a522f6645b22fff6'), ObjectId('681a2a86a522f6645b22fff7'), ObjectId('681a2a86a522f6645b22fff8'), ObjectId('681a2a86a522f6645b22fff9'), ObjectId('681a2a86a522f6645b22fffa'), ObjectId('681a2a86a522f6645b22fffb'), ObjectId('681a2a86a522f6645b22fffc'), ObjectId('681a2a86a522f6645b22fffd'), ObjectId('681a2a86a522f6645b22fffe'), ObjectId('681a2a86a522f6645b22ffff'), ObjectId('681a2a86a522f6645b230000'), ObjectId('681a2a86a522f6645b230001'), ObjectId('681a2a86a522f6645b230002'), ObjectId('681a2a86a522f6645b230003'), ObjectId('681a2a86a522f6645b230004'), ObjectId('681a2a86a522f6645b230005'), ObjectId('681a2a86a522f6645b230006'), ObjectId('681a2a86a522f6645b230007'), ObjectId('681a2a86a522f6645b230008'), ObjectId('681a2a86a522f6645b230009'), ObjectId('681a2a86a522f6645b23000a'), ObjectId('681a2a86a522f6645b23000b'), ObjectId('681a2a86a522f6645b23000c'), ObjectId('681a2a86a522f6645b23000d'), ObjectId('681a2a86a522f6645b23000e'), ObjectId('681a2a86a522f6645b23000f'), ObjectId('681a2a86a522f6645b230010'), ObjectId('681a2a86a522f6645b230011'), ObjectId('681a2a86a522f6645b230012'), ObjectId('681a2a86a522f6645b230013'), ObjectId('681a2a86a522f6645b230014'), ObjectId('681a2a86a522f6645b230015'), ObjectId('681a2a86a522f6645b230016'), ObjectId('681a2a86a522f6645b230017'), ObjectId('681a2a86a522f6645b230018'), ObjectId('681a2a86a522f6645b230019'), ObjectId('681a2a86a522f6645b23001a'), ObjectId('681a2a86a522f6645b23001b'), ObjectId('681a2a86a522f6645b23001c'), ObjectId('681a2a86a522f6645b23001d'), ObjectId('681a2a86a522f6645b23001e'), ObjectId('681a2a86a522f6645b23001f'), ObjectId('681a2a86a522f6645b230020'), ObjectId('681a2a86a522f6645b230021'), ObjectId('681a2a86a522f6645b230022'), ObjectId('681a2a86a522f6645b230023'), ObjectId('681a2a86a522f6645b230024'), ObjectId('681a2a86a522f6645b230025'), ObjectId('681a2a86a522f6645b230026'), ObjectId('681a2a86a522f6645b230027'), ObjectId('681a2a86a522f6645b230028'), ObjectId('681a2a86a522f6645b230029'), ObjectId('681a2a86a522f6645b23002a'), ObjectId('681a2a86a522f6645b23002b'), ObjectId('681a2a86a522f6645b23002c'), ObjectId('681a2a86a522f6645b23002d'), ObjectId('681a2a86a522f6645b23002e'), ObjectId('681a2a86a522f6645b23002f'), ObjectId('681a2a86a522f6645b230030'), ObjectId('681a2a86a522f6645b230031'), ObjectId('681a2a86a522f6645b230032'), ObjectId('681a2a86a522f6645b230033'), ObjectId('681a2a86a522f6645b230034'), ObjectId('681a2a86a522f6645b230035'), ObjectId('681a2a86a522f6645b230036'), ObjectId('681a2a86a522f6645b230037'), ObjectId('681a2a86a522f6645b230038'), ObjectId('681a2a86a522f6645b230039'), ObjectId('681a2a86a522f6645b23003a'), ObjectId('681a2a86a522f6645b23003b'), ObjectId('681a2a86a522f6645b23003c'), ObjectId('681a2a86a522f6645b23003d'), ObjectId('681a2a86a522f6645b23003e'), ObjectId('681a2a86a522f6645b23003f'), ObjectId('681a2a86a522f6645b230040'), ObjectId('681a2a86a522f6645b230041'), ObjectId('681a2a86a522f6645b230042'), ObjectId('681a2a86a522f6645b230043'), ObjectId('681a2a86a522f6645b230044'), ObjectId('681a2a86a522f6645b230045'), ObjectId('681a2a86a522f6645b230046'), ObjectId('681a2a86a522f6645b230047'), ObjectId('681a2a86a522f6645b230048'), ObjectId('681a2a86a522f6645b230049'), ObjectId('681a2a86a522f6645b23004a'), ObjectId('681a2a86a522f6645b23004b'), ObjectId('681a2a86a522f6645b23004c'), ObjectId('681a2a86a522f6645b23004d'), ObjectId('681a2a86a522f6645b23004e'), ObjectId('681a2a86a522f6645b23004f'), ObjectId('681a2a86a522f6645b230050'), ObjectId('681a2a86a522f6645b230051'), ObjectId('681a2a86a522f6645b230052'), ObjectId('681a2a86a522f6645b230053'), ObjectId('681a2a86a522f6645b230054'), ObjectId('681a2a86a522f6645b230055'), ObjectId('681a2a86a522f6645b230056'), ObjectId('681a2a86a522f6645b230057'), ObjectId('681a2a86a522f6645b230058'), ObjectId('681a2a86a522f6645b230059'), ObjectId('681a2a86a522f6645b23005a'), ObjectId('681a2a86a522f6645b23005b'), ObjectId('681a2a86a522f6645b23005c'), ObjectId('681a2a86a522f6645b23005d'), ObjectId('681a2a86a522f6645b23005e'), ObjectId('681a2a86a522f6645b23005f'), ObjectId('681a2a86a522f6645b230060'), ObjectId('681a2a86a522f6645b230061'), ObjectId('681a2a86a522f6645b230062'), ObjectId('681a2a86a522f6645b230063'), ObjectId('681a2a86a522f6645b230064'), ObjectId('681a2a86a522f6645b230065'), ObjectId('681a2a86a522f6645b230066'), ObjectId('681a2a86a522f6645b230067'), ObjectId('681a2a86a522f6645b230068'), ObjectId('681a2a86a522f6645b230069'), ObjectId('681a2a86a522f6645b23006a'), ObjectId('681a2a86a522f6645b23006b'), ObjectId('681a2a86a522f6645b23006c'), ObjectId('681a2a86a522f6645b23006d'), ObjectId('681a2a86a522f6645b23006e'), ObjectId('681a2a86a522f6645b23006f'), ObjectId('681a2a86a522f6645b230070'), ObjectId('681a2a86a522f6645b230071'), ObjectId('681a2a86a522f6645b230072'), ObjectId('681a2a86a522f6645b230073'), ObjectId('681a2a86a522f6645b230074'), ObjectId('681a2a86a522f6645b230075'), ObjectId('681a2a86a522f6645b230076'), ObjectId('681a2a86a522f6645b230077'), ObjectId('681a2a86a522f6645b230078'), ObjectId('681a2a86a522f6645b230079'), ObjectId('681a2a86a522f6645b23007a'), ObjectId('681a2a86a522f6645b23007b'), ObjectId('681a2a86a522f6645b23007c'), ObjectId('681a2a86a522f6645b23007d'), ObjectId('681a2a86a522f6645b23007e'), ObjectId('681a2a86a522f6645b23007f'), ObjectId('681a2a86a522f6645b230080'), ObjectId('681a2a86a522f6645b230081'), ObjectId('681a2a86a522f6645b230082'), ObjectId('681a2a86a522f6645b230083'), ObjectId('681a2a86a522f6645b230084'), ObjectId('681a2a86a522f6645b230085'), ObjectId('681a2a86a522f6645b230086'), ObjectId('681a2a86a522f6645b230087'), ObjectId('681a2a86a522f6645b230088'), ObjectId('681a2a86a522f6645b230089'), ObjectId('681a2a86a522f6645b23008a'), ObjectId('681a2a86a522f6645b23008b'), ObjectId('681a2a86a522f6645b23008c'), ObjectId('681a2a86a522f6645b23008d'), ObjectId('681a2a86a522f6645b23008e'), ObjectId('681a2a86a522f6645b23008f'), ObjectId('681a2a86a522f6645b230090'), ObjectId('681a2a86a522f6645b230091'), ObjectId('681a2a86a522f6645b230092'), ObjectId('681a2a86a522f6645b230093'), ObjectId('681a2a86a522f6645b230094'), ObjectId('681a2a86a522f6645b230095'), ObjectId('681a2a86a522f6645b230096'), ObjectId('681a2a86a522f6645b230097'), ObjectId('681a2a86a522f6645b230098'), ObjectId('681a2a86a522f6645b230099'), ObjectId('681a2a86a522f6645b23009a'), ObjectId('681a2a86a522f6645b23009b'), ObjectId('681a2a86a522f6645b23009c'), ObjectId('681a2a86a522f6645b23009d'), ObjectId('681a2a86a522f6645b23009e'), ObjectId('681a2a86a522f6645b23009f'), ObjectId('681a2a86a522f6645b2300a0'), ObjectId('681a2a86a522f6645b2300a1'), ObjectId('681a2a86a522f6645b2300a2'), ObjectId('681a2a86a522f6645b2300a3'), ObjectId('681a2a86a522f6645b2300a4'), ObjectId('681a2a86a522f6645b2300a5'), ObjectId('681a2a86a522f6645b2300a6'), ObjectId('681a2a86a522f6645b2300a7'), ObjectId('681a2a86a522f6645b2300a8'), ObjectId('681a2a86a522f6645b2300a9'), ObjectId('681a2a86a522f6645b2300aa'), ObjectId('681a2a86a522f6645b2300ab'), ObjectId('681a2a86a522f6645b2300ac'), ObjectId('681a2a86a522f6645b2300ad'), ObjectId('681a2a86a522f6645b2300ae'), ObjectId('681a2a86a522f6645b2300af'), ObjectId('681a2a86a522f6645b2300b0'), ObjectId('681a2a86a522f6645b2300b1'), ObjectId('681a2a86a522f6645b2300b2'), ObjectId('681a2a86a522f6645b2300b3'), ObjectId('681a2a86a522f6645b2300b4'), ObjectId('681a2a86a522f6645b2300b5'), ObjectId('681a2a86a522f6645b2300b6'), ObjectId('681a2a86a522f6645b2300b7'), ObjectId('681a2a86a522f6645b2300b8'), ObjectId('681a2a86a522f6645b2300b9'), ObjectId('681a2a86a522f6645b2300ba'), ObjectId('681a2a86a522f6645b2300bb'), ObjectId('681a2a86a522f6645b2300bc'), ObjectId('681a2a86a522f6645b2300bd'), ObjectId('681a2a86a522f6645b2300be'), ObjectId('681a2a86a522f6645b2300bf'), ObjectId('681a2a86a522f6645b2300c0'), ObjectId('681a2a86a522f6645b2300c1'), ObjectId('681a2a86a522f6645b2300c2'), ObjectId('681a2a86a522f6645b2300c3'), ObjectId('681a2a86a522f6645b2300c4'), ObjectId('681a2a86a522f6645b2300c5'), ObjectId('681a2a86a522f6645b2300c6'), ObjectId('681a2a86a522f6645b2300c7'), ObjectId('681a2a86a522f6645b2300c8'), ObjectId('681a2a86a522f6645b2300c9'), ObjectId('681a2a86a522f6645b2300ca'), ObjectId('681a2a86a522f6645b2300cb'), ObjectId('681a2a86a522f6645b2300cc'), ObjectId('681a2a86a522f6645b2300cd'), ObjectId('681a2a86a522f6645b2300ce'), ObjectId('681a2a86a522f6645b2300cf'), ObjectId('681a2a86a522f6645b2300d0'), ObjectId('681a2a86a522f6645b2300d1'), ObjectId('681a2a86a522f6645b2300d2'), ObjectId('681a2a86a522f6645b2300d3'), ObjectId('681a2a86a522f6645b2300d4'), ObjectId('681a2a86a522f6645b2300d5'), ObjectId('681a2a86a522f6645b2300d6'), ObjectId('681a2a86a522f6645b2300d7'), ObjectId('681a2a86a522f6645b2300d8'), ObjectId('681a2a86a522f6645b2300d9'), ObjectId('681a2a86a522f6645b2300da'), ObjectId('681a2a86a522f6645b2300db'), ObjectId('681a2a86a522f6645b2300dc'), ObjectId('681a2a86a522f6645b2300dd'), ObjectId('681a2a86a522f6645b2300de'), ObjectId('681a2a86a522f6645b2300df'), ObjectId('681a2a86a522f6645b2300e0'), ObjectId('681a2a86a522f6645b2300e1'), ObjectId('681a2a86a522f6645b2300e2'), ObjectId('681a2a86a522f6645b2300e3'), ObjectId('681a2a86a522f6645b2300e4'), ObjectId('681a2a86a522f6645b2300e5'), ObjectId('681a2a86a522f6645b2300e6'), ObjectId('681a2a86a522f6645b2300e7'), ObjectId('681a2a86a522f6645b2300e8'), ObjectId('681a2a86a522f6645b2300e9'), ObjectId('681a2a86a522f6645b2300ea'), ObjectId('681a2a86a522f6645b2300eb'), ObjectId('681a2a86a522f6645b2300ec'), ObjectId('681a2a86a522f6645b2300ed'), ObjectId('681a2a86a522f6645b2300ee'), ObjectId('681a2a86a522f6645b2300ef'), ObjectId('681a2a86a522f6645b2300f0'), ObjectId('681a2a86a522f6645b2300f1'), ObjectId('681a2a86a522f6645b2300f2'), ObjectId('681a2a86a522f6645b2300f3'), ObjectId('681a2a86a522f6645b2300f4'), ObjectId('681a2a86a522f6645b2300f5'), ObjectId('681a2a86a522f6645b2300f6'), ObjectId('681a2a86a522f6645b2300f7'), ObjectId('681a2a86a522f6645b2300f8'), ObjectId('681a2a86a522f6645b2300f9'), ObjectId('681a2a86a522f6645b2300fa'), ObjectId('681a2a86a522f6645b2300fb'), ObjectId('681a2a86a522f6645b2300fc'), ObjectId('681a2a86a522f6645b2300fd'), ObjectId('681a2a86a522f6645b2300fe'), ObjectId('681a2a86a522f6645b2300ff'), ObjectId('681a2a86a522f6645b230100'), ObjectId('681a2a86a522f6645b230101'), ObjectId('681a2a86a522f6645b230102'), ObjectId('681a2a86a522f6645b230103'), ObjectId('681a2a86a522f6645b230104'), ObjectId('681a2a86a522f6645b230105'), ObjectId('681a2a86a522f6645b230106'), ObjectId('681a2a86a522f6645b230107'), ObjectId('681a2a86a522f6645b230108'), ObjectId('681a2a86a522f6645b230109'), ObjectId('681a2a86a522f6645b23010a'), ObjectId('681a2a86a522f6645b23010b'), ObjectId('681a2a86a522f6645b23010c'), ObjectId('681a2a86a522f6645b23010d'), ObjectId('681a2a86a522f6645b23010e'), ObjectId('681a2a86a522f6645b23010f'), ObjectId('681a2a86a522f6645b230110'), ObjectId('681a2a86a522f6645b230111'), ObjectId('681a2a86a522f6645b230112'), ObjectId('681a2a86a522f6645b230113'), ObjectId('681a2a86a522f6645b230114'), ObjectId('681a2a86a522f6645b230115'), ObjectId('681a2a86a522f6645b230116'), ObjectId('681a2a86a522f6645b230117'), ObjectId('681a2a86a522f6645b230118'), ObjectId('681a2a86a522f6645b230119'), ObjectId('681a2a86a522f6645b23011a'), ObjectId('681a2a86a522f6645b23011b'), ObjectId('681a2a86a522f6645b23011c'), ObjectId('681a2a86a522f6645b23011d'), ObjectId('681a2a86a522f6645b23011e'), ObjectId('681a2a86a522f6645b23011f'), ObjectId('681a2a86a522f6645b230120'), ObjectId('681a2a86a522f6645b230121'), ObjectId('681a2a86a522f6645b230122'), ObjectId('681a2a86a522f6645b230123'), ObjectId('681a2a86a522f6645b230124'), ObjectId('681a2a86a522f6645b230125'), ObjectId('681a2a86a522f6645b230126'), ObjectId('681a2a86a522f6645b230127'), ObjectId('681a2a86a522f6645b230128'), ObjectId('681a2a86a522f6645b230129'), ObjectId('681a2a86a522f6645b23012a'), ObjectId('681a2a86a522f6645b23012b'), ObjectId('681a2a86a522f6645b23012c'), ObjectId('681a2a86a522f6645b23012d'), ObjectId('681a2a86a522f6645b23012e'), ObjectId('681a2a86a522f6645b23012f'), ObjectId('681a2a86a522f6645b230130'), ObjectId('681a2a86a522f6645b230131'), ObjectId('681a2a86a522f6645b230132'), ObjectId('681a2a86a522f6645b230133'), ObjectId('681a2a86a522f6645b230134'), ObjectId('681a2a86a522f6645b230135'), ObjectId('681a2a86a522f6645b230136'), ObjectId('681a2a86a522f6645b230137'), ObjectId('681a2a86a522f6645b230138'), ObjectId('681a2a86a522f6645b230139'), ObjectId('681a2a86a522f6645b23013a'), ObjectId('681a2a86a522f6645b23013b'), ObjectId('681a2a86a522f6645b23013c'), ObjectId('681a2a86a522f6645b23013d'), ObjectId('681a2a86a522f6645b23013e'), ObjectId('681a2a86a522f6645b23013f'), ObjectId('681a2a86a522f6645b230140'), ObjectId('681a2a86a522f6645b230141'), ObjectId('681a2a86a522f6645b230142'), ObjectId('681a2a86a522f6645b230143'), ObjectId('681a2a86a522f6645b230144'), ObjectId('681a2a86a522f6645b230145'), ObjectId('681a2a86a522f6645b230146'), ObjectId('681a2a86a522f6645b230147'), ObjectId('681a2a86a522f6645b230148'), ObjectId('681a2a86a522f6645b230149'), ObjectId('681a2a86a522f6645b23014a'), ObjectId('681a2a86a522f6645b23014b'), ObjectId('681a2a86a522f6645b23014c'), ObjectId('681a2a86a522f6645b23014d'), ObjectId('681a2a86a522f6645b23014e'), ObjectId('681a2a86a522f6645b23014f'), ObjectId('681a2a86a522f6645b230150'), ObjectId('681a2a86a522f6645b230151'), ObjectId('681a2a86a522f6645b230152'), ObjectId('681a2a86a522f6645b230153'), ObjectId('681a2a86a522f6645b230154'), ObjectId('681a2a86a522f6645b230155'), ObjectId('681a2a86a522f6645b230156'), ObjectId('681a2a86a522f6645b230157'), ObjectId('681a2a86a522f6645b230158'), ObjectId('681a2a86a522f6645b230159'), ObjectId('681a2a86a522f6645b23015a'), ObjectId('681a2a86a522f6645b23015b'), ObjectId('681a2a86a522f6645b23015c'), ObjectId('681a2a86a522f6645b23015d'), ObjectId('681a2a86a522f6645b23015e'), ObjectId('681a2a86a522f6645b23015f'), ObjectId('681a2a86a522f6645b230160'), ObjectId('681a2a86a522f6645b230161'), ObjectId('681a2a86a522f6645b230162'), ObjectId('681a2a86a522f6645b230163'), ObjectId('681a2a86a522f6645b230164'), ObjectId('681a2a86a522f6645b230165'), ObjectId('681a2a86a522f6645b230166'), ObjectId('681a2a86a522f6645b230167'), ObjectId('681a2a86a522f6645b230168'), ObjectId('681a2a86a522f6645b230169'), ObjectId('681a2a86a522f6645b23016a'), ObjectId('681a2a86a522f6645b23016b'), ObjectId('681a2a86a522f6645b23016c'), ObjectId('681a2a86a522f6645b23016d'), ObjectId('681a2a86a522f6645b23016e'), ObjectId('681a2a86a522f6645b23016f'), ObjectId('681a2a86a522f6645b230170'), ObjectId('681a2a86a522f6645b230171'), ObjectId('681a2a86a522f6645b230172'), ObjectId('681a2a86a522f6645b230173'), ObjectId('681a2a86a522f6645b230174'), ObjectId('681a2a86a522f6645b230175'), ObjectId('681a2a86a522f6645b230176'), ObjectId('681a2a86a522f6645b230177'), ObjectId('681a2a86a522f6645b230178'), ObjectId('681a2a86a522f6645b230179'), ObjectId('681a2a86a522f6645b23017a'), ObjectId('681a2a86a522f6645b23017b'), ObjectId('681a2a86a522f6645b23017c'), ObjectId('681a2a86a522f6645b23017d'), ObjectId('681a2a86a522f6645b23017e'), ObjectId('681a2a86a522f6645b23017f'), ObjectId('681a2a86a522f6645b230180'), ObjectId('681a2a86a522f6645b230181'), ObjectId('681a2a86a522f6645b230182'), ObjectId('681a2a86a522f6645b230183'), ObjectId('681a2a86a522f6645b230184'), ObjectId('681a2a86a522f6645b230185'), ObjectId('681a2a86a522f6645b230186'), ObjectId('681a2a86a522f6645b230187'), ObjectId('681a2a86a522f6645b230188'), ObjectId('681a2a86a522f6645b230189'), ObjectId('681a2a86a522f6645b23018a'), ObjectId('681a2a86a522f6645b23018b'), ObjectId('681a2a86a522f6645b23018c'), ObjectId('681a2a86a522f6645b23018d'), ObjectId('681a2a86a522f6645b23018e'), ObjectId('681a2a86a522f6645b23018f'), ObjectId('681a2a86a522f6645b230190'), ObjectId('681a2a86a522f6645b230191'), ObjectId('681a2a86a522f6645b230192'), ObjectId('681a2a86a522f6645b230193'), ObjectId('681a2a86a522f6645b230194'), ObjectId('681a2a86a522f6645b230195'), ObjectId('681a2a86a522f6645b230196'), ObjectId('681a2a86a522f6645b230197'), ObjectId('681a2a86a522f6645b230198'), ObjectId('681a2a86a522f6645b230199'), ObjectId('681a2a86a522f6645b23019a'), ObjectId('681a2a86a522f6645b23019b'), ObjectId('681a2a86a522f6645b23019c'), ObjectId('681a2a86a522f6645b23019d'), ObjectId('681a2a86a522f6645b23019e'), ObjectId('681a2a86a522f6645b23019f'), ObjectId('681a2a86a522f6645b2301a0'), ObjectId('681a2a86a522f6645b2301a1'), ObjectId('681a2a86a522f6645b2301a2'), ObjectId('681a2a86a522f6645b2301a3'), ObjectId('681a2a86a522f6645b2301a4'), ObjectId('681a2a86a522f6645b2301a5'), ObjectId('681a2a86a522f6645b2301a6'), ObjectId('681a2a86a522f6645b2301a7'), ObjectId('681a2a86a522f6645b2301a8'), ObjectId('681a2a86a522f6645b2301a9'), ObjectId('681a2a86a522f6645b2301aa'), ObjectId('681a2a86a522f6645b2301ab'), ObjectId('681a2a86a522f6645b2301ac'), ObjectId('681a2a86a522f6645b2301ad'), ObjectId('681a2a86a522f6645b2301ae'), ObjectId('681a2a86a522f6645b2301af'), ObjectId('681a2a86a522f6645b2301b0'), ObjectId('681a2a86a522f6645b2301b1'), ObjectId('681a2a86a522f6645b2301b2'), ObjectId('681a2a86a522f6645b2301b3'), ObjectId('681a2a86a522f6645b2301b4'), ObjectId('681a2a86a522f6645b2301b5'), ObjectId('681a2a86a522f6645b2301b6'), ObjectId('681a2a86a522f6645b2301b7'), ObjectId('681a2a86a522f6645b2301b8'), ObjectId('681a2a86a522f6645b2301b9'), ObjectId('681a2a86a522f6645b2301ba'), ObjectId('681a2a86a522f6645b2301bb'), ObjectId('681a2a86a522f6645b2301bc'), ObjectId('681a2a86a522f6645b2301bd'), ObjectId('681a2a86a522f6645b2301be'), ObjectId('681a2a86a522f6645b2301bf'), ObjectId('681a2a86a522f6645b2301c0'), ObjectId('681a2a86a522f6645b2301c1'), ObjectId('681a2a86a522f6645b2301c2'), ObjectId('681a2a86a522f6645b2301c3'), ObjectId('681a2a86a522f6645b2301c4'), ObjectId('681a2a86a522f6645b2301c5'), ObjectId('681a2a86a522f6645b2301c6'), ObjectId('681a2a86a522f6645b2301c7'), ObjectId('681a2a86a522f6645b2301c8'), ObjectId('681a2a86a522f6645b2301c9'), ObjectId('681a2a86a522f6645b2301ca'), ObjectId('681a2a86a522f6645b2301cb'), ObjectId('681a2a86a522f6645b2301cc'), ObjectId('681a2a86a522f6645b2301cd'), ObjectId('681a2a86a522f6645b2301ce'), ObjectId('681a2a86a522f6645b2301cf'), ObjectId('681a2a86a522f6645b2301d0'), ObjectId('681a2a86a522f6645b2301d1'), ObjectId('681a2a86a522f6645b2301d2'), ObjectId('681a2a86a522f6645b2301d3'), ObjectId('681a2a86a522f6645b2301d4'), ObjectId('681a2a86a522f6645b2301d5'), ObjectId('681a2a86a522f6645b2301d6'), ObjectId('681a2a86a522f6645b2301d7'), ObjectId('681a2a86a522f6645b2301d8'), ObjectId('681a2a86a522f6645b2301d9'), ObjectId('681a2a86a522f6645b2301da'), ObjectId('681a2a86a522f6645b2301db'), ObjectId('681a2a86a522f6645b2301dc'), ObjectId('681a2a86a522f6645b2301dd'), ObjectId('681a2a86a522f6645b2301de'), ObjectId('681a2a86a522f6645b2301df'), ObjectId('681a2a86a522f6645b2301e0'), ObjectId('681a2a86a522f6645b2301e1'), ObjectId('681a2a86a522f6645b2301e2'), ObjectId('681a2a86a522f6645b2301e3'), ObjectId('681a2a86a522f6645b2301e4'), ObjectId('681a2a86a522f6645b2301e5'), ObjectId('681a2a86a522f6645b2301e6'), ObjectId('681a2a86a522f6645b2301e7'), ObjectId('681a2a86a522f6645b2301e8'), ObjectId('681a2a86a522f6645b2301e9'), ObjectId('681a2a86a522f6645b2301ea'), ObjectId('681a2a86a522f6645b2301eb'), ObjectId('681a2a86a522f6645b2301ec'), ObjectId('681a2a86a522f6645b2301ed'), ObjectId('681a2a86a522f6645b2301ee'), ObjectId('681a2a86a522f6645b2301ef'), ObjectId('681a2a86a522f6645b2301f0'), ObjectId('681a2a86a522f6645b2301f1'), ObjectId('681a2a86a522f6645b2301f2'), ObjectId('681a2a86a522f6645b2301f3'), ObjectId('681a2a86a522f6645b2301f4'), ObjectId('681a2a86a522f6645b2301f5'), ObjectId('681a2a86a522f6645b2301f6'), ObjectId('681a2a86a522f6645b2301f7'), ObjectId('681a2a86a522f6645b2301f8'), ObjectId('681a2a86a522f6645b2301f9'), ObjectId('681a2a86a522f6645b2301fa'), ObjectId('681a2a86a522f6645b2301fb'), ObjectId('681a2a86a522f6645b2301fc'), ObjectId('681a2a86a522f6645b2301fd'), ObjectId('681a2a86a522f6645b2301fe'), ObjectId('681a2a86a522f6645b2301ff'), ObjectId('681a2a86a522f6645b230200'), ObjectId('681a2a86a522f6645b230201'), ObjectId('681a2a86a522f6645b230202'), ObjectId('681a2a86a522f6645b230203'), ObjectId('681a2a86a522f6645b230204'), ObjectId('681a2a86a522f6645b230205'), ObjectId('681a2a86a522f6645b230206'), ObjectId('681a2a86a522f6645b230207'), ObjectId('681a2a86a522f6645b230208'), ObjectId('681a2a86a522f6645b230209'), ObjectId('681a2a86a522f6645b23020a'), ObjectId('681a2a86a522f6645b23020b'), ObjectId('681a2a86a522f6645b23020c'), ObjectId('681a2a86a522f6645b23020d'), ObjectId('681a2a86a522f6645b23020e'), ObjectId('681a2a86a522f6645b23020f'), ObjectId('681a2a86a522f6645b230210'), ObjectId('681a2a86a522f6645b230211'), ObjectId('681a2a86a522f6645b230212'), ObjectId('681a2a86a522f6645b230213'), ObjectId('681a2a86a522f6645b230214'), ObjectId('681a2a86a522f6645b230215'), ObjectId('681a2a86a522f6645b230216'), ObjectId('681a2a86a522f6645b230217'), ObjectId('681a2a86a522f6645b230218'), ObjectId('681a2a86a522f6645b230219'), ObjectId('681a2a86a522f6645b23021a'), ObjectId('681a2a86a522f6645b23021b'), ObjectId('681a2a86a522f6645b23021c'), ObjectId('681a2a86a522f6645b23021d'), ObjectId('681a2a86a522f6645b23021e'), ObjectId('681a2a86a522f6645b23021f'), ObjectId('681a2a86a522f6645b230220'), ObjectId('681a2a86a522f6645b230221'), ObjectId('681a2a86a522f6645b230222'), ObjectId('681a2a86a522f6645b230223'), ObjectId('681a2a86a522f6645b230224'), ObjectId('681a2a86a522f6645b230225'), ObjectId('681a2a86a522f6645b230226'), ObjectId('681a2a86a522f6645b230227'), ObjectId('681a2a86a522f6645b230228'), ObjectId('681a2a86a522f6645b230229'), ObjectId('681a2a86a522f6645b23022a'), ObjectId('681a2a86a522f6645b23022b'), ObjectId('681a2a86a522f6645b23022c'), ObjectId('681a2a86a522f6645b23022d'), ObjectId('681a2a86a522f6645b23022e'), ObjectId('681a2a86a522f6645b23022f'), ObjectId('681a2a86a522f6645b230230'), ObjectId('681a2a86a522f6645b230231'), ObjectId('681a2a86a522f6645b230232'), ObjectId('681a2a86a522f6645b230233'), ObjectId('681a2a86a522f6645b230234'), ObjectId('681a2a86a522f6645b230235'), ObjectId('681a2a86a522f6645b230236'), ObjectId('681a2a86a522f6645b230237'), ObjectId('681a2a86a522f6645b230238'), ObjectId('681a2a86a522f6645b230239'), ObjectId('681a2a86a522f6645b23023a'), ObjectId('681a2a86a522f6645b23023b'), ObjectId('681a2a86a522f6645b23023c'), ObjectId('681a2a86a522f6645b23023d'), ObjectId('681a2a86a522f6645b23023e'), ObjectId('681a2a86a522f6645b23023f'), ObjectId('681a2a86a522f6645b230240'), ObjectId('681a2a86a522f6645b230241'), ObjectId('681a2a86a522f6645b230242'), ObjectId('681a2a86a522f6645b230243'), ObjectId('681a2a86a522f6645b230244'), ObjectId('681a2a86a522f6645b230245'), ObjectId('681a2a86a522f6645b230246'), ObjectId('681a2a86a522f6645b230247'), ObjectId('681a2a86a522f6645b230248'), ObjectId('681a2a86a522f6645b230249'), ObjectId('681a2a86a522f6645b23024a'), ObjectId('681a2a86a522f6645b23024b'), ObjectId('681a2a86a522f6645b23024c'), ObjectId('681a2a86a522f6645b23024d'), ObjectId('681a2a86a522f6645b23024e'), ObjectId('681a2a86a522f6645b23024f'), ObjectId('681a2a86a522f6645b230250'), ObjectId('681a2a86a522f6645b230251'), ObjectId('681a2a86a522f6645b230252'), ObjectId('681a2a86a522f6645b230253'), ObjectId('681a2a86a522f6645b230254'), ObjectId('681a2a86a522f6645b230255'), ObjectId('681a2a86a522f6645b230256'), ObjectId('681a2a86a522f6645b230257'), ObjectId('681a2a86a522f6645b230258'), ObjectId('681a2a86a522f6645b230259'), ObjectId('681a2a86a522f6645b23025a'), ObjectId('681a2a86a522f6645b23025b'), ObjectId('681a2a86a522f6645b23025c'), ObjectId('681a2a86a522f6645b23025d'), ObjectId('681a2a86a522f6645b23025e'), ObjectId('681a2a86a522f6645b23025f'), ObjectId('681a2a86a522f6645b230260'), ObjectId('681a2a86a522f6645b230261'), ObjectId('681a2a86a522f6645b230262'), ObjectId('681a2a86a522f6645b230263'), ObjectId('681a2a86a522f6645b230264'), ObjectId('681a2a86a522f6645b230265'), ObjectId('681a2a86a522f6645b230266'), ObjectId('681a2a86a522f6645b230267'), ObjectId('681a2a86a522f6645b230268'), ObjectId('681a2a86a522f6645b230269'), ObjectId('681a2a86a522f6645b23026a'), ObjectId('681a2a86a522f6645b23026b'), ObjectId('681a2a86a522f6645b23026c'), ObjectId('681a2a86a522f6645b23026d'), ObjectId('681a2a86a522f6645b23026e'), ObjectId('681a2a86a522f6645b23026f'), ObjectId('681a2a86a522f6645b230270'), ObjectId('681a2a86a522f6645b230271'), ObjectId('681a2a86a522f6645b230272'), ObjectId('681a2a86a522f6645b230273'), ObjectId('681a2a86a522f6645b230274'), ObjectId('681a2a86a522f6645b230275'), ObjectId('681a2a86a522f6645b230276'), ObjectId('681a2a86a522f6645b230277'), ObjectId('681a2a86a522f6645b230278'), ObjectId('681a2a86a522f6645b230279'), ObjectId('681a2a86a522f6645b23027a'), ObjectId('681a2a86a522f6645b23027b'), ObjectId('681a2a86a522f6645b23027c'), ObjectId('681a2a86a522f6645b23027d'), ObjectId('681a2a86a522f6645b23027e'), ObjectId('681a2a86a522f6645b23027f'), ObjectId('681a2a86a522f6645b230280'), ObjectId('681a2a86a522f6645b230281'), ObjectId('681a2a86a522f6645b230282'), ObjectId('681a2a86a522f6645b230283'), ObjectId('681a2a86a522f6645b230284'), ObjectId('681a2a86a522f6645b230285'), ObjectId('681a2a86a522f6645b230286'), ObjectId('681a2a86a522f6645b230287'), ObjectId('681a2a86a522f6645b230288'), ObjectId('681a2a86a522f6645b230289'), ObjectId('681a2a86a522f6645b23028a'), ObjectId('681a2a86a522f6645b23028b'), ObjectId('681a2a86a522f6645b23028c'), ObjectId('681a2a86a522f6645b23028d'), ObjectId('681a2a86a522f6645b23028e'), ObjectId('681a2a86a522f6645b23028f'), ObjectId('681a2a86a522f6645b230290'), ObjectId('681a2a86a522f6645b230291'), ObjectId('681a2a86a522f6645b230292'), ObjectId('681a2a86a522f6645b230293'), ObjectId('681a2a86a522f6645b230294'), ObjectId('681a2a86a522f6645b230295'), ObjectId('681a2a86a522f6645b230296'), ObjectId('681a2a86a522f6645b230297'), ObjectId('681a2a86a522f6645b230298'), ObjectId('681a2a86a522f6645b230299'), ObjectId('681a2a86a522f6645b23029a'), ObjectId('681a2a86a522f6645b23029b'), ObjectId('681a2a86a522f6645b23029c'), ObjectId('681a2a86a522f6645b23029d'), ObjectId('681a2a86a522f6645b23029e'), ObjectId('681a2a86a522f6645b23029f'), ObjectId('681a2a86a522f6645b2302a0'), ObjectId('681a2a86a522f6645b2302a1'), ObjectId('681a2a86a522f6645b2302a2'), ObjectId('681a2a86a522f6645b2302a3'), ObjectId('681a2a86a522f6645b2302a4'), ObjectId('681a2a86a522f6645b2302a5'), ObjectId('681a2a86a522f6645b2302a6'), ObjectId('681a2a86a522f6645b2302a7'), ObjectId('681a2a86a522f6645b2302a8'), ObjectId('681a2a86a522f6645b2302a9'), ObjectId('681a2a86a522f6645b2302aa'), ObjectId('681a2a86a522f6645b2302ab'), ObjectId('681a2a86a522f6645b2302ac'), ObjectId('681a2a86a522f6645b2302ad'), ObjectId('681a2a86a522f6645b2302ae'), ObjectId('681a2a86a522f6645b2302af'), ObjectId('681a2a86a522f6645b2302b0'), ObjectId('681a2a86a522f6645b2302b1'), ObjectId('681a2a86a522f6645b2302b2'), ObjectId('681a2a86a522f6645b2302b3'), ObjectId('681a2a86a522f6645b2302b4'), ObjectId('681a2a86a522f6645b2302b5'), ObjectId('681a2a86a522f6645b2302b6'), ObjectId('681a2a86a522f6645b2302b7'), ObjectId('681a2a86a522f6645b2302b8'), ObjectId('681a2a86a522f6645b2302b9'), ObjectId('681a2a86a522f6645b2302ba'), ObjectId('681a2a86a522f6645b2302bb'), ObjectId('681a2a86a522f6645b2302bc'), ObjectId('681a2a86a522f6645b2302bd'), ObjectId('681a2a86a522f6645b2302be'), ObjectId('681a2a86a522f6645b2302bf'), ObjectId('681a2a86a522f6645b2302c0'), ObjectId('681a2a86a522f6645b2302c1'), ObjectId('681a2a86a522f6645b2302c2'), ObjectId('681a2a86a522f6645b2302c3'), ObjectId('681a2a86a522f6645b2302c4'), ObjectId('681a2a86a522f6645b2302c5'), ObjectId('681a2a86a522f6645b2302c6'), ObjectId('681a2a86a522f6645b2302c7'), ObjectId('681a2a86a522f6645b2302c8'), ObjectId('681a2a86a522f6645b2302c9'), ObjectId('681a2a86a522f6645b2302ca'), ObjectId('681a2a86a522f6645b2302cb'), ObjectId('681a2a86a522f6645b2302cc'), ObjectId('681a2a86a522f6645b2302cd'), ObjectId('681a2a86a522f6645b2302ce'), ObjectId('681a2a86a522f6645b2302cf'), ObjectId('681a2a86a522f6645b2302d0'), ObjectId('681a2a86a522f6645b2302d1'), ObjectId('681a2a86a522f6645b2302d2'), ObjectId('681a2a86a522f6645b2302d3'), ObjectId('681a2a86a522f6645b2302d4'), ObjectId('681a2a86a522f6645b2302d5'), ObjectId('681a2a86a522f6645b2302d6'), ObjectId('681a2a86a522f6645b2302d7'), ObjectId('681a2a86a522f6645b2302d8'), ObjectId('681a2a86a522f6645b2302d9'), ObjectId('681a2a86a522f6645b2302da'), ObjectId('681a2a86a522f6645b2302db'), ObjectId('681a2a86a522f6645b2302dc'), ObjectId('681a2a86a522f6645b2302dd'), ObjectId('681a2a86a522f6645b2302de'), ObjectId('681a2a86a522f6645b2302df'), ObjectId('681a2a86a522f6645b2302e0'), ObjectId('681a2a86a522f6645b2302e1'), ObjectId('681a2a86a522f6645b2302e2'), ObjectId('681a2a86a522f6645b2302e3'), ObjectId('681a2a86a522f6645b2302e4'), ObjectId('681a2a86a522f6645b2302e5'), ObjectId('681a2a86a522f6645b2302e6'), ObjectId('681a2a86a522f6645b2302e7'), ObjectId('681a2a86a522f6645b2302e8'), ObjectId('681a2a86a522f6645b2302e9'), ObjectId('681a2a86a522f6645b2302ea'), ObjectId('681a2a86a522f6645b2302eb'), ObjectId('681a2a86a522f6645b2302ec'), ObjectId('681a2a86a522f6645b2302ed'), ObjectId('681a2a86a522f6645b2302ee'), ObjectId('681a2a86a522f6645b2302ef'), ObjectId('681a2a86a522f6645b2302f0'), ObjectId('681a2a86a522f6645b2302f1'), ObjectId('681a2a86a522f6645b2302f2'), ObjectId('681a2a86a522f6645b2302f3'), ObjectId('681a2a86a522f6645b2302f4'), ObjectId('681a2a86a522f6645b2302f5'), ObjectId('681a2a86a522f6645b2302f6'), ObjectId('681a2a86a522f6645b2302f7'), ObjectId('681a2a86a522f6645b2302f8'), ObjectId('681a2a86a522f6645b2302f9'), ObjectId('681a2a86a522f6645b2302fa'), ObjectId('681a2a86a522f6645b2302fb'), ObjectId('681a2a86a522f6645b2302fc'), ObjectId('681a2a86a522f6645b2302fd'), ObjectId('681a2a86a522f6645b2302fe'), ObjectId('681a2a86a522f6645b2302ff'), ObjectId('681a2a86a522f6645b230300'), ObjectId('681a2a86a522f6645b230301'), ObjectId('681a2a86a522f6645b230302'), ObjectId('681a2a86a522f6645b230303'), ObjectId('681a2a86a522f6645b230304'), ObjectId('681a2a86a522f6645b230305'), ObjectId('681a2a86a522f6645b230306'), ObjectId('681a2a86a522f6645b230307'), ObjectId('681a2a86a522f6645b230308'), ObjectId('681a2a86a522f6645b230309'), ObjectId('681a2a86a522f6645b23030a'), ObjectId('681a2a86a522f6645b23030b'), ObjectId('681a2a86a522f6645b23030c'), ObjectId('681a2a86a522f6645b23030d'), ObjectId('681a2a86a522f6645b23030e'), ObjectId('681a2a86a522f6645b23030f'), ObjectId('681a2a86a522f6645b230310'), ObjectId('681a2a86a522f6645b230311'), ObjectId('681a2a86a522f6645b230312'), ObjectId('681a2a86a522f6645b230313'), ObjectId('681a2a86a522f6645b230314'), ObjectId('681a2a86a522f6645b230315'), ObjectId('681a2a86a522f6645b230316'), ObjectId('681a2a86a522f6645b230317'), ObjectId('681a2a86a522f6645b230318'), ObjectId('681a2a86a522f6645b230319'), ObjectId('681a2a86a522f6645b23031a'), ObjectId('681a2a86a522f6645b23031b'), ObjectId('681a2a86a522f6645b23031c'), ObjectId('681a2a86a522f6645b23031d'), ObjectId('681a2a86a522f6645b23031e'), ObjectId('681a2a86a522f6645b23031f'), ObjectId('681a2a86a522f6645b230320'), ObjectId('681a2a86a522f6645b230321'), ObjectId('681a2a86a522f6645b230322'), ObjectId('681a2a86a522f6645b230323'), ObjectId('681a2a86a522f6645b230324'), ObjectId('681a2a86a522f6645b230325'), ObjectId('681a2a86a522f6645b230326'), ObjectId('681a2a86a522f6645b230327'), ObjectId('681a2a86a522f6645b230328'), ObjectId('681a2a86a522f6645b230329'), ObjectId('681a2a86a522f6645b23032a'), ObjectId('681a2a86a522f6645b23032b'), ObjectId('681a2a86a522f6645b23032c'), ObjectId('681a2a86a522f6645b23032d'), ObjectId('681a2a86a522f6645b23032e'), ObjectId('681a2a86a522f6645b23032f'), ObjectId('681a2a86a522f6645b230330'), ObjectId('681a2a86a522f6645b230331'), ObjectId('681a2a86a522f6645b230332'), ObjectId('681a2a86a522f6645b230333'), ObjectId('681a2a86a522f6645b230334'), ObjectId('681a2a86a522f6645b230335'), ObjectId('681a2a86a522f6645b230336'), ObjectId('681a2a86a522f6645b230337'), ObjectId('681a2a86a522f6645b230338'), ObjectId('681a2a86a522f6645b230339'), ObjectId('681a2a86a522f6645b23033a'), ObjectId('681a2a86a522f6645b23033b'), ObjectId('681a2a86a522f6645b23033c'), ObjectId('681a2a86a522f6645b23033d'), ObjectId('681a2a86a522f6645b23033e'), ObjectId('681a2a86a522f6645b23033f'), ObjectId('681a2a86a522f6645b230340'), ObjectId('681a2a86a522f6645b230341'), ObjectId('681a2a86a522f6645b230342'), ObjectId('681a2a86a522f6645b230343'), ObjectId('681a2a86a522f6645b230344'), ObjectId('681a2a86a522f6645b230345'), ObjectId('681a2a86a522f6645b230346'), ObjectId('681a2a86a522f6645b230347'), ObjectId('681a2a86a522f6645b230348'), ObjectId('681a2a86a522f6645b230349'), ObjectId('681a2a86a522f6645b23034a'), ObjectId('681a2a86a522f6645b23034b'), ObjectId('681a2a86a522f6645b23034c'), ObjectId('681a2a86a522f6645b23034d'), ObjectId('681a2a86a522f6645b23034e'), ObjectId('681a2a86a522f6645b23034f'), ObjectId('681a2a86a522f6645b230350'), ObjectId('681a2a86a522f6645b230351'), ObjectId('681a2a86a522f6645b230352'), ObjectId('681a2a86a522f6645b230353'), ObjectId('681a2a86a522f6645b230354'), ObjectId('681a2a86a522f6645b230355'), ObjectId('681a2a86a522f6645b230356'), ObjectId('681a2a86a522f6645b230357'), ObjectId('681a2a86a522f6645b230358'), ObjectId('681a2a86a522f6645b230359'), ObjectId('681a2a86a522f6645b23035a'), ObjectId('681a2a86a522f6645b23035b'), ObjectId('681a2a86a522f6645b23035c'), ObjectId('681a2a86a522f6645b23035d'), ObjectId('681a2a86a522f6645b23035e'), ObjectId('681a2a86a522f6645b23035f'), ObjectId('681a2a86a522f6645b230360'), ObjectId('681a2a86a522f6645b230361'), ObjectId('681a2a86a522f6645b230362'), ObjectId('681a2a86a522f6645b230363'), ObjectId('681a2a86a522f6645b230364'), ObjectId('681a2a86a522f6645b230365'), ObjectId('681a2a86a522f6645b230366'), ObjectId('681a2a86a522f6645b230367'), ObjectId('681a2a86a522f6645b230368'), ObjectId('681a2a86a522f6645b230369'), ObjectId('681a2a86a522f6645b23036a'), ObjectId('681a2a86a522f6645b23036b'), ObjectId('681a2a86a522f6645b23036c'), ObjectId('681a2a86a522f6645b23036d'), ObjectId('681a2a86a522f6645b23036e'), ObjectId('681a2a86a522f6645b23036f'), ObjectId('681a2a86a522f6645b230370'), ObjectId('681a2a86a522f6645b230371'), ObjectId('681a2a86a522f6645b230372'), ObjectId('681a2a86a522f6645b230373'), ObjectId('681a2a86a522f6645b230374'), ObjectId('681a2a86a522f6645b230375'), ObjectId('681a2a86a522f6645b230376'), ObjectId('681a2a86a522f6645b230377'), ObjectId('681a2a86a522f6645b230378'), ObjectId('681a2a86a522f6645b230379'), ObjectId('681a2a86a522f6645b23037a'), ObjectId('681a2a86a522f6645b23037b'), ObjectId('681a2a86a522f6645b23037c'), ObjectId('681a2a86a522f6645b23037d'), ObjectId('681a2a86a522f6645b23037e'), ObjectId('681a2a86a522f6645b23037f'), ObjectId('681a2a86a522f6645b230380'), ObjectId('681a2a86a522f6645b230381'), ObjectId('681a2a86a522f6645b230382'), ObjectId('681a2a86a522f6645b230383'), ObjectId('681a2a86a522f6645b230384'), ObjectId('681a2a86a522f6645b230385'), ObjectId('681a2a86a522f6645b230386'), ObjectId('681a2a86a522f6645b230387'), ObjectId('681a2a86a522f6645b230388'), ObjectId('681a2a86a522f6645b230389'), ObjectId('681a2a86a522f6645b23038a'), ObjectId('681a2a86a522f6645b23038b'), ObjectId('681a2a86a522f6645b23038c'), ObjectId('681a2a86a522f6645b23038d'), ObjectId('681a2a86a522f6645b23038e'), ObjectId('681a2a86a522f6645b23038f'), ObjectId('681a2a86a522f6645b230390'), ObjectId('681a2a86a522f6645b230391'), ObjectId('681a2a86a522f6645b230392'), ObjectId('681a2a86a522f6645b230393'), ObjectId('681a2a86a522f6645b230394'), ObjectId('681a2a86a522f6645b230395'), ObjectId('681a2a86a522f6645b230396'), ObjectId('681a2a86a522f6645b230397'), ObjectId('681a2a86a522f6645b230398'), ObjectId('681a2a86a522f6645b230399'), ObjectId('681a2a86a522f6645b23039a'), ObjectId('681a2a86a522f6645b23039b'), ObjectId('681a2a86a522f6645b23039c'), ObjectId('681a2a86a522f6645b23039d'), ObjectId('681a2a86a522f6645b23039e'), ObjectId('681a2a86a522f6645b23039f'), ObjectId('681a2a86a522f6645b2303a0'), ObjectId('681a2a86a522f6645b2303a1'), ObjectId('681a2a86a522f6645b2303a2'), ObjectId('681a2a86a522f6645b2303a3'), ObjectId('681a2a86a522f6645b2303a4'), ObjectId('681a2a86a522f6645b2303a5'), ObjectId('681a2a86a522f6645b2303a6'), ObjectId('681a2a86a522f6645b2303a7'), ObjectId('681a2a86a522f6645b2303a8'), ObjectId('681a2a86a522f6645b2303a9'), ObjectId('681a2a86a522f6645b2303aa'), ObjectId('681a2a86a522f6645b2303ab'), ObjectId('681a2a86a522f6645b2303ac'), ObjectId('681a2a86a522f6645b2303ad'), ObjectId('681a2a86a522f6645b2303ae'), ObjectId('681a2a86a522f6645b2303af'), ObjectId('681a2a86a522f6645b2303b0'), ObjectId('681a2a86a522f6645b2303b1'), ObjectId('681a2a86a522f6645b2303b2'), ObjectId('681a2a86a522f6645b2303b3'), ObjectId('681a2a86a522f6645b2303b4'), ObjectId('681a2a86a522f6645b2303b5'), ObjectId('681a2a86a522f6645b2303b6'), ObjectId('681a2a86a522f6645b2303b7'), ObjectId('681a2a86a522f6645b2303b8'), ObjectId('681a2a86a522f6645b2303b9'), ObjectId('681a2a86a522f6645b2303ba'), ObjectId('681a2a86a522f6645b2303bb'), ObjectId('681a2a86a522f6645b2303bc'), ObjectId('681a2a86a522f6645b2303bd'), ObjectId('681a2a86a522f6645b2303be'), ObjectId('681a2a86a522f6645b2303bf'), ObjectId('681a2a86a522f6645b2303c0'), ObjectId('681a2a86a522f6645b2303c1'), ObjectId('681a2a86a522f6645b2303c2'), ObjectId('681a2a86a522f6645b2303c3'), ObjectId('681a2a86a522f6645b2303c4'), ObjectId('681a2a86a522f6645b2303c5'), ObjectId('681a2a86a522f6645b2303c6'), ObjectId('681a2a86a522f6645b2303c7'), ObjectId('681a2a86a522f6645b2303c8'), ObjectId('681a2a86a522f6645b2303c9'), ObjectId('681a2a86a522f6645b2303ca'), ObjectId('681a2a86a522f6645b2303cb'), ObjectId('681a2a86a522f6645b2303cc'), ObjectId('681a2a86a522f6645b2303cd'), ObjectId('681a2a86a522f6645b2303ce'), ObjectId('681a2a86a522f6645b2303cf'), ObjectId('681a2a86a522f6645b2303d0'), ObjectId('681a2a86a522f6645b2303d1'), ObjectId('681a2a86a522f6645b2303d2'), ObjectId('681a2a86a522f6645b2303d3'), ObjectId('681a2a86a522f6645b2303d4'), ObjectId('681a2a86a522f6645b2303d5'), ObjectId('681a2a86a522f6645b2303d6'), ObjectId('681a2a86a522f6645b2303d7'), ObjectId('681a2a86a522f6645b2303d8'), ObjectId('681a2a86a522f6645b2303d9'), ObjectId('681a2a86a522f6645b2303da'), ObjectId('681a2a86a522f6645b2303db'), ObjectId('681a2a86a522f6645b2303dc'), ObjectId('681a2a86a522f6645b2303dd'), ObjectId('681a2a86a522f6645b2303de'), ObjectId('681a2a86a522f6645b2303df'), ObjectId('681a2a86a522f6645b2303e0'), ObjectId('681a2a86a522f6645b2303e1'), ObjectId('681a2a86a522f6645b2303e2'), ObjectId('681a2a86a522f6645b2303e3'), ObjectId('681a2a86a522f6645b2303e4'), ObjectId('681a2a86a522f6645b2303e5'), ObjectId('681a2a86a522f6645b2303e6'), ObjectId('681a2a86a522f6645b2303e7'), ObjectId('681a2a86a522f6645b2303e8'), ObjectId('681a2a86a522f6645b2303e9'), ObjectId('681a2a86a522f6645b2303ea'), ObjectId('681a2a86a522f6645b2303eb'), ObjectId('681a2a86a522f6645b2303ec'), ObjectId('681a2a86a522f6645b2303ed'), ObjectId('681a2a86a522f6645b2303ee'), ObjectId('681a2a86a522f6645b2303ef'), ObjectId('681a2a86a522f6645b2303f0'), ObjectId('681a2a86a522f6645b2303f1'), ObjectId('681a2a86a522f6645b2303f2'), ObjectId('681a2a86a522f6645b2303f3'), ObjectId('681a2a86a522f6645b2303f4'), ObjectId('681a2a86a522f6645b2303f5'), ObjectId('681a2a86a522f6645b2303f6'), ObjectId('681a2a86a522f6645b2303f7'), ObjectId('681a2a86a522f6645b2303f8'), ObjectId('681a2a86a522f6645b2303f9'), ObjectId('681a2a86a522f6645b2303fa'), ObjectId('681a2a86a522f6645b2303fb'), ObjectId('681a2a86a522f6645b2303fc'), ObjectId('681a2a86a522f6645b2303fd'), ObjectId('681a2a86a522f6645b2303fe'), ObjectId('681a2a86a522f6645b2303ff'), ObjectId('681a2a86a522f6645b230400'), ObjectId('681a2a86a522f6645b230401'), ObjectId('681a2a86a522f6645b230402'), ObjectId('681a2a86a522f6645b230403'), ObjectId('681a2a86a522f6645b230404'), ObjectId('681a2a86a522f6645b230405'), ObjectId('681a2a86a522f6645b230406'), ObjectId('681a2a86a522f6645b230407'), ObjectId('681a2a86a522f6645b230408'), ObjectId('681a2a86a522f6645b230409'), ObjectId('681a2a86a522f6645b23040a'), ObjectId('681a2a86a522f6645b23040b'), ObjectId('681a2a86a522f6645b23040c'), ObjectId('681a2a86a522f6645b23040d'), ObjectId('681a2a86a522f6645b23040e'), ObjectId('681a2a86a522f6645b23040f'), ObjectId('681a2a86a522f6645b230410'), ObjectId('681a2a86a522f6645b230411'), ObjectId('681a2a86a522f6645b230412'), ObjectId('681a2a86a522f6645b230413'), ObjectId('681a2a86a522f6645b230414'), ObjectId('681a2a86a522f6645b230415'), ObjectId('681a2a86a522f6645b230416'), ObjectId('681a2a86a522f6645b230417'), ObjectId('681a2a86a522f6645b230418'), ObjectId('681a2a86a522f6645b230419'), ObjectId('681a2a86a522f6645b23041a'), ObjectId('681a2a86a522f6645b23041b'), ObjectId('681a2a86a522f6645b23041c'), ObjectId('681a2a86a522f6645b23041d'), ObjectId('681a2a86a522f6645b23041e'), ObjectId('681a2a86a522f6645b23041f'), ObjectId('681a2a86a522f6645b230420'), ObjectId('681a2a86a522f6645b230421'), ObjectId('681a2a86a522f6645b230422'), ObjectId('681a2a86a522f6645b230423'), ObjectId('681a2a86a522f6645b230424'), ObjectId('681a2a86a522f6645b230425'), ObjectId('681a2a86a522f6645b230426'), ObjectId('681a2a86a522f6645b230427'), ObjectId('681a2a86a522f6645b230428'), ObjectId('681a2a86a522f6645b230429'), ObjectId('681a2a86a522f6645b23042a'), ObjectId('681a2a86a522f6645b23042b'), ObjectId('681a2a86a522f6645b23042c'), ObjectId('681a2a86a522f6645b23042d'), ObjectId('681a2a86a522f6645b23042e'), ObjectId('681a2a86a522f6645b23042f'), ObjectId('681a2a86a522f6645b230430'), ObjectId('681a2a86a522f6645b230431'), ObjectId('681a2a86a522f6645b230432'), ObjectId('681a2a86a522f6645b230433'), ObjectId('681a2a86a522f6645b230434'), ObjectId('681a2a86a522f6645b230435'), ObjectId('681a2a86a522f6645b230436'), ObjectId('681a2a86a522f6645b230437'), ObjectId('681a2a86a522f6645b230438'), ObjectId('681a2a86a522f6645b230439'), ObjectId('681a2a86a522f6645b23043a'), ObjectId('681a2a86a522f6645b23043b'), ObjectId('681a2a86a522f6645b23043c'), ObjectId('681a2a86a522f6645b23043d'), ObjectId('681a2a86a522f6645b23043e'), ObjectId('681a2a86a522f6645b23043f'), ObjectId('681a2a86a522f6645b230440'), ObjectId('681a2a86a522f6645b230441'), ObjectId('681a2a86a522f6645b230442'), ObjectId('681a2a86a522f6645b230443'), ObjectId('681a2a86a522f6645b230444'), ObjectId('681a2a86a522f6645b230445'), ObjectId('681a2a86a522f6645b230446'), ObjectId('681a2a86a522f6645b230447'), ObjectId('681a2a86a522f6645b230448'), ObjectId('681a2a86a522f6645b230449'), ObjectId('681a2a86a522f6645b23044a'), ObjectId('681a2a86a522f6645b23044b'), ObjectId('681a2a86a522f6645b23044c'), ObjectId('681a2a86a522f6645b23044d'), ObjectId('681a2a86a522f6645b23044e'), ObjectId('681a2a86a522f6645b23044f'), ObjectId('681a2a86a522f6645b230450'), ObjectId('681a2a86a522f6645b230451'), ObjectId('681a2a86a522f6645b230452'), ObjectId('681a2a86a522f6645b230453'), ObjectId('681a2a86a522f6645b230454'), ObjectId('681a2a86a522f6645b230455'), ObjectId('681a2a86a522f6645b230456'), ObjectId('681a2a86a522f6645b230457'), ObjectId('681a2a86a522f6645b230458'), ObjectId('681a2a86a522f6645b230459'), ObjectId('681a2a86a522f6645b23045a'), ObjectId('681a2a86a522f6645b23045b'), ObjectId('681a2a86a522f6645b23045c'), ObjectId('681a2a86a522f6645b23045d'), ObjectId('681a2a86a522f6645b23045e'), ObjectId('681a2a86a522f6645b23045f'), ObjectId('681a2a86a522f6645b230460'), ObjectId('681a2a86a522f6645b230461'), ObjectId('681a2a86a522f6645b230462'), ObjectId('681a2a86a522f6645b230463'), ObjectId('681a2a86a522f6645b230464'), ObjectId('681a2a86a522f6645b230465'), ObjectId('681a2a86a522f6645b230466'), ObjectId('681a2a86a522f6645b230467'), ObjectId('681a2a86a522f6645b230468'), ObjectId('681a2a86a522f6645b230469'), ObjectId('681a2a86a522f6645b23046a'), ObjectId('681a2a86a522f6645b23046b'), ObjectId('681a2a86a522f6645b23046c'), ObjectId('681a2a86a522f6645b23046d'), ObjectId('681a2a86a522f6645b23046e'), ObjectId('681a2a86a522f6645b23046f'), ObjectId('681a2a86a522f6645b230470'), ObjectId('681a2a86a522f6645b230471'), ObjectId('681a2a86a522f6645b230472'), ObjectId('681a2a86a522f6645b230473'), ObjectId('681a2a86a522f6645b230474'), ObjectId('681a2a86a522f6645b230475'), ObjectId('681a2a86a522f6645b230476'), ObjectId('681a2a86a522f6645b230477'), ObjectId('681a2a86a522f6645b230478'), ObjectId('681a2a86a522f6645b230479'), ObjectId('681a2a86a522f6645b23047a'), ObjectId('681a2a86a522f6645b23047b'), ObjectId('681a2a86a522f6645b23047c'), ObjectId('681a2a86a522f6645b23047d'), ObjectId('681a2a86a522f6645b23047e'), ObjectId('681a2a86a522f6645b23047f'), ObjectId('681a2a86a522f6645b230480'), ObjectId('681a2a86a522f6645b230481'), ObjectId('681a2a86a522f6645b230482'), ObjectId('681a2a86a522f6645b230483'), ObjectId('681a2a86a522f6645b230484'), ObjectId('681a2a86a522f6645b230485'), ObjectId('681a2a86a522f6645b230486'), ObjectId('681a2a86a522f6645b230487'), ObjectId('681a2a86a522f6645b230488'), ObjectId('681a2a86a522f6645b230489'), ObjectId('681a2a86a522f6645b23048a'), ObjectId('681a2a86a522f6645b23048b'), ObjectId('681a2a86a522f6645b23048c'), ObjectId('681a2a86a522f6645b23048d'), ObjectId('681a2a86a522f6645b23048e'), ObjectId('681a2a86a522f6645b23048f'), ObjectId('681a2a86a522f6645b230490'), ObjectId('681a2a86a522f6645b230491'), ObjectId('681a2a86a522f6645b230492'), ObjectId('681a2a86a522f6645b230493'), ObjectId('681a2a86a522f6645b230494'), ObjectId('681a2a86a522f6645b230495'), ObjectId('681a2a86a522f6645b230496'), ObjectId('681a2a86a522f6645b230497'), ObjectId('681a2a86a522f6645b230498'), ObjectId('681a2a86a522f6645b230499'), ObjectId('681a2a86a522f6645b23049a'), ObjectId('681a2a86a522f6645b23049b'), ObjectId('681a2a86a522f6645b23049c'), ObjectId('681a2a86a522f6645b23049d'), ObjectId('681a2a86a522f6645b23049e'), ObjectId('681a2a86a522f6645b23049f'), ObjectId('681a2a86a522f6645b2304a0'), ObjectId('681a2a86a522f6645b2304a1'), ObjectId('681a2a86a522f6645b2304a2'), ObjectId('681a2a86a522f6645b2304a3'), ObjectId('681a2a86a522f6645b2304a4'), ObjectId('681a2a86a522f6645b2304a5'), ObjectId('681a2a86a522f6645b2304a6'), ObjectId('681a2a86a522f6645b2304a7'), ObjectId('681a2a86a522f6645b2304a8'), ObjectId('681a2a86a522f6645b2304a9'), ObjectId('681a2a86a522f6645b2304aa'), ObjectId('681a2a86a522f6645b2304ab'), ObjectId('681a2a86a522f6645b2304ac'), ObjectId('681a2a86a522f6645b2304ad'), ObjectId('681a2a86a522f6645b2304ae'), ObjectId('681a2a86a522f6645b2304af'), ObjectId('681a2a86a522f6645b2304b0'), ObjectId('681a2a86a522f6645b2304b1'), ObjectId('681a2a86a522f6645b2304b2'), ObjectId('681a2a86a522f6645b2304b3'), ObjectId('681a2a86a522f6645b2304b4'), ObjectId('681a2a86a522f6645b2304b5'), ObjectId('681a2a86a522f6645b2304b6'), ObjectId('681a2a86a522f6645b2304b7'), ObjectId('681a2a86a522f6645b2304b8'), ObjectId('681a2a86a522f6645b2304b9'), ObjectId('681a2a86a522f6645b2304ba'), ObjectId('681a2a86a522f6645b2304bb'), ObjectId('681a2a86a522f6645b2304bc'), ObjectId('681a2a86a522f6645b2304bd'), ObjectId('681a2a86a522f6645b2304be'), ObjectId('681a2a86a522f6645b2304bf'), ObjectId('681a2a86a522f6645b2304c0'), ObjectId('681a2a86a522f6645b2304c1'), ObjectId('681a2a86a522f6645b2304c2'), ObjectId('681a2a86a522f6645b2304c3'), ObjectId('681a2a86a522f6645b2304c4'), ObjectId('681a2a86a522f6645b2304c5'), ObjectId('681a2a86a522f6645b2304c6'), ObjectId('681a2a86a522f6645b2304c7'), ObjectId('681a2a86a522f6645b2304c8'), ObjectId('681a2a86a522f6645b2304c9'), ObjectId('681a2a86a522f6645b2304ca'), ObjectId('681a2a86a522f6645b2304cb'), ObjectId('681a2a86a522f6645b2304cc'), ObjectId('681a2a86a522f6645b2304cd'), ObjectId('681a2a86a522f6645b2304ce'), ObjectId('681a2a86a522f6645b2304cf'), ObjectId('681a2a86a522f6645b2304d0'), ObjectId('681a2a86a522f6645b2304d1'), ObjectId('681a2a86a522f6645b2304d2'), ObjectId('681a2a86a522f6645b2304d3'), ObjectId('681a2a86a522f6645b2304d4'), ObjectId('681a2a86a522f6645b2304d5'), ObjectId('681a2a86a522f6645b2304d6'), ObjectId('681a2a86a522f6645b2304d7'), ObjectId('681a2a86a522f6645b2304d8'), ObjectId('681a2a86a522f6645b2304d9'), ObjectId('681a2a86a522f6645b2304da'), ObjectId('681a2a86a522f6645b2304db'), ObjectId('681a2a86a522f6645b2304dc'), ObjectId('681a2a86a522f6645b2304dd'), ObjectId('681a2a86a522f6645b2304de'), ObjectId('681a2a86a522f6645b2304df'), ObjectId('681a2a86a522f6645b2304e0'), ObjectId('681a2a86a522f6645b2304e1'), ObjectId('681a2a86a522f6645b2304e2'), ObjectId('681a2a86a522f6645b2304e3'), ObjectId('681a2a86a522f6645b2304e4'), ObjectId('681a2a86a522f6645b2304e5'), ObjectId('681a2a86a522f6645b2304e6'), ObjectId('681a2a86a522f6645b2304e7'), ObjectId('681a2a86a522f6645b2304e8'), ObjectId('681a2a86a522f6645b2304e9'), ObjectId('681a2a86a522f6645b2304ea'), ObjectId('681a2a86a522f6645b2304eb'), ObjectId('681a2a86a522f6645b2304ec'), ObjectId('681a2a86a522f6645b2304ed'), ObjectId('681a2a86a522f6645b2304ee'), ObjectId('681a2a86a522f6645b2304ef'), ObjectId('681a2a86a522f6645b2304f0'), ObjectId('681a2a86a522f6645b2304f1'), ObjectId('681a2a86a522f6645b2304f2'), ObjectId('681a2a86a522f6645b2304f3'), ObjectId('681a2a86a522f6645b2304f4'), ObjectId('681a2a86a522f6645b2304f5'), ObjectId('681a2a86a522f6645b2304f6'), ObjectId('681a2a86a522f6645b2304f7'), ObjectId('681a2a86a522f6645b2304f8'), ObjectId('681a2a86a522f6645b2304f9'), ObjectId('681a2a86a522f6645b2304fa'), ObjectId('681a2a86a522f6645b2304fb'), ObjectId('681a2a86a522f6645b2304fc'), ObjectId('681a2a86a522f6645b2304fd'), ObjectId('681a2a86a522f6645b2304fe'), ObjectId('681a2a86a522f6645b2304ff'), ObjectId('681a2a86a522f6645b230500'), ObjectId('681a2a86a522f6645b230501'), ObjectId('681a2a86a522f6645b230502'), ObjectId('681a2a86a522f6645b230503'), ObjectId('681a2a86a522f6645b230504'), ObjectId('681a2a86a522f6645b230505'), ObjectId('681a2a86a522f6645b230506'), ObjectId('681a2a86a522f6645b230507'), ObjectId('681a2a86a522f6645b230508'), ObjectId('681a2a86a522f6645b230509'), ObjectId('681a2a86a522f6645b23050a'), ObjectId('681a2a86a522f6645b23050b'), ObjectId('681a2a86a522f6645b23050c'), ObjectId('681a2a86a522f6645b23050d'), ObjectId('681a2a86a522f6645b23050e'), ObjectId('681a2a86a522f6645b23050f'), ObjectId('681a2a86a522f6645b230510'), ObjectId('681a2a86a522f6645b230511'), ObjectId('681a2a86a522f6645b230512'), ObjectId('681a2a86a522f6645b230513'), ObjectId('681a2a86a522f6645b230514'), ObjectId('681a2a86a522f6645b230515'), ObjectId('681a2a86a522f6645b230516'), ObjectId('681a2a86a522f6645b230517'), ObjectId('681a2a86a522f6645b230518'), ObjectId('681a2a86a522f6645b230519'), ObjectId('681a2a86a522f6645b23051a'), ObjectId('681a2a86a522f6645b23051b'), ObjectId('681a2a86a522f6645b23051c'), ObjectId('681a2a86a522f6645b23051d'), ObjectId('681a2a86a522f6645b23051e'), ObjectId('681a2a86a522f6645b23051f'), ObjectId('681a2a86a522f6645b230520'), ObjectId('681a2a86a522f6645b230521'), ObjectId('681a2a86a522f6645b230522'), ObjectId('681a2a86a522f6645b230523'), ObjectId('681a2a86a522f6645b230524'), ObjectId('681a2a86a522f6645b230525'), ObjectId('681a2a86a522f6645b230526'), ObjectId('681a2a86a522f6645b230527'), ObjectId('681a2a86a522f6645b230528'), ObjectId('681a2a86a522f6645b230529'), ObjectId('681a2a86a522f6645b23052a'), ObjectId('681a2a86a522f6645b23052b'), ObjectId('681a2a86a522f6645b23052c'), ObjectId('681a2a86a522f6645b23052d'), ObjectId('681a2a86a522f6645b23052e'), ObjectId('681a2a86a522f6645b23052f'), ObjectId('681a2a86a522f6645b230530'), ObjectId('681a2a86a522f6645b230531'), ObjectId('681a2a86a522f6645b230532'), ObjectId('681a2a86a522f6645b230533'), ObjectId('681a2a86a522f6645b230534'), ObjectId('681a2a86a522f6645b230535'), ObjectId('681a2a86a522f6645b230536'), ObjectId('681a2a86a522f6645b230537'), ObjectId('681a2a86a522f6645b230538'), ObjectId('681a2a86a522f6645b230539'), ObjectId('681a2a86a522f6645b23053a'), ObjectId('681a2a86a522f6645b23053b'), ObjectId('681a2a86a522f6645b23053c'), ObjectId('681a2a86a522f6645b23053d'), ObjectId('681a2a86a522f6645b23053e'), ObjectId('681a2a86a522f6645b23053f'), ObjectId('681a2a86a522f6645b230540'), ObjectId('681a2a86a522f6645b230541'), ObjectId('681a2a86a522f6645b230542'), ObjectId('681a2a86a522f6645b230543'), ObjectId('681a2a86a522f6645b230544'), ObjectId('681a2a86a522f6645b230545'), ObjectId('681a2a86a522f6645b230546'), ObjectId('681a2a86a522f6645b230547'), ObjectId('681a2a86a522f6645b230548'), ObjectId('681a2a86a522f6645b230549'), ObjectId('681a2a86a522f6645b23054a'), ObjectId('681a2a86a522f6645b23054b'), ObjectId('681a2a86a522f6645b23054c'), ObjectId('681a2a86a522f6645b23054d'), ObjectId('681a2a86a522f6645b23054e'), ObjectId('681a2a86a522f6645b23054f'), ObjectId('681a2a86a522f6645b230550'), ObjectId('681a2a86a522f6645b230551'), ObjectId('681a2a86a522f6645b230552'), ObjectId('681a2a86a522f6645b230553'), ObjectId('681a2a86a522f6645b230554'), ObjectId('681a2a86a522f6645b230555'), ObjectId('681a2a86a522f6645b230556'), ObjectId('681a2a86a522f6645b230557'), ObjectId('681a2a86a522f6645b230558'), ObjectId('681a2a86a522f6645b230559'), ObjectId('681a2a86a522f6645b23055a'), ObjectId('681a2a86a522f6645b23055b'), ObjectId('681a2a86a522f6645b23055c'), ObjectId('681a2a86a522f6645b23055d'), ObjectId('681a2a86a522f6645b23055e'), ObjectId('681a2a86a522f6645b23055f'), ObjectId('681a2a86a522f6645b230560'), ObjectId('681a2a86a522f6645b230561'), ObjectId('681a2a86a522f6645b230562'), ObjectId('681a2a86a522f6645b230563'), ObjectId('681a2a86a522f6645b230564'), ObjectId('681a2a86a522f6645b230565'), ObjectId('681a2a86a522f6645b230566'), ObjectId('681a2a86a522f6645b230567'), ObjectId('681a2a86a522f6645b230568'), ObjectId('681a2a86a522f6645b230569'), ObjectId('681a2a86a522f6645b23056a'), ObjectId('681a2a86a522f6645b23056b'), ObjectId('681a2a86a522f6645b23056c'), ObjectId('681a2a86a522f6645b23056d'), ObjectId('681a2a86a522f6645b23056e'), ObjectId('681a2a86a522f6645b23056f'), ObjectId('681a2a86a522f6645b230570'), ObjectId('681a2a86a522f6645b230571'), ObjectId('681a2a86a522f6645b230572'), ObjectId('681a2a86a522f6645b230573'), ObjectId('681a2a86a522f6645b230574'), ObjectId('681a2a86a522f6645b230575'), ObjectId('681a2a86a522f6645b230576'), ObjectId('681a2a86a522f6645b230577'), ObjectId('681a2a86a522f6645b230578'), ObjectId('681a2a86a522f6645b230579'), ObjectId('681a2a86a522f6645b23057a'), ObjectId('681a2a86a522f6645b23057b'), ObjectId('681a2a86a522f6645b23057c'), ObjectId('681a2a86a522f6645b23057d'), ObjectId('681a2a86a522f6645b23057e'), ObjectId('681a2a86a522f6645b23057f'), ObjectId('681a2a86a522f6645b230580'), ObjectId('681a2a86a522f6645b230581'), ObjectId('681a2a86a522f6645b230582'), ObjectId('681a2a86a522f6645b230583'), ObjectId('681a2a86a522f6645b230584'), ObjectId('681a2a86a522f6645b230585'), ObjectId('681a2a86a522f6645b230586'), ObjectId('681a2a86a522f6645b230587'), ObjectId('681a2a86a522f6645b230588'), ObjectId('681a2a86a522f6645b230589'), ObjectId('681a2a86a522f6645b23058a'), ObjectId('681a2a86a522f6645b23058b'), ObjectId('681a2a86a522f6645b23058c'), ObjectId('681a2a86a522f6645b23058d'), ObjectId('681a2a86a522f6645b23058e'), ObjectId('681a2a86a522f6645b23058f'), ObjectId('681a2a86a522f6645b230590'), ObjectId('681a2a86a522f6645b230591'), ObjectId('681a2a86a522f6645b230592'), ObjectId('681a2a86a522f6645b230593'), ObjectId('681a2a86a522f6645b230594'), ObjectId('681a2a86a522f6645b230595'), ObjectId('681a2a86a522f6645b230596'), ObjectId('681a2a86a522f6645b230597'), ObjectId('681a2a86a522f6645b230598'), ObjectId('681a2a86a522f6645b230599'), ObjectId('681a2a86a522f6645b23059a'), ObjectId('681a2a86a522f6645b23059b'), ObjectId('681a2a86a522f6645b23059c'), ObjectId('681a2a86a522f6645b23059d'), ObjectId('681a2a86a522f6645b23059e'), ObjectId('681a2a86a522f6645b23059f'), ObjectId('681a2a86a522f6645b2305a0'), ObjectId('681a2a86a522f6645b2305a1'), ObjectId('681a2a86a522f6645b2305a2'), ObjectId('681a2a86a522f6645b2305a3'), ObjectId('681a2a86a522f6645b2305a4'), ObjectId('681a2a86a522f6645b2305a5'), ObjectId('681a2a86a522f6645b2305a6'), ObjectId('681a2a86a522f6645b2305a7'), ObjectId('681a2a86a522f6645b2305a8'), ObjectId('681a2a86a522f6645b2305a9'), ObjectId('681a2a86a522f6645b2305aa'), ObjectId('681a2a86a522f6645b2305ab'), ObjectId('681a2a86a522f6645b2305ac'), ObjectId('681a2a86a522f6645b2305ad'), ObjectId('681a2a86a522f6645b2305ae'), ObjectId('681a2a86a522f6645b2305af'), ObjectId('681a2a86a522f6645b2305b0'), ObjectId('681a2a86a522f6645b2305b1'), ObjectId('681a2a86a522f6645b2305b2'), ObjectId('681a2a86a522f6645b2305b3'), ObjectId('681a2a86a522f6645b2305b4'), ObjectId('681a2a86a522f6645b2305b5'), ObjectId('681a2a86a522f6645b2305b6'), ObjectId('681a2a86a522f6645b2305b7'), ObjectId('681a2a86a522f6645b2305b8'), ObjectId('681a2a86a522f6645b2305b9'), ObjectId('681a2a86a522f6645b2305ba'), ObjectId('681a2a86a522f6645b2305bb'), ObjectId('681a2a86a522f6645b2305bc'), ObjectId('681a2a86a522f6645b2305bd'), ObjectId('681a2a86a522f6645b2305be'), ObjectId('681a2a86a522f6645b2305bf'), ObjectId('681a2a86a522f6645b2305c0'), ObjectId('681a2a86a522f6645b2305c1'), ObjectId('681a2a86a522f6645b2305c2'), ObjectId('681a2a86a522f6645b2305c3'), ObjectId('681a2a86a522f6645b2305c4'), ObjectId('681a2a86a522f6645b2305c5'), ObjectId('681a2a86a522f6645b2305c6'), ObjectId('681a2a86a522f6645b2305c7'), ObjectId('681a2a86a522f6645b2305c8'), ObjectId('681a2a86a522f6645b2305c9'), ObjectId('681a2a86a522f6645b2305ca'), ObjectId('681a2a86a522f6645b2305cb'), ObjectId('681a2a86a522f6645b2305cc'), ObjectId('681a2a86a522f6645b2305cd'), ObjectId('681a2a86a522f6645b2305ce'), ObjectId('681a2a86a522f6645b2305cf'), ObjectId('681a2a86a522f6645b2305d0'), ObjectId('681a2a86a522f6645b2305d1'), ObjectId('681a2a86a522f6645b2305d2'), ObjectId('681a2a86a522f6645b2305d3'), ObjectId('681a2a86a522f6645b2305d4'), ObjectId('681a2a86a522f6645b2305d5'), ObjectId('681a2a86a522f6645b2305d6'), ObjectId('681a2a86a522f6645b2305d7'), ObjectId('681a2a86a522f6645b2305d8'), ObjectId('681a2a86a522f6645b2305d9'), ObjectId('681a2a86a522f6645b2305da'), ObjectId('681a2a86a522f6645b2305db'), ObjectId('681a2a86a522f6645b2305dc'), ObjectId('681a2a86a522f6645b2305dd'), ObjectId('681a2a86a522f6645b2305de'), ObjectId('681a2a86a522f6645b2305df'), ObjectId('681a2a86a522f6645b2305e0'), ObjectId('681a2a86a522f6645b2305e1'), ObjectId('681a2a86a522f6645b2305e2'), ObjectId('681a2a86a522f6645b2305e3'), ObjectId('681a2a86a522f6645b2305e4'), ObjectId('681a2a86a522f6645b2305e5'), ObjectId('681a2a86a522f6645b2305e6'), ObjectId('681a2a86a522f6645b2305e7'), ObjectId('681a2a86a522f6645b2305e8'), ObjectId('681a2a86a522f6645b2305e9'), ObjectId('681a2a86a522f6645b2305ea'), ObjectId('681a2a86a522f6645b2305eb'), ObjectId('681a2a86a522f6645b2305ec'), ObjectId('681a2a86a522f6645b2305ed'), ObjectId('681a2a86a522f6645b2305ee'), ObjectId('681a2a86a522f6645b2305ef'), ObjectId('681a2a86a522f6645b2305f0'), ObjectId('681a2a86a522f6645b2305f1'), ObjectId('681a2a86a522f6645b2305f2'), ObjectId('681a2a86a522f6645b2305f3'), ObjectId('681a2a86a522f6645b2305f4'), ObjectId('681a2a86a522f6645b2305f5'), ObjectId('681a2a86a522f6645b2305f6'), ObjectId('681a2a86a522f6645b2305f7'), ObjectId('681a2a86a522f6645b2305f8'), ObjectId('681a2a86a522f6645b2305f9'), ObjectId('681a2a86a522f6645b2305fa'), ObjectId('681a2a86a522f6645b2305fb'), ObjectId('681a2a86a522f6645b2305fc'), ObjectId('681a2a86a522f6645b2305fd'), ObjectId('681a2a86a522f6645b2305fe'), ObjectId('681a2a86a522f6645b2305ff'), ObjectId('681a2a86a522f6645b230600'), ObjectId('681a2a86a522f6645b230601'), ObjectId('681a2a86a522f6645b230602'), ObjectId('681a2a86a522f6645b230603'), ObjectId('681a2a86a522f6645b230604'), ObjectId('681a2a86a522f6645b230605'), ObjectId('681a2a86a522f6645b230606'), ObjectId('681a2a86a522f6645b230607'), ObjectId('681a2a86a522f6645b230608'), ObjectId('681a2a86a522f6645b230609'), ObjectId('681a2a86a522f6645b23060a'), ObjectId('681a2a86a522f6645b23060b'), ObjectId('681a2a86a522f6645b23060c'), ObjectId('681a2a86a522f6645b23060d'), ObjectId('681a2a86a522f6645b23060e'), ObjectId('681a2a86a522f6645b23060f'), ObjectId('681a2a86a522f6645b230610'), ObjectId('681a2a86a522f6645b230611'), ObjectId('681a2a86a522f6645b230612'), ObjectId('681a2a86a522f6645b230613'), ObjectId('681a2a86a522f6645b230614'), ObjectId('681a2a86a522f6645b230615'), ObjectId('681a2a86a522f6645b230616'), ObjectId('681a2a86a522f6645b230617'), ObjectId('681a2a86a522f6645b230618'), ObjectId('681a2a86a522f6645b230619'), ObjectId('681a2a86a522f6645b23061a'), ObjectId('681a2a86a522f6645b23061b'), ObjectId('681a2a86a522f6645b23061c'), ObjectId('681a2a86a522f6645b23061d'), ObjectId('681a2a86a522f6645b23061e'), ObjectId('681a2a86a522f6645b23061f'), ObjectId('681a2a86a522f6645b230620'), ObjectId('681a2a86a522f6645b230621'), ObjectId('681a2a86a522f6645b230622'), ObjectId('681a2a86a522f6645b230623'), ObjectId('681a2a86a522f6645b230624'), ObjectId('681a2a86a522f6645b230625'), ObjectId('681a2a86a522f6645b230626'), ObjectId('681a2a86a522f6645b230627'), ObjectId('681a2a86a522f6645b230628'), ObjectId('681a2a86a522f6645b230629'), ObjectId('681a2a86a522f6645b23062a'), ObjectId('681a2a86a522f6645b23062b'), ObjectId('681a2a86a522f6645b23062c'), ObjectId('681a2a86a522f6645b23062d'), ObjectId('681a2a86a522f6645b23062e'), ObjectId('681a2a86a522f6645b23062f'), ObjectId('681a2a86a522f6645b230630'), ObjectId('681a2a86a522f6645b230631'), ObjectId('681a2a86a522f6645b230632'), ObjectId('681a2a86a522f6645b230633'), ObjectId('681a2a86a522f6645b230634'), ObjectId('681a2a86a522f6645b230635'), ObjectId('681a2a86a522f6645b230636'), ObjectId('681a2a86a522f6645b230637'), ObjectId('681a2a86a522f6645b230638'), ObjectId('681a2a86a522f6645b230639'), ObjectId('681a2a86a522f6645b23063a'), ObjectId('681a2a86a522f6645b23063b'), ObjectId('681a2a86a522f6645b23063c'), ObjectId('681a2a86a522f6645b23063d'), ObjectId('681a2a86a522f6645b23063e'), ObjectId('681a2a86a522f6645b23063f'), ObjectId('681a2a86a522f6645b230640'), ObjectId('681a2a86a522f6645b230641'), ObjectId('681a2a86a522f6645b230642'), ObjectId('681a2a86a522f6645b230643'), ObjectId('681a2a86a522f6645b230644'), ObjectId('681a2a86a522f6645b230645'), ObjectId('681a2a86a522f6645b230646'), ObjectId('681a2a86a522f6645b230647'), ObjectId('681a2a86a522f6645b230648'), ObjectId('681a2a86a522f6645b230649'), ObjectId('681a2a86a522f6645b23064a'), ObjectId('681a2a86a522f6645b23064b'), ObjectId('681a2a86a522f6645b23064c'), ObjectId('681a2a86a522f6645b23064d'), ObjectId('681a2a86a522f6645b23064e'), ObjectId('681a2a86a522f6645b23064f'), ObjectId('681a2a86a522f6645b230650'), ObjectId('681a2a86a522f6645b230651'), ObjectId('681a2a86a522f6645b230652'), ObjectId('681a2a86a522f6645b230653'), ObjectId('681a2a86a522f6645b230654'), ObjectId('681a2a86a522f6645b230655'), ObjectId('681a2a86a522f6645b230656'), ObjectId('681a2a86a522f6645b230657'), ObjectId('681a2a86a522f6645b230658'), ObjectId('681a2a86a522f6645b230659'), ObjectId('681a2a86a522f6645b23065a'), ObjectId('681a2a86a522f6645b23065b'), ObjectId('681a2a86a522f6645b23065c'), ObjectId('681a2a86a522f6645b23065d'), ObjectId('681a2a86a522f6645b23065e'), ObjectId('681a2a86a522f6645b23065f'), ObjectId('681a2a86a522f6645b230660'), ObjectId('681a2a86a522f6645b230661'), ObjectId('681a2a86a522f6645b230662'), ObjectId('681a2a86a522f6645b230663'), ObjectId('681a2a86a522f6645b230664'), ObjectId('681a2a86a522f6645b230665'), ObjectId('681a2a86a522f6645b230666'), ObjectId('681a2a86a522f6645b230667'), ObjectId('681a2a86a522f6645b230668'), ObjectId('681a2a86a522f6645b230669'), ObjectId('681a2a86a522f6645b23066a'), ObjectId('681a2a86a522f6645b23066b'), ObjectId('681a2a86a522f6645b23066c'), ObjectId('681a2a86a522f6645b23066d'), ObjectId('681a2a86a522f6645b23066e'), ObjectId('681a2a86a522f6645b23066f'), ObjectId('681a2a86a522f6645b230670'), ObjectId('681a2a86a522f6645b230671'), ObjectId('681a2a86a522f6645b230672'), ObjectId('681a2a86a522f6645b230673'), ObjectId('681a2a86a522f6645b230674'), ObjectId('681a2a86a522f6645b230675'), ObjectId('681a2a86a522f6645b230676'), ObjectId('681a2a86a522f6645b230677'), ObjectId('681a2a86a522f6645b230678'), ObjectId('681a2a86a522f6645b230679'), ObjectId('681a2a86a522f6645b23067a'), ObjectId('681a2a86a522f6645b23067b'), ObjectId('681a2a86a522f6645b23067c'), ObjectId('681a2a86a522f6645b23067d'), ObjectId('681a2a86a522f6645b23067e'), ObjectId('681a2a86a522f6645b23067f'), ObjectId('681a2a86a522f6645b230680'), ObjectId('681a2a86a522f6645b230681'), ObjectId('681a2a86a522f6645b230682'), ObjectId('681a2a86a522f6645b230683'), ObjectId('681a2a86a522f6645b230684'), ObjectId('681a2a86a522f6645b230685'), ObjectId('681a2a86a522f6645b230686'), ObjectId('681a2a86a522f6645b230687'), ObjectId('681a2a86a522f6645b230688'), ObjectId('681a2a86a522f6645b230689'), ObjectId('681a2a86a522f6645b23068a'), ObjectId('681a2a86a522f6645b23068b'), ObjectId('681a2a86a522f6645b23068c'), ObjectId('681a2a86a522f6645b23068d'), ObjectId('681a2a86a522f6645b23068e'), ObjectId('681a2a86a522f6645b23068f'), ObjectId('681a2a86a522f6645b230690'), ObjectId('681a2a86a522f6645b230691'), ObjectId('681a2a86a522f6645b230692'), ObjectId('681a2a86a522f6645b230693'), ObjectId('681a2a86a522f6645b230694'), ObjectId('681a2a86a522f6645b230695'), ObjectId('681a2a86a522f6645b230696'), ObjectId('681a2a86a522f6645b230697'), ObjectId('681a2a86a522f6645b230698'), ObjectId('681a2a86a522f6645b230699'), ObjectId('681a2a86a522f6645b23069a'), ObjectId('681a2a86a522f6645b23069b'), ObjectId('681a2a86a522f6645b23069c'), ObjectId('681a2a86a522f6645b23069d'), ObjectId('681a2a86a522f6645b23069e'), ObjectId('681a2a86a522f6645b23069f'), ObjectId('681a2a86a522f6645b2306a0'), ObjectId('681a2a86a522f6645b2306a1'), ObjectId('681a2a86a522f6645b2306a2'), ObjectId('681a2a86a522f6645b2306a3'), ObjectId('681a2a86a522f6645b2306a4'), ObjectId('681a2a86a522f6645b2306a5'), ObjectId('681a2a86a522f6645b2306a6'), ObjectId('681a2a86a522f6645b2306a7'), ObjectId('681a2a86a522f6645b2306a8'), ObjectId('681a2a86a522f6645b2306a9'), ObjectId('681a2a86a522f6645b2306aa'), ObjectId('681a2a86a522f6645b2306ab'), ObjectId('681a2a86a522f6645b2306ac'), ObjectId('681a2a86a522f6645b2306ad'), ObjectId('681a2a86a522f6645b2306ae'), ObjectId('681a2a86a522f6645b2306af'), ObjectId('681a2a86a522f6645b2306b0'), ObjectId('681a2a86a522f6645b2306b1'), ObjectId('681a2a86a522f6645b2306b2'), ObjectId('681a2a86a522f6645b2306b3'), ObjectId('681a2a86a522f6645b2306b4'), ObjectId('681a2a86a522f6645b2306b5'), ObjectId('681a2a86a522f6645b2306b6'), ObjectId('681a2a86a522f6645b2306b7'), ObjectId('681a2a86a522f6645b2306b8'), ObjectId('681a2a86a522f6645b2306b9'), ObjectId('681a2a86a522f6645b2306ba'), ObjectId('681a2a86a522f6645b2306bb'), ObjectId('681a2a86a522f6645b2306bc'), ObjectId('681a2a86a522f6645b2306bd'), ObjectId('681a2a86a522f6645b2306be'), ObjectId('681a2a86a522f6645b2306bf'), ObjectId('681a2a86a522f6645b2306c0'), ObjectId('681a2a86a522f6645b2306c1'), ObjectId('681a2a86a522f6645b2306c2'), ObjectId('681a2a86a522f6645b2306c3'), ObjectId('681a2a86a522f6645b2306c4'), ObjectId('681a2a86a522f6645b2306c5'), ObjectId('681a2a86a522f6645b2306c6'), ObjectId('681a2a86a522f6645b2306c7'), ObjectId('681a2a86a522f6645b2306c8'), ObjectId('681a2a86a522f6645b2306c9'), ObjectId('681a2a86a522f6645b2306ca'), ObjectId('681a2a86a522f6645b2306cb'), ObjectId('681a2a86a522f6645b2306cc'), ObjectId('681a2a86a522f6645b2306cd'), ObjectId('681a2a86a522f6645b2306ce'), ObjectId('681a2a86a522f6645b2306cf'), ObjectId('681a2a86a522f6645b2306d0'), ObjectId('681a2a86a522f6645b2306d1'), ObjectId('681a2a86a522f6645b2306d2'), ObjectId('681a2a86a522f6645b2306d3'), ObjectId('681a2a86a522f6645b2306d4'), ObjectId('681a2a86a522f6645b2306d5'), ObjectId('681a2a86a522f6645b2306d6'), ObjectId('681a2a86a522f6645b2306d7'), ObjectId('681a2a86a522f6645b2306d8'), ObjectId('681a2a86a522f6645b2306d9'), ObjectId('681a2a86a522f6645b2306da'), ObjectId('681a2a86a522f6645b2306db'), ObjectId('681a2a86a522f6645b2306dc'), ObjectId('681a2a86a522f6645b2306dd'), ObjectId('681a2a86a522f6645b2306de'), ObjectId('681a2a86a522f6645b2306df'), ObjectId('681a2a86a522f6645b2306e0'), ObjectId('681a2a86a522f6645b2306e1'), ObjectId('681a2a86a522f6645b2306e2'), ObjectId('681a2a86a522f6645b2306e3'), ObjectId('681a2a86a522f6645b2306e4'), ObjectId('681a2a86a522f6645b2306e5'), ObjectId('681a2a86a522f6645b2306e6'), ObjectId('681a2a86a522f6645b2306e7'), ObjectId('681a2a86a522f6645b2306e8'), ObjectId('681a2a86a522f6645b2306e9'), ObjectId('681a2a86a522f6645b2306ea'), ObjectId('681a2a86a522f6645b2306eb'), ObjectId('681a2a86a522f6645b2306ec'), ObjectId('681a2a86a522f6645b2306ed'), ObjectId('681a2a86a522f6645b2306ee'), ObjectId('681a2a86a522f6645b2306ef'), ObjectId('681a2a86a522f6645b2306f0'), ObjectId('681a2a86a522f6645b2306f1'), ObjectId('681a2a86a522f6645b2306f2'), ObjectId('681a2a86a522f6645b2306f3'), ObjectId('681a2a86a522f6645b2306f4'), ObjectId('681a2a86a522f6645b2306f5'), ObjectId('681a2a86a522f6645b2306f6'), ObjectId('681a2a86a522f6645b2306f7'), ObjectId('681a2a86a522f6645b2306f8'), ObjectId('681a2a86a522f6645b2306f9'), ObjectId('681a2a86a522f6645b2306fa'), ObjectId('681a2a86a522f6645b2306fb'), ObjectId('681a2a86a522f6645b2306fc'), ObjectId('681a2a86a522f6645b2306fd'), ObjectId('681a2a86a522f6645b2306fe'), ObjectId('681a2a86a522f6645b2306ff'), ObjectId('681a2a86a522f6645b230700'), ObjectId('681a2a86a522f6645b230701'), ObjectId('681a2a86a522f6645b230702'), ObjectId('681a2a86a522f6645b230703'), ObjectId('681a2a86a522f6645b230704'), ObjectId('681a2a86a522f6645b230705'), ObjectId('681a2a86a522f6645b230706'), ObjectId('681a2a86a522f6645b230707'), ObjectId('681a2a86a522f6645b230708'), ObjectId('681a2a86a522f6645b230709'), ObjectId('681a2a86a522f6645b23070a'), ObjectId('681a2a86a522f6645b23070b'), ObjectId('681a2a86a522f6645b23070c'), ObjectId('681a2a86a522f6645b23070d'), ObjectId('681a2a86a522f6645b23070e'), ObjectId('681a2a86a522f6645b23070f'), ObjectId('681a2a86a522f6645b230710'), ObjectId('681a2a86a522f6645b230711'), ObjectId('681a2a86a522f6645b230712'), ObjectId('681a2a86a522f6645b230713'), ObjectId('681a2a86a522f6645b230714'), ObjectId('681a2a86a522f6645b230715'), ObjectId('681a2a86a522f6645b230716'), ObjectId('681a2a86a522f6645b230717'), ObjectId('681a2a86a522f6645b230718'), ObjectId('681a2a86a522f6645b230719'), ObjectId('681a2a86a522f6645b23071a'), ObjectId('681a2a86a522f6645b23071b'), ObjectId('681a2a86a522f6645b23071c'), ObjectId('681a2a86a522f6645b23071d'), ObjectId('681a2a86a522f6645b23071e'), ObjectId('681a2a86a522f6645b23071f'), ObjectId('681a2a86a522f6645b230720'), ObjectId('681a2a86a522f6645b230721'), ObjectId('681a2a86a522f6645b230722'), ObjectId('681a2a86a522f6645b230723'), ObjectId('681a2a86a522f6645b230724'), ObjectId('681a2a86a522f6645b230725'), ObjectId('681a2a86a522f6645b230726'), ObjectId('681a2a86a522f6645b230727'), ObjectId('681a2a86a522f6645b230728'), ObjectId('681a2a86a522f6645b230729'), ObjectId('681a2a86a522f6645b23072a'), ObjectId('681a2a86a522f6645b23072b'), ObjectId('681a2a86a522f6645b23072c'), ObjectId('681a2a86a522f6645b23072d'), ObjectId('681a2a86a522f6645b23072e'), ObjectId('681a2a86a522f6645b23072f'), ObjectId('681a2a86a522f6645b230730'), ObjectId('681a2a86a522f6645b230731'), ObjectId('681a2a86a522f6645b230732'), ObjectId('681a2a86a522f6645b230733'), ObjectId('681a2a86a522f6645b230734'), ObjectId('681a2a86a522f6645b230735'), ObjectId('681a2a86a522f6645b230736'), ObjectId('681a2a86a522f6645b230737'), ObjectId('681a2a86a522f6645b230738'), ObjectId('681a2a86a522f6645b230739'), ObjectId('681a2a86a522f6645b23073a'), ObjectId('681a2a86a522f6645b23073b'), ObjectId('681a2a86a522f6645b23073c'), ObjectId('681a2a86a522f6645b23073d'), ObjectId('681a2a86a522f6645b23073e'), ObjectId('681a2a86a522f6645b23073f'), ObjectId('681a2a86a522f6645b230740'), ObjectId('681a2a86a522f6645b230741'), ObjectId('681a2a86a522f6645b230742'), ObjectId('681a2a86a522f6645b230743'), ObjectId('681a2a86a522f6645b230744'), ObjectId('681a2a86a522f6645b230745'), ObjectId('681a2a86a522f6645b230746'), ObjectId('681a2a86a522f6645b230747'), ObjectId('681a2a86a522f6645b230748'), ObjectId('681a2a86a522f6645b230749'), ObjectId('681a2a86a522f6645b23074a'), ObjectId('681a2a86a522f6645b23074b'), ObjectId('681a2a86a522f6645b23074c'), ObjectId('681a2a86a522f6645b23074d'), ObjectId('681a2a86a522f6645b23074e'), ObjectId('681a2a86a522f6645b23074f'), ObjectId('681a2a86a522f6645b230750'), ObjectId('681a2a86a522f6645b230751'), ObjectId('681a2a86a522f6645b230752'), ObjectId('681a2a86a522f6645b230753'), ObjectId('681a2a86a522f6645b230754'), ObjectId('681a2a86a522f6645b230755'), ObjectId('681a2a86a522f6645b230756'), ObjectId('681a2a86a522f6645b230757'), ObjectId('681a2a86a522f6645b230758'), ObjectId('681a2a86a522f6645b230759'), ObjectId('681a2a86a522f6645b23075a'), ObjectId('681a2a86a522f6645b23075b'), ObjectId('681a2a86a522f6645b23075c'), ObjectId('681a2a86a522f6645b23075d'), ObjectId('681a2a86a522f6645b23075e'), ObjectId('681a2a86a522f6645b23075f'), ObjectId('681a2a86a522f6645b230760'), ObjectId('681a2a86a522f6645b230761'), ObjectId('681a2a86a522f6645b230762'), ObjectId('681a2a86a522f6645b230763'), ObjectId('681a2a86a522f6645b230764'), ObjectId('681a2a86a522f6645b230765'), ObjectId('681a2a86a522f6645b230766'), ObjectId('681a2a86a522f6645b230767'), ObjectId('681a2a86a522f6645b230768'), ObjectId('681a2a86a522f6645b230769'), ObjectId('681a2a86a522f6645b23076a'), ObjectId('681a2a86a522f6645b23076b'), ObjectId('681a2a86a522f6645b23076c'), ObjectId('681a2a86a522f6645b23076d'), ObjectId('681a2a86a522f6645b23076e'), ObjectId('681a2a86a522f6645b23076f'), ObjectId('681a2a86a522f6645b230770'), ObjectId('681a2a86a522f6645b230771'), ObjectId('681a2a86a522f6645b230772'), ObjectId('681a2a86a522f6645b230773'), ObjectId('681a2a86a522f6645b230774'), ObjectId('681a2a86a522f6645b230775'), ObjectId('681a2a86a522f6645b230776'), ObjectId('681a2a86a522f6645b230777'), ObjectId('681a2a86a522f6645b230778'), ObjectId('681a2a86a522f6645b230779'), ObjectId('681a2a86a522f6645b23077a'), ObjectId('681a2a86a522f6645b23077b'), ObjectId('681a2a86a522f6645b23077c'), ObjectId('681a2a86a522f6645b23077d'), ObjectId('681a2a86a522f6645b23077e'), ObjectId('681a2a86a522f6645b23077f'), ObjectId('681a2a86a522f6645b230780'), ObjectId('681a2a86a522f6645b230781'), ObjectId('681a2a86a522f6645b230782'), ObjectId('681a2a86a522f6645b230783'), ObjectId('681a2a86a522f6645b230784'), ObjectId('681a2a86a522f6645b230785'), ObjectId('681a2a86a522f6645b230786'), ObjectId('681a2a86a522f6645b230787'), ObjectId('681a2a86a522f6645b230788'), ObjectId('681a2a86a522f6645b230789'), ObjectId('681a2a86a522f6645b23078a'), ObjectId('681a2a86a522f6645b23078b'), ObjectId('681a2a86a522f6645b23078c'), ObjectId('681a2a86a522f6645b23078d'), ObjectId('681a2a86a522f6645b23078e'), ObjectId('681a2a86a522f6645b23078f'), ObjectId('681a2a86a522f6645b230790'), ObjectId('681a2a86a522f6645b230791'), ObjectId('681a2a86a522f6645b230792'), ObjectId('681a2a86a522f6645b230793'), ObjectId('681a2a86a522f6645b230794'), ObjectId('681a2a86a522f6645b230795'), ObjectId('681a2a86a522f6645b230796'), ObjectId('681a2a86a522f6645b230797'), ObjectId('681a2a86a522f6645b230798'), ObjectId('681a2a86a522f6645b230799'), ObjectId('681a2a86a522f6645b23079a'), ObjectId('681a2a86a522f6645b23079b'), ObjectId('681a2a86a522f6645b23079c'), ObjectId('681a2a86a522f6645b23079d'), ObjectId('681a2a86a522f6645b23079e'), ObjectId('681a2a86a522f6645b23079f'), ObjectId('681a2a86a522f6645b2307a0'), ObjectId('681a2a86a522f6645b2307a1'), ObjectId('681a2a86a522f6645b2307a2'), ObjectId('681a2a86a522f6645b2307a3'), ObjectId('681a2a86a522f6645b2307a4'), ObjectId('681a2a86a522f6645b2307a5'), ObjectId('681a2a86a522f6645b2307a6'), ObjectId('681a2a86a522f6645b2307a7'), ObjectId('681a2a86a522f6645b2307a8'), ObjectId('681a2a86a522f6645b2307a9'), ObjectId('681a2a86a522f6645b2307aa'), ObjectId('681a2a86a522f6645b2307ab'), ObjectId('681a2a86a522f6645b2307ac'), ObjectId('681a2a86a522f6645b2307ad'), ObjectId('681a2a86a522f6645b2307ae'), ObjectId('681a2a86a522f6645b2307af'), ObjectId('681a2a86a522f6645b2307b0'), ObjectId('681a2a86a522f6645b2307b1'), ObjectId('681a2a86a522f6645b2307b2'), ObjectId('681a2a86a522f6645b2307b3'), ObjectId('681a2a86a522f6645b2307b4'), ObjectId('681a2a86a522f6645b2307b5'), ObjectId('681a2a86a522f6645b2307b6'), ObjectId('681a2a86a522f6645b2307b7'), ObjectId('681a2a86a522f6645b2307b8'), ObjectId('681a2a86a522f6645b2307b9'), ObjectId('681a2a86a522f6645b2307ba'), ObjectId('681a2a86a522f6645b2307bb'), ObjectId('681a2a86a522f6645b2307bc'), ObjectId('681a2a86a522f6645b2307bd'), ObjectId('681a2a86a522f6645b2307be'), ObjectId('681a2a86a522f6645b2307bf'), ObjectId('681a2a86a522f6645b2307c0'), ObjectId('681a2a86a522f6645b2307c1'), ObjectId('681a2a86a522f6645b2307c2'), ObjectId('681a2a86a522f6645b2307c3'), ObjectId('681a2a86a522f6645b2307c4'), ObjectId('681a2a86a522f6645b2307c5'), ObjectId('681a2a86a522f6645b2307c6'), ObjectId('681a2a86a522f6645b2307c7'), ObjectId('681a2a86a522f6645b2307c8'), ObjectId('681a2a86a522f6645b2307c9'), ObjectId('681a2a86a522f6645b2307ca'), ObjectId('681a2a86a522f6645b2307cb'), ObjectId('681a2a86a522f6645b2307cc'), ObjectId('681a2a86a522f6645b2307cd'), ObjectId('681a2a86a522f6645b2307ce'), ObjectId('681a2a86a522f6645b2307cf'), ObjectId('681a2a86a522f6645b2307d0'), ObjectId('681a2a86a522f6645b2307d1'), ObjectId('681a2a86a522f6645b2307d2'), ObjectId('681a2a86a522f6645b2307d3'), ObjectId('681a2a86a522f6645b2307d4'), ObjectId('681a2a86a522f6645b2307d5'), ObjectId('681a2a86a522f6645b2307d6'), ObjectId('681a2a86a522f6645b2307d7'), ObjectId('681a2a86a522f6645b2307d8'), ObjectId('681a2a86a522f6645b2307d9'), ObjectId('681a2a86a522f6645b2307da'), ObjectId('681a2a86a522f6645b2307db'), ObjectId('681a2a86a522f6645b2307dc'), ObjectId('681a2a86a522f6645b2307dd'), ObjectId('681a2a86a522f6645b2307de'), ObjectId('681a2a86a522f6645b2307df'), ObjectId('681a2a86a522f6645b2307e0'), ObjectId('681a2a86a522f6645b2307e1'), ObjectId('681a2a86a522f6645b2307e2'), ObjectId('681a2a86a522f6645b2307e3'), ObjectId('681a2a86a522f6645b2307e4'), ObjectId('681a2a86a522f6645b2307e5'), ObjectId('681a2a86a522f6645b2307e6'), ObjectId('681a2a86a522f6645b2307e7'), ObjectId('681a2a86a522f6645b2307e8'), ObjectId('681a2a86a522f6645b2307e9'), ObjectId('681a2a86a522f6645b2307ea'), ObjectId('681a2a86a522f6645b2307eb'), ObjectId('681a2a86a522f6645b2307ec'), ObjectId('681a2a86a522f6645b2307ed'), ObjectId('681a2a86a522f6645b2307ee'), ObjectId('681a2a86a522f6645b2307ef'), ObjectId('681a2a86a522f6645b2307f0'), ObjectId('681a2a86a522f6645b2307f1'), ObjectId('681a2a86a522f6645b2307f2'), ObjectId('681a2a86a522f6645b2307f3'), ObjectId('681a2a86a522f6645b2307f4'), ObjectId('681a2a86a522f6645b2307f5'), ObjectId('681a2a86a522f6645b2307f6'), ObjectId('681a2a86a522f6645b2307f7'), ObjectId('681a2a86a522f6645b2307f8'), ObjectId('681a2a86a522f6645b2307f9'), ObjectId('681a2a86a522f6645b2307fa'), ObjectId('681a2a86a522f6645b2307fb'), ObjectId('681a2a86a522f6645b2307fc'), ObjectId('681a2a86a522f6645b2307fd'), ObjectId('681a2a86a522f6645b2307fe'), ObjectId('681a2a86a522f6645b2307ff'), ObjectId('681a2a86a522f6645b230800'), ObjectId('681a2a86a522f6645b230801'), ObjectId('681a2a86a522f6645b230802'), ObjectId('681a2a86a522f6645b230803'), ObjectId('681a2a86a522f6645b230804'), ObjectId('681a2a86a522f6645b230805'), ObjectId('681a2a86a522f6645b230806'), ObjectId('681a2a86a522f6645b230807'), ObjectId('681a2a86a522f6645b230808'), ObjectId('681a2a86a522f6645b230809'), ObjectId('681a2a86a522f6645b23080a'), ObjectId('681a2a86a522f6645b23080b'), ObjectId('681a2a86a522f6645b23080c'), ObjectId('681a2a86a522f6645b23080d'), ObjectId('681a2a86a522f6645b23080e'), ObjectId('681a2a86a522f6645b23080f'), ObjectId('681a2a86a522f6645b230810'), ObjectId('681a2a86a522f6645b230811'), ObjectId('681a2a86a522f6645b230812'), ObjectId('681a2a86a522f6645b230813'), ObjectId('681a2a86a522f6645b230814'), ObjectId('681a2a86a522f6645b230815'), ObjectId('681a2a86a522f6645b230816'), ObjectId('681a2a86a522f6645b230817'), ObjectId('681a2a86a522f6645b230818'), ObjectId('681a2a86a522f6645b230819'), ObjectId('681a2a86a522f6645b23081a'), ObjectId('681a2a86a522f6645b23081b'), ObjectId('681a2a86a522f6645b23081c'), ObjectId('681a2a86a522f6645b23081d'), ObjectId('681a2a86a522f6645b23081e'), ObjectId('681a2a86a522f6645b23081f'), ObjectId('681a2a86a522f6645b230820'), ObjectId('681a2a86a522f6645b230821'), ObjectId('681a2a86a522f6645b230822'), ObjectId('681a2a86a522f6645b230823'), ObjectId('681a2a86a522f6645b230824'), ObjectId('681a2a86a522f6645b230825'), ObjectId('681a2a86a522f6645b230826'), ObjectId('681a2a86a522f6645b230827'), ObjectId('681a2a86a522f6645b230828'), ObjectId('681a2a86a522f6645b230829'), ObjectId('681a2a86a522f6645b23082a'), ObjectId('681a2a86a522f6645b23082b'), ObjectId('681a2a86a522f6645b23082c'), ObjectId('681a2a86a522f6645b23082d'), ObjectId('681a2a86a522f6645b23082e'), ObjectId('681a2a86a522f6645b23082f'), ObjectId('681a2a86a522f6645b230830'), ObjectId('681a2a86a522f6645b230831'), ObjectId('681a2a86a522f6645b230832'), ObjectId('681a2a86a522f6645b230833'), ObjectId('681a2a86a522f6645b230834'), ObjectId('681a2a86a522f6645b230835'), ObjectId('681a2a86a522f6645b230836'), ObjectId('681a2a86a522f6645b230837'), ObjectId('681a2a86a522f6645b230838'), ObjectId('681a2a86a522f6645b230839'), ObjectId('681a2a86a522f6645b23083a'), ObjectId('681a2a86a522f6645b23083b'), ObjectId('681a2a86a522f6645b23083c'), ObjectId('681a2a86a522f6645b23083d'), ObjectId('681a2a86a522f6645b23083e'), ObjectId('681a2a86a522f6645b23083f'), ObjectId('681a2a86a522f6645b230840'), ObjectId('681a2a86a522f6645b230841'), ObjectId('681a2a86a522f6645b230842'), ObjectId('681a2a86a522f6645b230843'), ObjectId('681a2a86a522f6645b230844'), ObjectId('681a2a86a522f6645b230845'), ObjectId('681a2a86a522f6645b230846'), ObjectId('681a2a86a522f6645b230847'), ObjectId('681a2a86a522f6645b230848'), ObjectId('681a2a86a522f6645b230849'), ObjectId('681a2a86a522f6645b23084a'), ObjectId('681a2a86a522f6645b23084b'), ObjectId('681a2a86a522f6645b23084c'), ObjectId('681a2a86a522f6645b23084d'), ObjectId('681a2a86a522f6645b23084e'), ObjectId('681a2a86a522f6645b23084f'), ObjectId('681a2a86a522f6645b230850'), ObjectId('681a2a86a522f6645b230851'), ObjectId('681a2a86a522f6645b230852'), ObjectId('681a2a86a522f6645b230853'), ObjectId('681a2a86a522f6645b230854'), ObjectId('681a2a86a522f6645b230855'), ObjectId('681a2a86a522f6645b230856'), ObjectId('681a2a86a522f6645b230857'), ObjectId('681a2a86a522f6645b230858'), ObjectId('681a2a86a522f6645b230859'), ObjectId('681a2a86a522f6645b23085a'), ObjectId('681a2a86a522f6645b23085b'), ObjectId('681a2a86a522f6645b23085c'), ObjectId('681a2a86a522f6645b23085d'), ObjectId('681a2a86a522f6645b23085e'), ObjectId('681a2a86a522f6645b23085f'), ObjectId('681a2a86a522f6645b230860'), ObjectId('681a2a86a522f6645b230861'), ObjectId('681a2a86a522f6645b230862'), ObjectId('681a2a86a522f6645b230863'), ObjectId('681a2a86a522f6645b230864'), ObjectId('681a2a86a522f6645b230865'), ObjectId('681a2a86a522f6645b230866'), ObjectId('681a2a86a522f6645b230867'), ObjectId('681a2a86a522f6645b230868'), ObjectId('681a2a86a522f6645b230869'), ObjectId('681a2a86a522f6645b23086a'), ObjectId('681a2a86a522f6645b23086b'), ObjectId('681a2a86a522f6645b23086c'), ObjectId('681a2a86a522f6645b23086d'), ObjectId('681a2a86a522f6645b23086e'), ObjectId('681a2a86a522f6645b23086f'), ObjectId('681a2a86a522f6645b230870'), ObjectId('681a2a86a522f6645b230871'), ObjectId('681a2a86a522f6645b230872'), ObjectId('681a2a86a522f6645b230873'), ObjectId('681a2a86a522f6645b230874'), ObjectId('681a2a86a522f6645b230875'), ObjectId('681a2a86a522f6645b230876'), ObjectId('681a2a86a522f6645b230877'), ObjectId('681a2a86a522f6645b230878'), ObjectId('681a2a86a522f6645b230879'), ObjectId('681a2a86a522f6645b23087a'), ObjectId('681a2a86a522f6645b23087b'), ObjectId('681a2a86a522f6645b23087c'), ObjectId('681a2a86a522f6645b23087d'), ObjectId('681a2a86a522f6645b23087e'), ObjectId('681a2a86a522f6645b23087f'), ObjectId('681a2a86a522f6645b230880'), ObjectId('681a2a86a522f6645b230881'), ObjectId('681a2a86a522f6645b230882'), ObjectId('681a2a86a522f6645b230883'), ObjectId('681a2a86a522f6645b230884'), ObjectId('681a2a86a522f6645b230885'), ObjectId('681a2a86a522f6645b230886'), ObjectId('681a2a86a522f6645b230887'), ObjectId('681a2a86a522f6645b230888'), ObjectId('681a2a86a522f6645b230889'), ObjectId('681a2a86a522f6645b23088a'), ObjectId('681a2a86a522f6645b23088b'), ObjectId('681a2a86a522f6645b23088c'), ObjectId('681a2a86a522f6645b23088d'), ObjectId('681a2a86a522f6645b23088e'), ObjectId('681a2a86a522f6645b23088f'), ObjectId('681a2a86a522f6645b230890'), ObjectId('681a2a86a522f6645b230891'), ObjectId('681a2a86a522f6645b230892'), ObjectId('681a2a86a522f6645b230893'), ObjectId('681a2a86a522f6645b230894'), ObjectId('681a2a86a522f6645b230895'), ObjectId('681a2a86a522f6645b230896'), ObjectId('681a2a86a522f6645b230897'), ObjectId('681a2a86a522f6645b230898'), ObjectId('681a2a86a522f6645b230899'), ObjectId('681a2a86a522f6645b23089a'), ObjectId('681a2a86a522f6645b23089b'), ObjectId('681a2a86a522f6645b23089c'), ObjectId('681a2a86a522f6645b23089d'), ObjectId('681a2a86a522f6645b23089e'), ObjectId('681a2a86a522f6645b23089f'), ObjectId('681a2a86a522f6645b2308a0'), ObjectId('681a2a86a522f6645b2308a1'), ObjectId('681a2a86a522f6645b2308a2'), ObjectId('681a2a86a522f6645b2308a3'), ObjectId('681a2a86a522f6645b2308a4'), ObjectId('681a2a86a522f6645b2308a5'), ObjectId('681a2a86a522f6645b2308a6'), ObjectId('681a2a86a522f6645b2308a7'), ObjectId('681a2a86a522f6645b2308a8'), ObjectId('681a2a86a522f6645b2308a9'), ObjectId('681a2a86a522f6645b2308aa'), ObjectId('681a2a86a522f6645b2308ab'), ObjectId('681a2a86a522f6645b2308ac'), ObjectId('681a2a86a522f6645b2308ad'), ObjectId('681a2a86a522f6645b2308ae'), ObjectId('681a2a86a522f6645b2308af'), ObjectId('681a2a86a522f6645b2308b0'), ObjectId('681a2a86a522f6645b2308b1'), ObjectId('681a2a86a522f6645b2308b2'), ObjectId('681a2a86a522f6645b2308b3'), ObjectId('681a2a86a522f6645b2308b4'), ObjectId('681a2a86a522f6645b2308b5'), ObjectId('681a2a86a522f6645b2308b6'), ObjectId('681a2a86a522f6645b2308b7'), ObjectId('681a2a86a522f6645b2308b8'), ObjectId('681a2a86a522f6645b2308b9'), ObjectId('681a2a86a522f6645b2308ba'), ObjectId('681a2a86a522f6645b2308bb'), ObjectId('681a2a86a522f6645b2308bc'), ObjectId('681a2a86a522f6645b2308bd'), ObjectId('681a2a86a522f6645b2308be'), ObjectId('681a2a86a522f6645b2308bf'), ObjectId('681a2a86a522f6645b2308c0'), ObjectId('681a2a86a522f6645b2308c1'), ObjectId('681a2a86a522f6645b2308c2'), ObjectId('681a2a86a522f6645b2308c3'), ObjectId('681a2a86a522f6645b2308c4'), ObjectId('681a2a86a522f6645b2308c5'), ObjectId('681a2a86a522f6645b2308c6'), ObjectId('681a2a86a522f6645b2308c7'), ObjectId('681a2a86a522f6645b2308c8'), ObjectId('681a2a86a522f6645b2308c9'), ObjectId('681a2a86a522f6645b2308ca'), ObjectId('681a2a86a522f6645b2308cb'), ObjectId('681a2a86a522f6645b2308cc'), ObjectId('681a2a86a522f6645b2308cd'), ObjectId('681a2a86a522f6645b2308ce'), ObjectId('681a2a86a522f6645b2308cf'), ObjectId('681a2a86a522f6645b2308d0'), ObjectId('681a2a86a522f6645b2308d1'), ObjectId('681a2a86a522f6645b2308d2'), ObjectId('681a2a86a522f6645b2308d3'), ObjectId('681a2a86a522f6645b2308d4'), ObjectId('681a2a86a522f6645b2308d5'), ObjectId('681a2a86a522f6645b2308d6'), ObjectId('681a2a86a522f6645b2308d7'), ObjectId('681a2a86a522f6645b2308d8'), ObjectId('681a2a86a522f6645b2308d9'), ObjectId('681a2a86a522f6645b2308da'), ObjectId('681a2a86a522f6645b2308db'), ObjectId('681a2a86a522f6645b2308dc'), ObjectId('681a2a86a522f6645b2308dd'), ObjectId('681a2a86a522f6645b2308de'), ObjectId('681a2a86a522f6645b2308df'), ObjectId('681a2a86a522f6645b2308e0'), ObjectId('681a2a86a522f6645b2308e1'), ObjectId('681a2a86a522f6645b2308e2'), ObjectId('681a2a86a522f6645b2308e3'), ObjectId('681a2a86a522f6645b2308e4'), ObjectId('681a2a86a522f6645b2308e5'), ObjectId('681a2a86a522f6645b2308e6'), ObjectId('681a2a86a522f6645b2308e7'), ObjectId('681a2a86a522f6645b2308e8'), ObjectId('681a2a86a522f6645b2308e9'), ObjectId('681a2a86a522f6645b2308ea'), ObjectId('681a2a86a522f6645b2308eb'), ObjectId('681a2a86a522f6645b2308ec'), ObjectId('681a2a86a522f6645b2308ed'), ObjectId('681a2a86a522f6645b2308ee'), ObjectId('681a2a86a522f6645b2308ef'), ObjectId('681a2a86a522f6645b2308f0'), ObjectId('681a2a86a522f6645b2308f1'), ObjectId('681a2a86a522f6645b2308f2'), ObjectId('681a2a86a522f6645b2308f3'), ObjectId('681a2a86a522f6645b2308f4'), ObjectId('681a2a86a522f6645b2308f5'), ObjectId('681a2a86a522f6645b2308f6'), ObjectId('681a2a86a522f6645b2308f7'), ObjectId('681a2a86a522f6645b2308f8'), ObjectId('681a2a86a522f6645b2308f9'), ObjectId('681a2a86a522f6645b2308fa'), ObjectId('681a2a86a522f6645b2308fb'), ObjectId('681a2a86a522f6645b2308fc'), ObjectId('681a2a86a522f6645b2308fd'), ObjectId('681a2a86a522f6645b2308fe'), ObjectId('681a2a86a522f6645b2308ff'), ObjectId('681a2a86a522f6645b230900'), ObjectId('681a2a86a522f6645b230901'), ObjectId('681a2a86a522f6645b230902'), ObjectId('681a2a86a522f6645b230903'), ObjectId('681a2a86a522f6645b230904'), ObjectId('681a2a86a522f6645b230905'), ObjectId('681a2a86a522f6645b230906'), ObjectId('681a2a86a522f6645b230907'), ObjectId('681a2a86a522f6645b230908'), ObjectId('681a2a86a522f6645b230909'), ObjectId('681a2a86a522f6645b23090a'), ObjectId('681a2a86a522f6645b23090b'), ObjectId('681a2a86a522f6645b23090c'), ObjectId('681a2a86a522f6645b23090d'), ObjectId('681a2a86a522f6645b23090e'), ObjectId('681a2a86a522f6645b23090f'), ObjectId('681a2a86a522f6645b230910'), ObjectId('681a2a86a522f6645b230911'), ObjectId('681a2a86a522f6645b230912'), ObjectId('681a2a86a522f6645b230913'), ObjectId('681a2a86a522f6645b230914'), ObjectId('681a2a86a522f6645b230915'), ObjectId('681a2a86a522f6645b230916'), ObjectId('681a2a86a522f6645b230917'), ObjectId('681a2a86a522f6645b230918'), ObjectId('681a2a86a522f6645b230919'), ObjectId('681a2a86a522f6645b23091a'), ObjectId('681a2a86a522f6645b23091b'), ObjectId('681a2a86a522f6645b23091c'), ObjectId('681a2a86a522f6645b23091d'), ObjectId('681a2a86a522f6645b23091e'), ObjectId('681a2a86a522f6645b23091f'), ObjectId('681a2a86a522f6645b230920'), ObjectId('681a2a86a522f6645b230921'), ObjectId('681a2a86a522f6645b230922'), ObjectId('681a2a86a522f6645b230923'), ObjectId('681a2a86a522f6645b230924'), ObjectId('681a2a86a522f6645b230925'), ObjectId('681a2a86a522f6645b230926'), ObjectId('681a2a86a522f6645b230927'), ObjectId('681a2a86a522f6645b230928'), ObjectId('681a2a86a522f6645b230929'), ObjectId('681a2a86a522f6645b23092a'), ObjectId('681a2a86a522f6645b23092b'), ObjectId('681a2a86a522f6645b23092c'), ObjectId('681a2a86a522f6645b23092d'), ObjectId('681a2a86a522f6645b23092e'), ObjectId('681a2a86a522f6645b23092f'), ObjectId('681a2a86a522f6645b230930'), ObjectId('681a2a86a522f6645b230931'), ObjectId('681a2a86a522f6645b230932'), ObjectId('681a2a86a522f6645b230933'), ObjectId('681a2a86a522f6645b230934'), ObjectId('681a2a86a522f6645b230935'), ObjectId('681a2a86a522f6645b230936'), ObjectId('681a2a86a522f6645b230937'), ObjectId('681a2a86a522f6645b230938'), ObjectId('681a2a86a522f6645b230939'), ObjectId('681a2a86a522f6645b23093a'), ObjectId('681a2a86a522f6645b23093b'), ObjectId('681a2a86a522f6645b23093c'), ObjectId('681a2a86a522f6645b23093d'), ObjectId('681a2a86a522f6645b23093e'), ObjectId('681a2a86a522f6645b23093f'), ObjectId('681a2a86a522f6645b230940'), ObjectId('681a2a86a522f6645b230941'), ObjectId('681a2a86a522f6645b230942'), ObjectId('681a2a86a522f6645b230943'), ObjectId('681a2a86a522f6645b230944'), ObjectId('681a2a86a522f6645b230945'), ObjectId('681a2a86a522f6645b230946'), ObjectId('681a2a86a522f6645b230947'), ObjectId('681a2a86a522f6645b230948'), ObjectId('681a2a86a522f6645b230949'), ObjectId('681a2a86a522f6645b23094a'), ObjectId('681a2a86a522f6645b23094b'), ObjectId('681a2a86a522f6645b23094c'), ObjectId('681a2a86a522f6645b23094d'), ObjectId('681a2a86a522f6645b23094e'), ObjectId('681a2a86a522f6645b23094f'), ObjectId('681a2a86a522f6645b230950'), ObjectId('681a2a86a522f6645b230951'), ObjectId('681a2a86a522f6645b230952'), ObjectId('681a2a86a522f6645b230953'), ObjectId('681a2a86a522f6645b230954'), ObjectId('681a2a86a522f6645b230955'), ObjectId('681a2a86a522f6645b230956'), ObjectId('681a2a86a522f6645b230957'), ObjectId('681a2a86a522f6645b230958'), ObjectId('681a2a86a522f6645b230959'), ObjectId('681a2a86a522f6645b23095a'), ObjectId('681a2a86a522f6645b23095b'), ObjectId('681a2a86a522f6645b23095c'), ObjectId('681a2a86a522f6645b23095d'), ObjectId('681a2a86a522f6645b23095e'), ObjectId('681a2a86a522f6645b23095f'), ObjectId('681a2a86a522f6645b230960'), ObjectId('681a2a86a522f6645b230961'), ObjectId('681a2a86a522f6645b230962'), ObjectId('681a2a86a522f6645b230963'), ObjectId('681a2a86a522f6645b230964'), ObjectId('681a2a86a522f6645b230965'), ObjectId('681a2a86a522f6645b230966'), ObjectId('681a2a86a522f6645b230967'), ObjectId('681a2a86a522f6645b230968'), ObjectId('681a2a86a522f6645b230969'), ObjectId('681a2a86a522f6645b23096a'), ObjectId('681a2a86a522f6645b23096b'), ObjectId('681a2a86a522f6645b23096c'), ObjectId('681a2a86a522f6645b23096d'), ObjectId('681a2a86a522f6645b23096e'), ObjectId('681a2a86a522f6645b23096f'), ObjectId('681a2a86a522f6645b230970'), ObjectId('681a2a86a522f6645b230971'), ObjectId('681a2a86a522f6645b230972'), ObjectId('681a2a86a522f6645b230973'), ObjectId('681a2a86a522f6645b230974'), ObjectId('681a2a86a522f6645b230975'), ObjectId('681a2a86a522f6645b230976'), ObjectId('681a2a86a522f6645b230977'), ObjectId('681a2a86a522f6645b230978'), ObjectId('681a2a86a522f6645b230979'), ObjectId('681a2a86a522f6645b23097a'), ObjectId('681a2a86a522f6645b23097b'), ObjectId('681a2a86a522f6645b23097c'), ObjectId('681a2a86a522f6645b23097d'), ObjectId('681a2a86a522f6645b23097e'), ObjectId('681a2a86a522f6645b23097f'), ObjectId('681a2a86a522f6645b230980'), ObjectId('681a2a86a522f6645b230981'), ObjectId('681a2a86a522f6645b230982'), ObjectId('681a2a86a522f6645b230983'), ObjectId('681a2a86a522f6645b230984'), ObjectId('681a2a86a522f6645b230985'), ObjectId('681a2a86a522f6645b230986'), ObjectId('681a2a86a522f6645b230987'), ObjectId('681a2a86a522f6645b230988'), ObjectId('681a2a86a522f6645b230989'), ObjectId('681a2a86a522f6645b23098a'), ObjectId('681a2a86a522f6645b23098b'), ObjectId('681a2a86a522f6645b23098c'), ObjectId('681a2a86a522f6645b23098d'), ObjectId('681a2a86a522f6645b23098e'), ObjectId('681a2a86a522f6645b23098f'), ObjectId('681a2a86a522f6645b230990'), ObjectId('681a2a86a522f6645b230991'), ObjectId('681a2a86a522f6645b230992'), ObjectId('681a2a86a522f6645b230993'), ObjectId('681a2a86a522f6645b230994'), ObjectId('681a2a86a522f6645b230995'), ObjectId('681a2a86a522f6645b230996'), ObjectId('681a2a86a522f6645b230997'), ObjectId('681a2a86a522f6645b230998'), ObjectId('681a2a86a522f6645b230999'), ObjectId('681a2a86a522f6645b23099a'), ObjectId('681a2a86a522f6645b23099b'), ObjectId('681a2a86a522f6645b23099c'), ObjectId('681a2a86a522f6645b23099d'), ObjectId('681a2a86a522f6645b23099e'), ObjectId('681a2a86a522f6645b23099f'), ObjectId('681a2a86a522f6645b2309a0'), ObjectId('681a2a86a522f6645b2309a1'), ObjectId('681a2a86a522f6645b2309a2'), ObjectId('681a2a86a522f6645b2309a3'), ObjectId('681a2a86a522f6645b2309a4'), ObjectId('681a2a86a522f6645b2309a5'), ObjectId('681a2a86a522f6645b2309a6'), ObjectId('681a2a86a522f6645b2309a7'), ObjectId('681a2a86a522f6645b2309a8'), ObjectId('681a2a86a522f6645b2309a9'), ObjectId('681a2a86a522f6645b2309aa'), ObjectId('681a2a86a522f6645b2309ab'), ObjectId('681a2a86a522f6645b2309ac'), ObjectId('681a2a86a522f6645b2309ad'), ObjectId('681a2a86a522f6645b2309ae'), ObjectId('681a2a86a522f6645b2309af'), ObjectId('681a2a86a522f6645b2309b0'), ObjectId('681a2a86a522f6645b2309b1'), ObjectId('681a2a86a522f6645b2309b2'), ObjectId('681a2a86a522f6645b2309b3'), ObjectId('681a2a86a522f6645b2309b4'), ObjectId('681a2a86a522f6645b2309b5'), ObjectId('681a2a86a522f6645b2309b6'), ObjectId('681a2a86a522f6645b2309b7'), ObjectId('681a2a86a522f6645b2309b8'), ObjectId('681a2a86a522f6645b2309b9'), ObjectId('681a2a86a522f6645b2309ba'), ObjectId('681a2a86a522f6645b2309bb'), ObjectId('681a2a86a522f6645b2309bc'), ObjectId('681a2a86a522f6645b2309bd'), ObjectId('681a2a86a522f6645b2309be'), ObjectId('681a2a86a522f6645b2309bf'), ObjectId('681a2a86a522f6645b2309c0'), ObjectId('681a2a86a522f6645b2309c1'), ObjectId('681a2a86a522f6645b2309c2'), ObjectId('681a2a86a522f6645b2309c3'), ObjectId('681a2a86a522f6645b2309c4'), ObjectId('681a2a86a522f6645b2309c5'), ObjectId('681a2a86a522f6645b2309c6'), ObjectId('681a2a86a522f6645b2309c7'), ObjectId('681a2a86a522f6645b2309c8'), ObjectId('681a2a86a522f6645b2309c9'), ObjectId('681a2a86a522f6645b2309ca'), ObjectId('681a2a86a522f6645b2309cb'), ObjectId('681a2a86a522f6645b2309cc'), ObjectId('681a2a86a522f6645b2309cd'), ObjectId('681a2a86a522f6645b2309ce'), ObjectId('681a2a86a522f6645b2309cf'), ObjectId('681a2a86a522f6645b2309d0'), ObjectId('681a2a86a522f6645b2309d1'), ObjectId('681a2a86a522f6645b2309d2'), ObjectId('681a2a86a522f6645b2309d3'), ObjectId('681a2a86a522f6645b2309d4'), ObjectId('681a2a86a522f6645b2309d5'), ObjectId('681a2a86a522f6645b2309d6'), ObjectId('681a2a86a522f6645b2309d7'), ObjectId('681a2a86a522f6645b2309d8'), ObjectId('681a2a86a522f6645b2309d9'), ObjectId('681a2a86a522f6645b2309da'), ObjectId('681a2a86a522f6645b2309db'), ObjectId('681a2a86a522f6645b2309dc'), ObjectId('681a2a86a522f6645b2309dd'), ObjectId('681a2a86a522f6645b2309de'), ObjectId('681a2a86a522f6645b2309df'), ObjectId('681a2a86a522f6645b2309e0'), ObjectId('681a2a86a522f6645b2309e1'), ObjectId('681a2a86a522f6645b2309e2'), ObjectId('681a2a86a522f6645b2309e3'), ObjectId('681a2a86a522f6645b2309e4'), ObjectId('681a2a86a522f6645b2309e5'), ObjectId('681a2a86a522f6645b2309e6'), ObjectId('681a2a86a522f6645b2309e7'), ObjectId('681a2a86a522f6645b2309e8'), ObjectId('681a2a86a522f6645b2309e9'), ObjectId('681a2a86a522f6645b2309ea'), ObjectId('681a2a86a522f6645b2309eb'), ObjectId('681a2a86a522f6645b2309ec'), ObjectId('681a2a86a522f6645b2309ed'), ObjectId('681a2a86a522f6645b2309ee'), ObjectId('681a2a86a522f6645b2309ef'), ObjectId('681a2a86a522f6645b2309f0'), ObjectId('681a2a86a522f6645b2309f1'), ObjectId('681a2a86a522f6645b2309f2'), ObjectId('681a2a86a522f6645b2309f3'), ObjectId('681a2a86a522f6645b2309f4'), ObjectId('681a2a86a522f6645b2309f5'), ObjectId('681a2a86a522f6645b2309f6'), ObjectId('681a2a86a522f6645b2309f7'), ObjectId('681a2a86a522f6645b2309f8'), ObjectId('681a2a86a522f6645b2309f9'), ObjectId('681a2a86a522f6645b2309fa'), ObjectId('681a2a86a522f6645b2309fb'), ObjectId('681a2a86a522f6645b2309fc'), ObjectId('681a2a86a522f6645b2309fd'), ObjectId('681a2a86a522f6645b2309fe'), ObjectId('681a2a86a522f6645b2309ff'), ObjectId('681a2a86a522f6645b230a00'), ObjectId('681a2a86a522f6645b230a01'), ObjectId('681a2a86a522f6645b230a02'), ObjectId('681a2a86a522f6645b230a03'), ObjectId('681a2a86a522f6645b230a04'), ObjectId('681a2a86a522f6645b230a05'), ObjectId('681a2a86a522f6645b230a06'), ObjectId('681a2a86a522f6645b230a07'), ObjectId('681a2a86a522f6645b230a08'), ObjectId('681a2a86a522f6645b230a09'), ObjectId('681a2a86a522f6645b230a0a'), ObjectId('681a2a86a522f6645b230a0b'), ObjectId('681a2a86a522f6645b230a0c'), ObjectId('681a2a86a522f6645b230a0d'), ObjectId('681a2a86a522f6645b230a0e'), ObjectId('681a2a86a522f6645b230a0f'), ObjectId('681a2a86a522f6645b230a10'), ObjectId('681a2a86a522f6645b230a11'), ObjectId('681a2a86a522f6645b230a12'), ObjectId('681a2a86a522f6645b230a13'), ObjectId('681a2a86a522f6645b230a14'), ObjectId('681a2a86a522f6645b230a15'), ObjectId('681a2a86a522f6645b230a16'), ObjectId('681a2a86a522f6645b230a17'), ObjectId('681a2a86a522f6645b230a18'), ObjectId('681a2a86a522f6645b230a19'), ObjectId('681a2a86a522f6645b230a1a'), ObjectId('681a2a86a522f6645b230a1b'), ObjectId('681a2a86a522f6645b230a1c'), ObjectId('681a2a86a522f6645b230a1d'), ObjectId('681a2a86a522f6645b230a1e'), ObjectId('681a2a86a522f6645b230a1f'), ObjectId('681a2a86a522f6645b230a20'), ObjectId('681a2a86a522f6645b230a21'), ObjectId('681a2a86a522f6645b230a22'), ObjectId('681a2a86a522f6645b230a23'), ObjectId('681a2a86a522f6645b230a24'), ObjectId('681a2a86a522f6645b230a25'), ObjectId('681a2a86a522f6645b230a26'), ObjectId('681a2a86a522f6645b230a27'), ObjectId('681a2a86a522f6645b230a28'), ObjectId('681a2a86a522f6645b230a29'), ObjectId('681a2a86a522f6645b230a2a'), ObjectId('681a2a86a522f6645b230a2b'), ObjectId('681a2a86a522f6645b230a2c'), ObjectId('681a2a86a522f6645b230a2d'), ObjectId('681a2a86a522f6645b230a2e'), ObjectId('681a2a86a522f6645b230a2f'), ObjectId('681a2a86a522f6645b230a30'), ObjectId('681a2a86a522f6645b230a31'), ObjectId('681a2a86a522f6645b230a32'), ObjectId('681a2a86a522f6645b230a33'), ObjectId('681a2a86a522f6645b230a34'), ObjectId('681a2a86a522f6645b230a35'), ObjectId('681a2a86a522f6645b230a36'), ObjectId('681a2a86a522f6645b230a37'), ObjectId('681a2a86a522f6645b230a38'), ObjectId('681a2a86a522f6645b230a39'), ObjectId('681a2a86a522f6645b230a3a'), ObjectId('681a2a86a522f6645b230a3b'), ObjectId('681a2a86a522f6645b230a3c'), ObjectId('681a2a86a522f6645b230a3d'), ObjectId('681a2a86a522f6645b230a3e'), ObjectId('681a2a86a522f6645b230a3f'), ObjectId('681a2a87a522f6645b230a40'), ObjectId('681a2a87a522f6645b230a41'), ObjectId('681a2a87a522f6645b230a42'), ObjectId('681a2a87a522f6645b230a43'), ObjectId('681a2a87a522f6645b230a44'), ObjectId('681a2a87a522f6645b230a45'), ObjectId('681a2a87a522f6645b230a46'), ObjectId('681a2a87a522f6645b230a47'), ObjectId('681a2a87a522f6645b230a48'), ObjectId('681a2a87a522f6645b230a49'), ObjectId('681a2a87a522f6645b230a4a'), ObjectId('681a2a87a522f6645b230a4b'), ObjectId('681a2a87a522f6645b230a4c'), ObjectId('681a2a87a522f6645b230a4d'), ObjectId('681a2a87a522f6645b230a4e'), ObjectId('681a2a87a522f6645b230a4f'), ObjectId('681a2a87a522f6645b230a50'), ObjectId('681a2a87a522f6645b230a51'), ObjectId('681a2a87a522f6645b230a52'), ObjectId('681a2a87a522f6645b230a53'), ObjectId('681a2a87a522f6645b230a54'), ObjectId('681a2a87a522f6645b230a55'), ObjectId('681a2a87a522f6645b230a56'), ObjectId('681a2a87a522f6645b230a57'), ObjectId('681a2a87a522f6645b230a58'), ObjectId('681a2a87a522f6645b230a59'), ObjectId('681a2a87a522f6645b230a5a'), ObjectId('681a2a87a522f6645b230a5b'), ObjectId('681a2a87a522f6645b230a5c'), ObjectId('681a2a87a522f6645b230a5d'), ObjectId('681a2a87a522f6645b230a5e'), ObjectId('681a2a87a522f6645b230a5f'), ObjectId('681a2a87a522f6645b230a60'), ObjectId('681a2a87a522f6645b230a61'), ObjectId('681a2a87a522f6645b230a62'), ObjectId('681a2a87a522f6645b230a63'), ObjectId('681a2a87a522f6645b230a64'), ObjectId('681a2a87a522f6645b230a65'), ObjectId('681a2a87a522f6645b230a66'), ObjectId('681a2a87a522f6645b230a67'), ObjectId('681a2a87a522f6645b230a68'), ObjectId('681a2a87a522f6645b230a69'), ObjectId('681a2a87a522f6645b230a6a'), ObjectId('681a2a87a522f6645b230a6b'), ObjectId('681a2a87a522f6645b230a6c'), ObjectId('681a2a87a522f6645b230a6d'), ObjectId('681a2a87a522f6645b230a6e'), ObjectId('681a2a87a522f6645b230a6f'), ObjectId('681a2a87a522f6645b230a70'), ObjectId('681a2a87a522f6645b230a71'), ObjectId('681a2a87a522f6645b230a72'), ObjectId('681a2a87a522f6645b230a73'), ObjectId('681a2a87a522f6645b230a74'), ObjectId('681a2a87a522f6645b230a75'), ObjectId('681a2a87a522f6645b230a76'), ObjectId('681a2a87a522f6645b230a77'), ObjectId('681a2a87a522f6645b230a78'), ObjectId('681a2a87a522f6645b230a79'), ObjectId('681a2a87a522f6645b230a7a'), ObjectId('681a2a87a522f6645b230a7b'), ObjectId('681a2a87a522f6645b230a7c'), ObjectId('681a2a87a522f6645b230a7d'), ObjectId('681a2a87a522f6645b230a7e'), ObjectId('681a2a87a522f6645b230a7f'), ObjectId('681a2a87a522f6645b230a80'), ObjectId('681a2a87a522f6645b230a81'), ObjectId('681a2a87a522f6645b230a82'), ObjectId('681a2a87a522f6645b230a83'), ObjectId('681a2a87a522f6645b230a84'), ObjectId('681a2a87a522f6645b230a85'), ObjectId('681a2a87a522f6645b230a86'), ObjectId('681a2a87a522f6645b230a87'), ObjectId('681a2a87a522f6645b230a88'), ObjectId('681a2a87a522f6645b230a89'), ObjectId('681a2a87a522f6645b230a8a'), ObjectId('681a2a87a522f6645b230a8b'), ObjectId('681a2a87a522f6645b230a8c'), ObjectId('681a2a87a522f6645b230a8d'), ObjectId('681a2a87a522f6645b230a8e'), ObjectId('681a2a87a522f6645b230a8f'), ObjectId('681a2a87a522f6645b230a90'), ObjectId('681a2a87a522f6645b230a91'), ObjectId('681a2a87a522f6645b230a92'), ObjectId('681a2a87a522f6645b230a93'), ObjectId('681a2a87a522f6645b230a94'), ObjectId('681a2a87a522f6645b230a95'), ObjectId('681a2a87a522f6645b230a96'), ObjectId('681a2a87a522f6645b230a97'), ObjectId('681a2a87a522f6645b230a98'), ObjectId('681a2a87a522f6645b230a99'), ObjectId('681a2a87a522f6645b230a9a'), ObjectId('681a2a87a522f6645b230a9b'), ObjectId('681a2a87a522f6645b230a9c'), ObjectId('681a2a87a522f6645b230a9d'), ObjectId('681a2a87a522f6645b230a9e'), ObjectId('681a2a87a522f6645b230a9f'), ObjectId('681a2a87a522f6645b230aa0'), ObjectId('681a2a87a522f6645b230aa1'), ObjectId('681a2a87a522f6645b230aa2'), ObjectId('681a2a87a522f6645b230aa3'), ObjectId('681a2a87a522f6645b230aa4'), ObjectId('681a2a87a522f6645b230aa5'), ObjectId('681a2a87a522f6645b230aa6'), ObjectId('681a2a87a522f6645b230aa7'), ObjectId('681a2a87a522f6645b230aa8'), ObjectId('681a2a87a522f6645b230aa9'), ObjectId('681a2a87a522f6645b230aaa'), ObjectId('681a2a87a522f6645b230aab'), ObjectId('681a2a87a522f6645b230aac'), ObjectId('681a2a87a522f6645b230aad'), ObjectId('681a2a87a522f6645b230aae'), ObjectId('681a2a87a522f6645b230aaf'), ObjectId('681a2a87a522f6645b230ab0'), ObjectId('681a2a87a522f6645b230ab1'), ObjectId('681a2a87a522f6645b230ab2'), ObjectId('681a2a87a522f6645b230ab3'), ObjectId('681a2a87a522f6645b230ab4'), ObjectId('681a2a87a522f6645b230ab5'), ObjectId('681a2a87a522f6645b230ab6'), ObjectId('681a2a87a522f6645b230ab7'), ObjectId('681a2a87a522f6645b230ab8'), ObjectId('681a2a87a522f6645b230ab9'), ObjectId('681a2a87a522f6645b230aba'), ObjectId('681a2a87a522f6645b230abb'), ObjectId('681a2a87a522f6645b230abc'), ObjectId('681a2a87a522f6645b230abd'), ObjectId('681a2a87a522f6645b230abe'), ObjectId('681a2a87a522f6645b230abf'), ObjectId('681a2a87a522f6645b230ac0'), ObjectId('681a2a87a522f6645b230ac1'), ObjectId('681a2a87a522f6645b230ac2'), ObjectId('681a2a87a522f6645b230ac3'), ObjectId('681a2a87a522f6645b230ac4'), ObjectId('681a2a87a522f6645b230ac5'), ObjectId('681a2a87a522f6645b230ac6'), ObjectId('681a2a87a522f6645b230ac7'), ObjectId('681a2a87a522f6645b230ac8'), ObjectId('681a2a87a522f6645b230ac9'), ObjectId('681a2a87a522f6645b230aca'), ObjectId('681a2a87a522f6645b230acb'), ObjectId('681a2a87a522f6645b230acc'), ObjectId('681a2a87a522f6645b230acd'), ObjectId('681a2a87a522f6645b230ace'), ObjectId('681a2a87a522f6645b230acf'), ObjectId('681a2a87a522f6645b230ad0'), ObjectId('681a2a87a522f6645b230ad1'), ObjectId('681a2a87a522f6645b230ad2'), ObjectId('681a2a87a522f6645b230ad3'), ObjectId('681a2a87a522f6645b230ad4'), ObjectId('681a2a87a522f6645b230ad5'), ObjectId('681a2a87a522f6645b230ad6'), ObjectId('681a2a87a522f6645b230ad7'), ObjectId('681a2a87a522f6645b230ad8'), ObjectId('681a2a87a522f6645b230ad9'), ObjectId('681a2a87a522f6645b230ada'), ObjectId('681a2a87a522f6645b230adb'), ObjectId('681a2a87a522f6645b230adc'), ObjectId('681a2a87a522f6645b230add'), ObjectId('681a2a87a522f6645b230ade'), ObjectId('681a2a87a522f6645b230adf'), ObjectId('681a2a87a522f6645b230ae0'), ObjectId('681a2a87a522f6645b230ae1'), ObjectId('681a2a87a522f6645b230ae2'), ObjectId('681a2a87a522f6645b230ae3'), ObjectId('681a2a87a522f6645b230ae4'), ObjectId('681a2a87a522f6645b230ae5'), ObjectId('681a2a87a522f6645b230ae6'), ObjectId('681a2a87a522f6645b230ae7'), ObjectId('681a2a87a522f6645b230ae8'), ObjectId('681a2a87a522f6645b230ae9'), ObjectId('681a2a87a522f6645b230aea'), ObjectId('681a2a87a522f6645b230aeb'), ObjectId('681a2a87a522f6645b230aec'), ObjectId('681a2a87a522f6645b230aed'), ObjectId('681a2a87a522f6645b230aee'), ObjectId('681a2a87a522f6645b230aef'), ObjectId('681a2a87a522f6645b230af0'), ObjectId('681a2a87a522f6645b230af1'), ObjectId('681a2a87a522f6645b230af2'), ObjectId('681a2a87a522f6645b230af3'), ObjectId('681a2a87a522f6645b230af4'), ObjectId('681a2a87a522f6645b230af5'), ObjectId('681a2a87a522f6645b230af6'), ObjectId('681a2a87a522f6645b230af7'), ObjectId('681a2a87a522f6645b230af8'), ObjectId('681a2a87a522f6645b230af9'), ObjectId('681a2a87a522f6645b230afa'), ObjectId('681a2a87a522f6645b230afb'), ObjectId('681a2a87a522f6645b230afc'), ObjectId('681a2a87a522f6645b230afd'), ObjectId('681a2a87a522f6645b230afe'), ObjectId('681a2a87a522f6645b230aff'), ObjectId('681a2a87a522f6645b230b00'), ObjectId('681a2a87a522f6645b230b01'), ObjectId('681a2a87a522f6645b230b02'), ObjectId('681a2a87a522f6645b230b03'), ObjectId('681a2a87a522f6645b230b04'), ObjectId('681a2a87a522f6645b230b05'), ObjectId('681a2a87a522f6645b230b06'), ObjectId('681a2a87a522f6645b230b07'), ObjectId('681a2a87a522f6645b230b08'), ObjectId('681a2a87a522f6645b230b09'), ObjectId('681a2a87a522f6645b230b0a'), ObjectId('681a2a87a522f6645b230b0b'), ObjectId('681a2a87a522f6645b230b0c'), ObjectId('681a2a87a522f6645b230b0d'), ObjectId('681a2a87a522f6645b230b0e'), ObjectId('681a2a87a522f6645b230b0f'), ObjectId('681a2a87a522f6645b230b10'), ObjectId('681a2a87a522f6645b230b11'), ObjectId('681a2a87a522f6645b230b12'), ObjectId('681a2a87a522f6645b230b13'), ObjectId('681a2a87a522f6645b230b14'), ObjectId('681a2a87a522f6645b230b15'), ObjectId('681a2a87a522f6645b230b16'), ObjectId('681a2a87a522f6645b230b17'), ObjectId('681a2a87a522f6645b230b18'), ObjectId('681a2a87a522f6645b230b19'), ObjectId('681a2a87a522f6645b230b1a'), ObjectId('681a2a87a522f6645b230b1b'), ObjectId('681a2a87a522f6645b230b1c'), ObjectId('681a2a87a522f6645b230b1d'), ObjectId('681a2a87a522f6645b230b1e'), ObjectId('681a2a87a522f6645b230b1f'), ObjectId('681a2a87a522f6645b230b20'), ObjectId('681a2a87a522f6645b230b21'), ObjectId('681a2a87a522f6645b230b22'), ObjectId('681a2a87a522f6645b230b23'), ObjectId('681a2a87a522f6645b230b24'), ObjectId('681a2a87a522f6645b230b25'), ObjectId('681a2a87a522f6645b230b26'), ObjectId('681a2a87a522f6645b230b27'), ObjectId('681a2a87a522f6645b230b28'), ObjectId('681a2a87a522f6645b230b29'), ObjectId('681a2a87a522f6645b230b2a'), ObjectId('681a2a87a522f6645b230b2b'), ObjectId('681a2a87a522f6645b230b2c'), ObjectId('681a2a87a522f6645b230b2d'), ObjectId('681a2a87a522f6645b230b2e'), ObjectId('681a2a87a522f6645b230b2f'), ObjectId('681a2a87a522f6645b230b30'), ObjectId('681a2a87a522f6645b230b31'), ObjectId('681a2a87a522f6645b230b32'), ObjectId('681a2a87a522f6645b230b33'), ObjectId('681a2a87a522f6645b230b34'), ObjectId('681a2a87a522f6645b230b35'), ObjectId('681a2a87a522f6645b230b36'), ObjectId('681a2a87a522f6645b230b37'), ObjectId('681a2a87a522f6645b230b38'), ObjectId('681a2a87a522f6645b230b39'), ObjectId('681a2a87a522f6645b230b3a'), ObjectId('681a2a87a522f6645b230b3b'), ObjectId('681a2a87a522f6645b230b3c'), ObjectId('681a2a87a522f6645b230b3d'), ObjectId('681a2a87a522f6645b230b3e'), ObjectId('681a2a87a522f6645b230b3f'), ObjectId('681a2a87a522f6645b230b40'), ObjectId('681a2a87a522f6645b230b41'), ObjectId('681a2a87a522f6645b230b42'), ObjectId('681a2a87a522f6645b230b43'), ObjectId('681a2a87a522f6645b230b44'), ObjectId('681a2a87a522f6645b230b45'), ObjectId('681a2a87a522f6645b230b46'), ObjectId('681a2a87a522f6645b230b47'), ObjectId('681a2a87a522f6645b230b48'), ObjectId('681a2a87a522f6645b230b49'), ObjectId('681a2a87a522f6645b230b4a'), ObjectId('681a2a87a522f6645b230b4b'), ObjectId('681a2a87a522f6645b230b4c'), ObjectId('681a2a87a522f6645b230b4d'), ObjectId('681a2a87a522f6645b230b4e'), ObjectId('681a2a87a522f6645b230b4f'), ObjectId('681a2a87a522f6645b230b50'), ObjectId('681a2a87a522f6645b230b51'), ObjectId('681a2a87a522f6645b230b52'), ObjectId('681a2a87a522f6645b230b53'), ObjectId('681a2a87a522f6645b230b54'), ObjectId('681a2a87a522f6645b230b55'), ObjectId('681a2a87a522f6645b230b56'), ObjectId('681a2a87a522f6645b230b57'), ObjectId('681a2a87a522f6645b230b58'), ObjectId('681a2a87a522f6645b230b59'), ObjectId('681a2a87a522f6645b230b5a'), ObjectId('681a2a87a522f6645b230b5b'), ObjectId('681a2a87a522f6645b230b5c'), ObjectId('681a2a87a522f6645b230b5d'), ObjectId('681a2a87a522f6645b230b5e'), ObjectId('681a2a87a522f6645b230b5f'), ObjectId('681a2a87a522f6645b230b60'), ObjectId('681a2a87a522f6645b230b61'), ObjectId('681a2a87a522f6645b230b62'), ObjectId('681a2a87a522f6645b230b63'), ObjectId('681a2a87a522f6645b230b64'), ObjectId('681a2a87a522f6645b230b65'), ObjectId('681a2a87a522f6645b230b66'), ObjectId('681a2a87a522f6645b230b67'), ObjectId('681a2a87a522f6645b230b68'), ObjectId('681a2a87a522f6645b230b69'), ObjectId('681a2a87a522f6645b230b6a'), ObjectId('681a2a87a522f6645b230b6b'), ObjectId('681a2a87a522f6645b230b6c'), ObjectId('681a2a87a522f6645b230b6d'), ObjectId('681a2a87a522f6645b230b6e'), ObjectId('681a2a87a522f6645b230b6f'), ObjectId('681a2a87a522f6645b230b70'), ObjectId('681a2a87a522f6645b230b71'), ObjectId('681a2a87a522f6645b230b72'), ObjectId('681a2a87a522f6645b230b73'), ObjectId('681a2a87a522f6645b230b74'), ObjectId('681a2a87a522f6645b230b75'), ObjectId('681a2a87a522f6645b230b76'), ObjectId('681a2a87a522f6645b230b77'), ObjectId('681a2a87a522f6645b230b78'), ObjectId('681a2a87a522f6645b230b79'), ObjectId('681a2a87a522f6645b230b7a'), ObjectId('681a2a87a522f6645b230b7b'), ObjectId('681a2a87a522f6645b230b7c'), ObjectId('681a2a87a522f6645b230b7d'), ObjectId('681a2a87a522f6645b230b7e'), ObjectId('681a2a87a522f6645b230b7f'), ObjectId('681a2a87a522f6645b230b80'), ObjectId('681a2a87a522f6645b230b81'), ObjectId('681a2a87a522f6645b230b82'), ObjectId('681a2a87a522f6645b230b83'), ObjectId('681a2a87a522f6645b230b84'), ObjectId('681a2a87a522f6645b230b85'), ObjectId('681a2a87a522f6645b230b86'), ObjectId('681a2a87a522f6645b230b87'), ObjectId('681a2a87a522f6645b230b88'), ObjectId('681a2a87a522f6645b230b89'), ObjectId('681a2a87a522f6645b230b8a'), ObjectId('681a2a87a522f6645b230b8b'), ObjectId('681a2a87a522f6645b230b8c'), ObjectId('681a2a87a522f6645b230b8d'), ObjectId('681a2a87a522f6645b230b8e'), ObjectId('681a2a87a522f6645b230b8f'), ObjectId('681a2a87a522f6645b230b90'), ObjectId('681a2a87a522f6645b230b91'), ObjectId('681a2a87a522f6645b230b92'), ObjectId('681a2a87a522f6645b230b93'), ObjectId('681a2a87a522f6645b230b94'), ObjectId('681a2a87a522f6645b230b95'), ObjectId('681a2a87a522f6645b230b96'), ObjectId('681a2a87a522f6645b230b97'), ObjectId('681a2a87a522f6645b230b98'), ObjectId('681a2a87a522f6645b230b99'), ObjectId('681a2a87a522f6645b230b9a'), ObjectId('681a2a87a522f6645b230b9b'), ObjectId('681a2a87a522f6645b230b9c'), ObjectId('681a2a87a522f6645b230b9d'), ObjectId('681a2a87a522f6645b230b9e'), ObjectId('681a2a87a522f6645b230b9f'), ObjectId('681a2a87a522f6645b230ba0'), ObjectId('681a2a87a522f6645b230ba1'), ObjectId('681a2a87a522f6645b230ba2'), ObjectId('681a2a87a522f6645b230ba3'), ObjectId('681a2a87a522f6645b230ba4'), ObjectId('681a2a87a522f6645b230ba5'), ObjectId('681a2a87a522f6645b230ba6'), ObjectId('681a2a87a522f6645b230ba7'), ObjectId('681a2a87a522f6645b230ba8'), ObjectId('681a2a87a522f6645b230ba9'), ObjectId('681a2a87a522f6645b230baa'), ObjectId('681a2a87a522f6645b230bab'), ObjectId('681a2a87a522f6645b230bac'), ObjectId('681a2a87a522f6645b230bad'), ObjectId('681a2a87a522f6645b230bae'), ObjectId('681a2a87a522f6645b230baf'), ObjectId('681a2a87a522f6645b230bb0'), ObjectId('681a2a87a522f6645b230bb1'), ObjectId('681a2a87a522f6645b230bb2'), ObjectId('681a2a87a522f6645b230bb3'), ObjectId('681a2a87a522f6645b230bb4'), ObjectId('681a2a87a522f6645b230bb5'), ObjectId('681a2a87a522f6645b230bb6'), ObjectId('681a2a87a522f6645b230bb7'), ObjectId('681a2a87a522f6645b230bb8'), ObjectId('681a2a87a522f6645b230bb9'), ObjectId('681a2a87a522f6645b230bba'), ObjectId('681a2a87a522f6645b230bbb'), ObjectId('681a2a87a522f6645b230bbc'), ObjectId('681a2a87a522f6645b230bbd'), ObjectId('681a2a87a522f6645b230bbe'), ObjectId('681a2a87a522f6645b230bbf'), ObjectId('681a2a87a522f6645b230bc0'), ObjectId('681a2a87a522f6645b230bc1'), ObjectId('681a2a87a522f6645b230bc2'), ObjectId('681a2a87a522f6645b230bc3'), ObjectId('681a2a87a522f6645b230bc4'), ObjectId('681a2a87a522f6645b230bc5'), ObjectId('681a2a87a522f6645b230bc6'), ObjectId('681a2a87a522f6645b230bc7'), ObjectId('681a2a87a522f6645b230bc8'), ObjectId('681a2a87a522f6645b230bc9'), ObjectId('681a2a87a522f6645b230bca'), ObjectId('681a2a87a522f6645b230bcb'), ObjectId('681a2a87a522f6645b230bcc'), ObjectId('681a2a87a522f6645b230bcd'), ObjectId('681a2a87a522f6645b230bce'), ObjectId('681a2a87a522f6645b230bcf'), ObjectId('681a2a87a522f6645b230bd0'), ObjectId('681a2a87a522f6645b230bd1'), ObjectId('681a2a87a522f6645b230bd2'), ObjectId('681a2a87a522f6645b230bd3'), ObjectId('681a2a87a522f6645b230bd4'), ObjectId('681a2a87a522f6645b230bd5'), ObjectId('681a2a87a522f6645b230bd6'), ObjectId('681a2a87a522f6645b230bd7'), ObjectId('681a2a87a522f6645b230bd8'), ObjectId('681a2a87a522f6645b230bd9'), ObjectId('681a2a87a522f6645b230bda'), ObjectId('681a2a87a522f6645b230bdb'), ObjectId('681a2a87a522f6645b230bdc'), ObjectId('681a2a87a522f6645b230bdd'), ObjectId('681a2a87a522f6645b230bde'), ObjectId('681a2a87a522f6645b230bdf'), ObjectId('681a2a87a522f6645b230be0'), ObjectId('681a2a87a522f6645b230be1'), ObjectId('681a2a87a522f6645b230be2'), ObjectId('681a2a87a522f6645b230be3'), ObjectId('681a2a87a522f6645b230be4'), ObjectId('681a2a87a522f6645b230be5'), ObjectId('681a2a87a522f6645b230be6'), ObjectId('681a2a87a522f6645b230be7'), ObjectId('681a2a87a522f6645b230be8'), ObjectId('681a2a87a522f6645b230be9'), ObjectId('681a2a87a522f6645b230bea'), ObjectId('681a2a87a522f6645b230beb'), ObjectId('681a2a87a522f6645b230bec'), ObjectId('681a2a87a522f6645b230bed'), ObjectId('681a2a87a522f6645b230bee'), ObjectId('681a2a87a522f6645b230bef'), ObjectId('681a2a87a522f6645b230bf0'), ObjectId('681a2a87a522f6645b230bf1'), ObjectId('681a2a87a522f6645b230bf2'), ObjectId('681a2a87a522f6645b230bf3'), ObjectId('681a2a87a522f6645b230bf4'), ObjectId('681a2a87a522f6645b230bf5'), ObjectId('681a2a87a522f6645b230bf6'), ObjectId('681a2a87a522f6645b230bf7'), ObjectId('681a2a87a522f6645b230bf8'), ObjectId('681a2a87a522f6645b230bf9'), ObjectId('681a2a87a522f6645b230bfa'), ObjectId('681a2a87a522f6645b230bfb'), ObjectId('681a2a87a522f6645b230bfc'), ObjectId('681a2a87a522f6645b230bfd'), ObjectId('681a2a87a522f6645b230bfe'), ObjectId('681a2a87a522f6645b230bff'), ObjectId('681a2a87a522f6645b230c00'), ObjectId('681a2a87a522f6645b230c01'), ObjectId('681a2a87a522f6645b230c02'), ObjectId('681a2a87a522f6645b230c03'), ObjectId('681a2a87a522f6645b230c04'), ObjectId('681a2a87a522f6645b230c05'), ObjectId('681a2a87a522f6645b230c06'), ObjectId('681a2a87a522f6645b230c07'), ObjectId('681a2a87a522f6645b230c08'), ObjectId('681a2a87a522f6645b230c09'), ObjectId('681a2a87a522f6645b230c0a'), ObjectId('681a2a87a522f6645b230c0b'), ObjectId('681a2a87a522f6645b230c0c'), ObjectId('681a2a87a522f6645b230c0d'), ObjectId('681a2a87a522f6645b230c0e'), ObjectId('681a2a87a522f6645b230c0f'), ObjectId('681a2a87a522f6645b230c10'), ObjectId('681a2a87a522f6645b230c11'), ObjectId('681a2a87a522f6645b230c12'), ObjectId('681a2a87a522f6645b230c13'), ObjectId('681a2a87a522f6645b230c14'), ObjectId('681a2a87a522f6645b230c15'), ObjectId('681a2a87a522f6645b230c16'), ObjectId('681a2a87a522f6645b230c17'), ObjectId('681a2a87a522f6645b230c18'), ObjectId('681a2a87a522f6645b230c19'), ObjectId('681a2a87a522f6645b230c1a'), ObjectId('681a2a87a522f6645b230c1b'), ObjectId('681a2a87a522f6645b230c1c'), ObjectId('681a2a87a522f6645b230c1d'), ObjectId('681a2a87a522f6645b230c1e'), ObjectId('681a2a87a522f6645b230c1f'), ObjectId('681a2a87a522f6645b230c20'), ObjectId('681a2a87a522f6645b230c21'), ObjectId('681a2a87a522f6645b230c22'), ObjectId('681a2a87a522f6645b230c23'), ObjectId('681a2a87a522f6645b230c24'), ObjectId('681a2a87a522f6645b230c25'), ObjectId('681a2a87a522f6645b230c26'), ObjectId('681a2a87a522f6645b230c27'), ObjectId('681a2a87a522f6645b230c28'), ObjectId('681a2a87a522f6645b230c29'), ObjectId('681a2a87a522f6645b230c2a'), ObjectId('681a2a87a522f6645b230c2b'), ObjectId('681a2a87a522f6645b230c2c'), ObjectId('681a2a87a522f6645b230c2d'), ObjectId('681a2a87a522f6645b230c2e'), ObjectId('681a2a87a522f6645b230c2f'), ObjectId('681a2a87a522f6645b230c30'), ObjectId('681a2a87a522f6645b230c31'), ObjectId('681a2a87a522f6645b230c32'), ObjectId('681a2a87a522f6645b230c33'), ObjectId('681a2a87a522f6645b230c34'), ObjectId('681a2a87a522f6645b230c35'), ObjectId('681a2a87a522f6645b230c36'), ObjectId('681a2a87a522f6645b230c37'), ObjectId('681a2a87a522f6645b230c38'), ObjectId('681a2a87a522f6645b230c39'), ObjectId('681a2a87a522f6645b230c3a'), ObjectId('681a2a87a522f6645b230c3b'), ObjectId('681a2a87a522f6645b230c3c'), ObjectId('681a2a87a522f6645b230c3d'), ObjectId('681a2a87a522f6645b230c3e'), ObjectId('681a2a87a522f6645b230c3f'), ObjectId('681a2a87a522f6645b230c40'), ObjectId('681a2a87a522f6645b230c41'), ObjectId('681a2a87a522f6645b230c42'), ObjectId('681a2a87a522f6645b230c43'), ObjectId('681a2a87a522f6645b230c44'), ObjectId('681a2a87a522f6645b230c45'), ObjectId('681a2a87a522f6645b230c46'), ObjectId('681a2a87a522f6645b230c47'), ObjectId('681a2a87a522f6645b230c48'), ObjectId('681a2a87a522f6645b230c49'), ObjectId('681a2a87a522f6645b230c4a'), ObjectId('681a2a87a522f6645b230c4b'), ObjectId('681a2a87a522f6645b230c4c'), ObjectId('681a2a87a522f6645b230c4d'), ObjectId('681a2a87a522f6645b230c4e'), ObjectId('681a2a87a522f6645b230c4f'), ObjectId('681a2a87a522f6645b230c50'), ObjectId('681a2a87a522f6645b230c51'), ObjectId('681a2a87a522f6645b230c52'), ObjectId('681a2a87a522f6645b230c53'), ObjectId('681a2a87a522f6645b230c54'), ObjectId('681a2a87a522f6645b230c55'), ObjectId('681a2a87a522f6645b230c56'), ObjectId('681a2a87a522f6645b230c57'), ObjectId('681a2a87a522f6645b230c58'), ObjectId('681a2a87a522f6645b230c59'), ObjectId('681a2a87a522f6645b230c5a'), ObjectId('681a2a87a522f6645b230c5b'), ObjectId('681a2a87a522f6645b230c5c'), ObjectId('681a2a87a522f6645b230c5d'), ObjectId('681a2a87a522f6645b230c5e'), ObjectId('681a2a87a522f6645b230c5f'), ObjectId('681a2a87a522f6645b230c60'), ObjectId('681a2a87a522f6645b230c61'), ObjectId('681a2a87a522f6645b230c62'), ObjectId('681a2a87a522f6645b230c63'), ObjectId('681a2a87a522f6645b230c64'), ObjectId('681a2a87a522f6645b230c65'), ObjectId('681a2a87a522f6645b230c66'), ObjectId('681a2a87a522f6645b230c67'), ObjectId('681a2a87a522f6645b230c68'), ObjectId('681a2a87a522f6645b230c69'), ObjectId('681a2a87a522f6645b230c6a'), ObjectId('681a2a87a522f6645b230c6b'), ObjectId('681a2a87a522f6645b230c6c'), ObjectId('681a2a87a522f6645b230c6d'), ObjectId('681a2a87a522f6645b230c6e'), ObjectId('681a2a87a522f6645b230c6f'), ObjectId('681a2a87a522f6645b230c70'), ObjectId('681a2a87a522f6645b230c71'), ObjectId('681a2a87a522f6645b230c72'), ObjectId('681a2a87a522f6645b230c73'), ObjectId('681a2a87a522f6645b230c74'), ObjectId('681a2a87a522f6645b230c75'), ObjectId('681a2a87a522f6645b230c76'), ObjectId('681a2a87a522f6645b230c77'), ObjectId('681a2a87a522f6645b230c78'), ObjectId('681a2a87a522f6645b230c79'), ObjectId('681a2a87a522f6645b230c7a'), ObjectId('681a2a87a522f6645b230c7b'), ObjectId('681a2a87a522f6645b230c7c'), ObjectId('681a2a87a522f6645b230c7d'), ObjectId('681a2a87a522f6645b230c7e'), ObjectId('681a2a87a522f6645b230c7f'), ObjectId('681a2a87a522f6645b230c80'), ObjectId('681a2a87a522f6645b230c81'), ObjectId('681a2a87a522f6645b230c82'), ObjectId('681a2a87a522f6645b230c83'), ObjectId('681a2a87a522f6645b230c84'), ObjectId('681a2a87a522f6645b230c85'), ObjectId('681a2a87a522f6645b230c86'), ObjectId('681a2a87a522f6645b230c87'), ObjectId('681a2a87a522f6645b230c88'), ObjectId('681a2a87a522f6645b230c89'), ObjectId('681a2a87a522f6645b230c8a'), ObjectId('681a2a87a522f6645b230c8b'), ObjectId('681a2a87a522f6645b230c8c'), ObjectId('681a2a87a522f6645b230c8d'), ObjectId('681a2a87a522f6645b230c8e'), ObjectId('681a2a87a522f6645b230c8f'), ObjectId('681a2a87a522f6645b230c90'), ObjectId('681a2a87a522f6645b230c91'), ObjectId('681a2a87a522f6645b230c92'), ObjectId('681a2a87a522f6645b230c93'), ObjectId('681a2a87a522f6645b230c94'), ObjectId('681a2a87a522f6645b230c95'), ObjectId('681a2a87a522f6645b230c96'), ObjectId('681a2a87a522f6645b230c97'), ObjectId('681a2a87a522f6645b230c98'), ObjectId('681a2a87a522f6645b230c99'), ObjectId('681a2a87a522f6645b230c9a'), ObjectId('681a2a87a522f6645b230c9b'), ObjectId('681a2a87a522f6645b230c9c'), ObjectId('681a2a87a522f6645b230c9d'), ObjectId('681a2a87a522f6645b230c9e'), ObjectId('681a2a87a522f6645b230c9f'), ObjectId('681a2a87a522f6645b230ca0'), ObjectId('681a2a87a522f6645b230ca1'), ObjectId('681a2a87a522f6645b230ca2'), ObjectId('681a2a87a522f6645b230ca3'), ObjectId('681a2a87a522f6645b230ca4'), ObjectId('681a2a87a522f6645b230ca5'), ObjectId('681a2a87a522f6645b230ca6'), ObjectId('681a2a87a522f6645b230ca7'), ObjectId('681a2a87a522f6645b230ca8'), ObjectId('681a2a87a522f6645b230ca9'), ObjectId('681a2a87a522f6645b230caa'), ObjectId('681a2a87a522f6645b230cab'), ObjectId('681a2a87a522f6645b230cac'), ObjectId('681a2a87a522f6645b230cad'), ObjectId('681a2a87a522f6645b230cae'), ObjectId('681a2a87a522f6645b230caf'), ObjectId('681a2a87a522f6645b230cb0'), ObjectId('681a2a87a522f6645b230cb1'), ObjectId('681a2a87a522f6645b230cb2'), ObjectId('681a2a87a522f6645b230cb3'), ObjectId('681a2a87a522f6645b230cb4'), ObjectId('681a2a87a522f6645b230cb5'), ObjectId('681a2a87a522f6645b230cb6'), ObjectId('681a2a87a522f6645b230cb7'), ObjectId('681a2a87a522f6645b230cb8'), ObjectId('681a2a87a522f6645b230cb9'), ObjectId('681a2a87a522f6645b230cba'), ObjectId('681a2a87a522f6645b230cbb'), ObjectId('681a2a87a522f6645b230cbc'), ObjectId('681a2a87a522f6645b230cbd'), ObjectId('681a2a87a522f6645b230cbe'), ObjectId('681a2a87a522f6645b230cbf'), ObjectId('681a2a87a522f6645b230cc0'), ObjectId('681a2a87a522f6645b230cc1'), ObjectId('681a2a87a522f6645b230cc2'), ObjectId('681a2a87a522f6645b230cc3'), ObjectId('681a2a87a522f6645b230cc4'), ObjectId('681a2a87a522f6645b230cc5'), ObjectId('681a2a87a522f6645b230cc6'), ObjectId('681a2a87a522f6645b230cc7'), ObjectId('681a2a87a522f6645b230cc8'), ObjectId('681a2a87a522f6645b230cc9'), ObjectId('681a2a87a522f6645b230cca'), ObjectId('681a2a87a522f6645b230ccb'), ObjectId('681a2a87a522f6645b230ccc'), ObjectId('681a2a87a522f6645b230ccd'), ObjectId('681a2a87a522f6645b230cce'), ObjectId('681a2a87a522f6645b230ccf'), ObjectId('681a2a87a522f6645b230cd0'), ObjectId('681a2a87a522f6645b230cd1'), ObjectId('681a2a87a522f6645b230cd2'), ObjectId('681a2a87a522f6645b230cd3'), ObjectId('681a2a87a522f6645b230cd4'), ObjectId('681a2a87a522f6645b230cd5'), ObjectId('681a2a87a522f6645b230cd6'), ObjectId('681a2a87a522f6645b230cd7'), ObjectId('681a2a87a522f6645b230cd8'), ObjectId('681a2a87a522f6645b230cd9'), ObjectId('681a2a87a522f6645b230cda'), ObjectId('681a2a87a522f6645b230cdb'), ObjectId('681a2a87a522f6645b230cdc'), ObjectId('681a2a87a522f6645b230cdd'), ObjectId('681a2a87a522f6645b230cde'), ObjectId('681a2a87a522f6645b230cdf'), ObjectId('681a2a87a522f6645b230ce0'), ObjectId('681a2a87a522f6645b230ce1'), ObjectId('681a2a87a522f6645b230ce2'), ObjectId('681a2a87a522f6645b230ce3'), ObjectId('681a2a87a522f6645b230ce4'), ObjectId('681a2a87a522f6645b230ce5'), ObjectId('681a2a87a522f6645b230ce6'), ObjectId('681a2a87a522f6645b230ce7'), ObjectId('681a2a87a522f6645b230ce8'), ObjectId('681a2a87a522f6645b230ce9'), ObjectId('681a2a87a522f6645b230cea'), ObjectId('681a2a87a522f6645b230ceb'), ObjectId('681a2a87a522f6645b230cec'), ObjectId('681a2a87a522f6645b230ced'), ObjectId('681a2a87a522f6645b230cee'), ObjectId('681a2a87a522f6645b230cef'), ObjectId('681a2a87a522f6645b230cf0'), ObjectId('681a2a87a522f6645b230cf1'), ObjectId('681a2a87a522f6645b230cf2'), ObjectId('681a2a87a522f6645b230cf3'), ObjectId('681a2a87a522f6645b230cf4'), ObjectId('681a2a87a522f6645b230cf5'), ObjectId('681a2a87a522f6645b230cf6'), ObjectId('681a2a87a522f6645b230cf7'), ObjectId('681a2a87a522f6645b230cf8'), ObjectId('681a2a87a522f6645b230cf9'), ObjectId('681a2a87a522f6645b230cfa'), ObjectId('681a2a87a522f6645b230cfb'), ObjectId('681a2a87a522f6645b230cfc'), ObjectId('681a2a87a522f6645b230cfd'), ObjectId('681a2a87a522f6645b230cfe'), ObjectId('681a2a87a522f6645b230cff'), ObjectId('681a2a87a522f6645b230d00'), ObjectId('681a2a87a522f6645b230d01'), ObjectId('681a2a87a522f6645b230d02'), ObjectId('681a2a87a522f6645b230d03'), ObjectId('681a2a87a522f6645b230d04'), ObjectId('681a2a87a522f6645b230d05'), ObjectId('681a2a87a522f6645b230d06'), ObjectId('681a2a87a522f6645b230d07'), ObjectId('681a2a87a522f6645b230d08'), ObjectId('681a2a87a522f6645b230d09'), ObjectId('681a2a87a522f6645b230d0a'), ObjectId('681a2a87a522f6645b230d0b'), ObjectId('681a2a87a522f6645b230d0c'), ObjectId('681a2a87a522f6645b230d0d'), ObjectId('681a2a87a522f6645b230d0e'), ObjectId('681a2a87a522f6645b230d0f'), ObjectId('681a2a87a522f6645b230d10'), ObjectId('681a2a87a522f6645b230d11'), ObjectId('681a2a87a522f6645b230d12'), ObjectId('681a2a87a522f6645b230d13'), ObjectId('681a2a87a522f6645b230d14'), ObjectId('681a2a87a522f6645b230d15'), ObjectId('681a2a87a522f6645b230d16'), ObjectId('681a2a87a522f6645b230d17'), ObjectId('681a2a87a522f6645b230d18'), ObjectId('681a2a87a522f6645b230d19'), ObjectId('681a2a87a522f6645b230d1a'), ObjectId('681a2a87a522f6645b230d1b'), ObjectId('681a2a87a522f6645b230d1c'), ObjectId('681a2a87a522f6645b230d1d'), ObjectId('681a2a87a522f6645b230d1e'), ObjectId('681a2a87a522f6645b230d1f'), ObjectId('681a2a87a522f6645b230d20'), ObjectId('681a2a87a522f6645b230d21'), ObjectId('681a2a87a522f6645b230d22'), ObjectId('681a2a87a522f6645b230d23'), ObjectId('681a2a87a522f6645b230d24'), ObjectId('681a2a87a522f6645b230d25'), ObjectId('681a2a87a522f6645b230d26'), ObjectId('681a2a87a522f6645b230d27'), ObjectId('681a2a87a522f6645b230d28'), ObjectId('681a2a87a522f6645b230d29'), ObjectId('681a2a87a522f6645b230d2a'), ObjectId('681a2a87a522f6645b230d2b'), ObjectId('681a2a87a522f6645b230d2c'), ObjectId('681a2a87a522f6645b230d2d'), ObjectId('681a2a87a522f6645b230d2e'), ObjectId('681a2a87a522f6645b230d2f'), ObjectId('681a2a87a522f6645b230d30'), ObjectId('681a2a87a522f6645b230d31'), ObjectId('681a2a87a522f6645b230d32'), ObjectId('681a2a87a522f6645b230d33'), ObjectId('681a2a87a522f6645b230d34'), ObjectId('681a2a87a522f6645b230d35'), ObjectId('681a2a87a522f6645b230d36'), ObjectId('681a2a87a522f6645b230d37'), ObjectId('681a2a87a522f6645b230d38'), ObjectId('681a2a87a522f6645b230d39'), ObjectId('681a2a87a522f6645b230d3a'), ObjectId('681a2a87a522f6645b230d3b'), ObjectId('681a2a87a522f6645b230d3c'), ObjectId('681a2a87a522f6645b230d3d'), ObjectId('681a2a87a522f6645b230d3e'), ObjectId('681a2a87a522f6645b230d3f'), ObjectId('681a2a87a522f6645b230d40'), ObjectId('681a2a87a522f6645b230d41'), ObjectId('681a2a87a522f6645b230d42'), ObjectId('681a2a87a522f6645b230d43'), ObjectId('681a2a87a522f6645b230d44'), ObjectId('681a2a87a522f6645b230d45'), ObjectId('681a2a87a522f6645b230d46'), ObjectId('681a2a87a522f6645b230d47'), ObjectId('681a2a87a522f6645b230d48'), ObjectId('681a2a87a522f6645b230d49'), ObjectId('681a2a87a522f6645b230d4a'), ObjectId('681a2a87a522f6645b230d4b'), ObjectId('681a2a87a522f6645b230d4c'), ObjectId('681a2a87a522f6645b230d4d'), ObjectId('681a2a87a522f6645b230d4e'), ObjectId('681a2a87a522f6645b230d4f'), ObjectId('681a2a87a522f6645b230d50'), ObjectId('681a2a87a522f6645b230d51'), ObjectId('681a2a87a522f6645b230d52'), ObjectId('681a2a87a522f6645b230d53'), ObjectId('681a2a87a522f6645b230d54'), ObjectId('681a2a87a522f6645b230d55'), ObjectId('681a2a87a522f6645b230d56'), ObjectId('681a2a87a522f6645b230d57'), ObjectId('681a2a87a522f6645b230d58'), ObjectId('681a2a87a522f6645b230d59'), ObjectId('681a2a87a522f6645b230d5a'), ObjectId('681a2a87a522f6645b230d5b'), ObjectId('681a2a87a522f6645b230d5c'), ObjectId('681a2a87a522f6645b230d5d'), ObjectId('681a2a87a522f6645b230d5e'), ObjectId('681a2a87a522f6645b230d5f'), ObjectId('681a2a87a522f6645b230d60'), ObjectId('681a2a87a522f6645b230d61'), ObjectId('681a2a87a522f6645b230d62'), ObjectId('681a2a87a522f6645b230d63'), ObjectId('681a2a87a522f6645b230d64'), ObjectId('681a2a87a522f6645b230d65'), ObjectId('681a2a87a522f6645b230d66'), ObjectId('681a2a87a522f6645b230d67'), ObjectId('681a2a87a522f6645b230d68'), ObjectId('681a2a87a522f6645b230d69'), ObjectId('681a2a87a522f6645b230d6a'), ObjectId('681a2a87a522f6645b230d6b'), ObjectId('681a2a87a522f6645b230d6c'), ObjectId('681a2a87a522f6645b230d6d'), ObjectId('681a2a87a522f6645b230d6e'), ObjectId('681a2a87a522f6645b230d6f'), ObjectId('681a2a87a522f6645b230d70'), ObjectId('681a2a87a522f6645b230d71'), ObjectId('681a2a87a522f6645b230d72'), ObjectId('681a2a87a522f6645b230d73'), ObjectId('681a2a87a522f6645b230d74'), ObjectId('681a2a87a522f6645b230d75'), ObjectId('681a2a87a522f6645b230d76'), ObjectId('681a2a87a522f6645b230d77'), ObjectId('681a2a87a522f6645b230d78'), ObjectId('681a2a87a522f6645b230d79'), ObjectId('681a2a87a522f6645b230d7a'), ObjectId('681a2a87a522f6645b230d7b'), ObjectId('681a2a87a522f6645b230d7c'), ObjectId('681a2a87a522f6645b230d7d'), ObjectId('681a2a87a522f6645b230d7e'), ObjectId('681a2a87a522f6645b230d7f'), ObjectId('681a2a87a522f6645b230d80'), ObjectId('681a2a87a522f6645b230d81'), ObjectId('681a2a87a522f6645b230d82'), ObjectId('681a2a87a522f6645b230d83'), ObjectId('681a2a87a522f6645b230d84'), ObjectId('681a2a87a522f6645b230d85'), ObjectId('681a2a87a522f6645b230d86'), ObjectId('681a2a87a522f6645b230d87'), ObjectId('681a2a87a522f6645b230d88'), ObjectId('681a2a87a522f6645b230d89'), ObjectId('681a2a87a522f6645b230d8a'), ObjectId('681a2a87a522f6645b230d8b'), ObjectId('681a2a87a522f6645b230d8c'), ObjectId('681a2a87a522f6645b230d8d'), ObjectId('681a2a87a522f6645b230d8e'), ObjectId('681a2a87a522f6645b230d8f'), ObjectId('681a2a87a522f6645b230d90'), ObjectId('681a2a87a522f6645b230d91'), ObjectId('681a2a87a522f6645b230d92'), ObjectId('681a2a87a522f6645b230d93'), ObjectId('681a2a87a522f6645b230d94'), ObjectId('681a2a87a522f6645b230d95'), ObjectId('681a2a87a522f6645b230d96'), ObjectId('681a2a87a522f6645b230d97'), ObjectId('681a2a87a522f6645b230d98'), ObjectId('681a2a87a522f6645b230d99'), ObjectId('681a2a87a522f6645b230d9a'), ObjectId('681a2a87a522f6645b230d9b'), ObjectId('681a2a87a522f6645b230d9c'), ObjectId('681a2a87a522f6645b230d9d'), ObjectId('681a2a87a522f6645b230d9e'), ObjectId('681a2a87a522f6645b230d9f'), ObjectId('681a2a87a522f6645b230da0'), ObjectId('681a2a87a522f6645b230da1'), ObjectId('681a2a87a522f6645b230da2'), ObjectId('681a2a87a522f6645b230da3'), ObjectId('681a2a87a522f6645b230da4'), ObjectId('681a2a87a522f6645b230da5'), ObjectId('681a2a87a522f6645b230da6'), ObjectId('681a2a87a522f6645b230da7'), ObjectId('681a2a87a522f6645b230da8'), ObjectId('681a2a87a522f6645b230da9'), ObjectId('681a2a87a522f6645b230daa'), ObjectId('681a2a87a522f6645b230dab'), ObjectId('681a2a87a522f6645b230dac'), ObjectId('681a2a87a522f6645b230dad'), ObjectId('681a2a87a522f6645b230dae'), ObjectId('681a2a87a522f6645b230daf'), ObjectId('681a2a87a522f6645b230db0'), ObjectId('681a2a87a522f6645b230db1'), ObjectId('681a2a87a522f6645b230db2'), ObjectId('681a2a87a522f6645b230db3'), ObjectId('681a2a87a522f6645b230db4'), ObjectId('681a2a87a522f6645b230db5'), ObjectId('681a2a87a522f6645b230db6'), ObjectId('681a2a87a522f6645b230db7'), ObjectId('681a2a87a522f6645b230db8'), ObjectId('681a2a87a522f6645b230db9'), ObjectId('681a2a87a522f6645b230dba'), ObjectId('681a2a87a522f6645b230dbb'), ObjectId('681a2a87a522f6645b230dbc'), ObjectId('681a2a87a522f6645b230dbd'), ObjectId('681a2a87a522f6645b230dbe'), ObjectId('681a2a87a522f6645b230dbf'), ObjectId('681a2a87a522f6645b230dc0'), ObjectId('681a2a87a522f6645b230dc1'), ObjectId('681a2a87a522f6645b230dc2'), ObjectId('681a2a87a522f6645b230dc3'), ObjectId('681a2a87a522f6645b230dc4'), ObjectId('681a2a87a522f6645b230dc5'), ObjectId('681a2a87a522f6645b230dc6'), ObjectId('681a2a87a522f6645b230dc7'), ObjectId('681a2a87a522f6645b230dc8'), ObjectId('681a2a87a522f6645b230dc9'), ObjectId('681a2a87a522f6645b230dca'), ObjectId('681a2a87a522f6645b230dcb'), ObjectId('681a2a87a522f6645b230dcc'), ObjectId('681a2a87a522f6645b230dcd'), ObjectId('681a2a87a522f6645b230dce'), ObjectId('681a2a87a522f6645b230dcf'), ObjectId('681a2a87a522f6645b230dd0'), ObjectId('681a2a87a522f6645b230dd1'), ObjectId('681a2a87a522f6645b230dd2'), ObjectId('681a2a87a522f6645b230dd3'), ObjectId('681a2a87a522f6645b230dd4'), ObjectId('681a2a87a522f6645b230dd5'), ObjectId('681a2a87a522f6645b230dd6'), ObjectId('681a2a87a522f6645b230dd7'), ObjectId('681a2a87a522f6645b230dd8'), ObjectId('681a2a87a522f6645b230dd9'), ObjectId('681a2a87a522f6645b230dda'), ObjectId('681a2a87a522f6645b230ddb'), ObjectId('681a2a87a522f6645b230ddc'), ObjectId('681a2a87a522f6645b230ddd'), ObjectId('681a2a87a522f6645b230dde'), ObjectId('681a2a87a522f6645b230ddf'), ObjectId('681a2a87a522f6645b230de0'), ObjectId('681a2a87a522f6645b230de1'), ObjectId('681a2a87a522f6645b230de2'), ObjectId('681a2a87a522f6645b230de3'), ObjectId('681a2a87a522f6645b230de4'), ObjectId('681a2a87a522f6645b230de5'), ObjectId('681a2a87a522f6645b230de6'), ObjectId('681a2a87a522f6645b230de7'), ObjectId('681a2a87a522f6645b230de8'), ObjectId('681a2a87a522f6645b230de9'), ObjectId('681a2a87a522f6645b230dea'), ObjectId('681a2a87a522f6645b230deb'), ObjectId('681a2a87a522f6645b230dec'), ObjectId('681a2a87a522f6645b230ded'), ObjectId('681a2a87a522f6645b230dee'), ObjectId('681a2a87a522f6645b230def'), ObjectId('681a2a87a522f6645b230df0'), ObjectId('681a2a87a522f6645b230df1'), ObjectId('681a2a87a522f6645b230df2'), ObjectId('681a2a87a522f6645b230df3'), ObjectId('681a2a87a522f6645b230df4'), ObjectId('681a2a87a522f6645b230df5'), ObjectId('681a2a87a522f6645b230df6'), ObjectId('681a2a87a522f6645b230df7'), ObjectId('681a2a87a522f6645b230df8'), ObjectId('681a2a87a522f6645b230df9'), ObjectId('681a2a87a522f6645b230dfa'), ObjectId('681a2a87a522f6645b230dfb'), ObjectId('681a2a87a522f6645b230dfc'), ObjectId('681a2a87a522f6645b230dfd'), ObjectId('681a2a87a522f6645b230dfe'), ObjectId('681a2a87a522f6645b230dff'), ObjectId('681a2a87a522f6645b230e00'), ObjectId('681a2a87a522f6645b230e01'), ObjectId('681a2a87a522f6645b230e02'), ObjectId('681a2a87a522f6645b230e03'), ObjectId('681a2a87a522f6645b230e04'), ObjectId('681a2a87a522f6645b230e05'), ObjectId('681a2a87a522f6645b230e06'), ObjectId('681a2a87a522f6645b230e07'), ObjectId('681a2a87a522f6645b230e08'), ObjectId('681a2a87a522f6645b230e09'), ObjectId('681a2a87a522f6645b230e0a'), ObjectId('681a2a87a522f6645b230e0b'), ObjectId('681a2a87a522f6645b230e0c'), ObjectId('681a2a87a522f6645b230e0d'), ObjectId('681a2a87a522f6645b230e0e'), ObjectId('681a2a87a522f6645b230e0f'), ObjectId('681a2a87a522f6645b230e10'), ObjectId('681a2a87a522f6645b230e11'), ObjectId('681a2a87a522f6645b230e12'), ObjectId('681a2a87a522f6645b230e13'), ObjectId('681a2a87a522f6645b230e14'), ObjectId('681a2a87a522f6645b230e15'), ObjectId('681a2a87a522f6645b230e16'), ObjectId('681a2a87a522f6645b230e17'), ObjectId('681a2a87a522f6645b230e18'), ObjectId('681a2a87a522f6645b230e19'), ObjectId('681a2a87a522f6645b230e1a'), ObjectId('681a2a87a522f6645b230e1b'), ObjectId('681a2a87a522f6645b230e1c'), ObjectId('681a2a87a522f6645b230e1d'), ObjectId('681a2a87a522f6645b230e1e'), ObjectId('681a2a87a522f6645b230e1f'), ObjectId('681a2a87a522f6645b230e20'), ObjectId('681a2a87a522f6645b230e21'), ObjectId('681a2a87a522f6645b230e22'), ObjectId('681a2a87a522f6645b230e23'), ObjectId('681a2a87a522f6645b230e24'), ObjectId('681a2a87a522f6645b230e25'), ObjectId('681a2a87a522f6645b230e26'), ObjectId('681a2a87a522f6645b230e27'), ObjectId('681a2a87a522f6645b230e28'), ObjectId('681a2a87a522f6645b230e29'), ObjectId('681a2a87a522f6645b230e2a'), ObjectId('681a2a87a522f6645b230e2b'), ObjectId('681a2a87a522f6645b230e2c'), ObjectId('681a2a87a522f6645b230e2d'), ObjectId('681a2a87a522f6645b230e2e'), ObjectId('681a2a87a522f6645b230e2f'), ObjectId('681a2a87a522f6645b230e30'), ObjectId('681a2a87a522f6645b230e31'), ObjectId('681a2a87a522f6645b230e32'), ObjectId('681a2a87a522f6645b230e33'), ObjectId('681a2a87a522f6645b230e34'), ObjectId('681a2a87a522f6645b230e35'), ObjectId('681a2a87a522f6645b230e36'), ObjectId('681a2a87a522f6645b230e37'), ObjectId('681a2a87a522f6645b230e38'), ObjectId('681a2a87a522f6645b230e39'), ObjectId('681a2a87a522f6645b230e3a'), ObjectId('681a2a87a522f6645b230e3b'), ObjectId('681a2a87a522f6645b230e3c'), ObjectId('681a2a87a522f6645b230e3d'), ObjectId('681a2a87a522f6645b230e3e'), ObjectId('681a2a87a522f6645b230e3f'), ObjectId('681a2a87a522f6645b230e40'), ObjectId('681a2a87a522f6645b230e41'), ObjectId('681a2a87a522f6645b230e42'), ObjectId('681a2a87a522f6645b230e43'), ObjectId('681a2a87a522f6645b230e44'), ObjectId('681a2a87a522f6645b230e45'), ObjectId('681a2a87a522f6645b230e46'), ObjectId('681a2a87a522f6645b230e47'), ObjectId('681a2a87a522f6645b230e48'), ObjectId('681a2a87a522f6645b230e49'), ObjectId('681a2a87a522f6645b230e4a'), ObjectId('681a2a87a522f6645b230e4b'), ObjectId('681a2a87a522f6645b230e4c'), ObjectId('681a2a87a522f6645b230e4d'), ObjectId('681a2a87a522f6645b230e4e'), ObjectId('681a2a87a522f6645b230e4f'), ObjectId('681a2a87a522f6645b230e50'), ObjectId('681a2a87a522f6645b230e51'), ObjectId('681a2a87a522f6645b230e52'), ObjectId('681a2a87a522f6645b230e53'), ObjectId('681a2a87a522f6645b230e54'), ObjectId('681a2a87a522f6645b230e55'), ObjectId('681a2a87a522f6645b230e56'), ObjectId('681a2a87a522f6645b230e57'), ObjectId('681a2a87a522f6645b230e58'), ObjectId('681a2a87a522f6645b230e59'), ObjectId('681a2a87a522f6645b230e5a'), ObjectId('681a2a87a522f6645b230e5b'), ObjectId('681a2a87a522f6645b230e5c'), ObjectId('681a2a87a522f6645b230e5d'), ObjectId('681a2a87a522f6645b230e5e'), ObjectId('681a2a87a522f6645b230e5f'), ObjectId('681a2a87a522f6645b230e60'), ObjectId('681a2a87a522f6645b230e61'), ObjectId('681a2a87a522f6645b230e62'), ObjectId('681a2a87a522f6645b230e63'), ObjectId('681a2a87a522f6645b230e64'), ObjectId('681a2a87a522f6645b230e65'), ObjectId('681a2a87a522f6645b230e66'), ObjectId('681a2a87a522f6645b230e67'), ObjectId('681a2a87a522f6645b230e68'), ObjectId('681a2a87a522f6645b230e69'), ObjectId('681a2a87a522f6645b230e6a'), ObjectId('681a2a87a522f6645b230e6b'), ObjectId('681a2a87a522f6645b230e6c'), ObjectId('681a2a87a522f6645b230e6d'), ObjectId('681a2a87a522f6645b230e6e'), ObjectId('681a2a87a522f6645b230e6f'), ObjectId('681a2a87a522f6645b230e70'), ObjectId('681a2a87a522f6645b230e71'), ObjectId('681a2a87a522f6645b230e72'), ObjectId('681a2a87a522f6645b230e73'), ObjectId('681a2a87a522f6645b230e74'), ObjectId('681a2a87a522f6645b230e75'), ObjectId('681a2a87a522f6645b230e76'), ObjectId('681a2a87a522f6645b230e77'), ObjectId('681a2a87a522f6645b230e78'), ObjectId('681a2a87a522f6645b230e79'), ObjectId('681a2a87a522f6645b230e7a'), ObjectId('681a2a87a522f6645b230e7b'), ObjectId('681a2a87a522f6645b230e7c'), ObjectId('681a2a87a522f6645b230e7d'), ObjectId('681a2a87a522f6645b230e7e'), ObjectId('681a2a87a522f6645b230e7f'), ObjectId('681a2a87a522f6645b230e80'), ObjectId('681a2a87a522f6645b230e81'), ObjectId('681a2a87a522f6645b230e82'), ObjectId('681a2a87a522f6645b230e83'), ObjectId('681a2a87a522f6645b230e84'), ObjectId('681a2a87a522f6645b230e85'), ObjectId('681a2a87a522f6645b230e86'), ObjectId('681a2a87a522f6645b230e87'), ObjectId('681a2a87a522f6645b230e88'), ObjectId('681a2a87a522f6645b230e89'), ObjectId('681a2a87a522f6645b230e8a'), ObjectId('681a2a87a522f6645b230e8b'), ObjectId('681a2a87a522f6645b230e8c'), ObjectId('681a2a87a522f6645b230e8d'), ObjectId('681a2a87a522f6645b230e8e'), ObjectId('681a2a87a522f6645b230e8f'), ObjectId('681a2a87a522f6645b230e90'), ObjectId('681a2a87a522f6645b230e91'), ObjectId('681a2a87a522f6645b230e92'), ObjectId('681a2a87a522f6645b230e93'), ObjectId('681a2a87a522f6645b230e94'), ObjectId('681a2a87a522f6645b230e95'), ObjectId('681a2a87a522f6645b230e96'), ObjectId('681a2a87a522f6645b230e97'), ObjectId('681a2a87a522f6645b230e98'), ObjectId('681a2a87a522f6645b230e99'), ObjectId('681a2a87a522f6645b230e9a'), ObjectId('681a2a87a522f6645b230e9b'), ObjectId('681a2a87a522f6645b230e9c'), ObjectId('681a2a87a522f6645b230e9d'), ObjectId('681a2a87a522f6645b230e9e'), ObjectId('681a2a87a522f6645b230e9f'), ObjectId('681a2a87a522f6645b230ea0'), ObjectId('681a2a87a522f6645b230ea1'), ObjectId('681a2a87a522f6645b230ea2'), ObjectId('681a2a87a522f6645b230ea3'), ObjectId('681a2a87a522f6645b230ea4'), ObjectId('681a2a87a522f6645b230ea5'), ObjectId('681a2a87a522f6645b230ea6'), ObjectId('681a2a87a522f6645b230ea7'), ObjectId('681a2a87a522f6645b230ea8'), ObjectId('681a2a87a522f6645b230ea9'), ObjectId('681a2a87a522f6645b230eaa'), ObjectId('681a2a87a522f6645b230eab'), ObjectId('681a2a87a522f6645b230eac'), ObjectId('681a2a87a522f6645b230ead'), ObjectId('681a2a87a522f6645b230eae'), ObjectId('681a2a87a522f6645b230eaf'), ObjectId('681a2a87a522f6645b230eb0'), ObjectId('681a2a87a522f6645b230eb1'), ObjectId('681a2a87a522f6645b230eb2'), ObjectId('681a2a87a522f6645b230eb3'), ObjectId('681a2a87a522f6645b230eb4'), ObjectId('681a2a87a522f6645b230eb5'), ObjectId('681a2a87a522f6645b230eb6'), ObjectId('681a2a87a522f6645b230eb7'), ObjectId('681a2a87a522f6645b230eb8'), ObjectId('681a2a87a522f6645b230eb9'), ObjectId('681a2a87a522f6645b230eba'), ObjectId('681a2a87a522f6645b230ebb'), ObjectId('681a2a87a522f6645b230ebc'), ObjectId('681a2a87a522f6645b230ebd'), ObjectId('681a2a87a522f6645b230ebe'), ObjectId('681a2a87a522f6645b230ebf'), ObjectId('681a2a87a522f6645b230ec0'), ObjectId('681a2a87a522f6645b230ec1'), ObjectId('681a2a87a522f6645b230ec2'), ObjectId('681a2a87a522f6645b230ec3'), ObjectId('681a2a87a522f6645b230ec4'), ObjectId('681a2a87a522f6645b230ec5'), ObjectId('681a2a87a522f6645b230ec6'), ObjectId('681a2a87a522f6645b230ec7'), ObjectId('681a2a87a522f6645b230ec8'), ObjectId('681a2a87a522f6645b230ec9'), ObjectId('681a2a87a522f6645b230eca'), ObjectId('681a2a87a522f6645b230ecb'), ObjectId('681a2a87a522f6645b230ecc'), ObjectId('681a2a87a522f6645b230ecd'), ObjectId('681a2a87a522f6645b230ece'), ObjectId('681a2a87a522f6645b230ecf'), ObjectId('681a2a87a522f6645b230ed0'), ObjectId('681a2a87a522f6645b230ed1'), ObjectId('681a2a87a522f6645b230ed2'), ObjectId('681a2a87a522f6645b230ed3'), ObjectId('681a2a87a522f6645b230ed4'), ObjectId('681a2a87a522f6645b230ed5'), ObjectId('681a2a87a522f6645b230ed6'), ObjectId('681a2a87a522f6645b230ed7'), ObjectId('681a2a87a522f6645b230ed8'), ObjectId('681a2a87a522f6645b230ed9'), ObjectId('681a2a87a522f6645b230eda'), ObjectId('681a2a87a522f6645b230edb'), ObjectId('681a2a87a522f6645b230edc'), ObjectId('681a2a87a522f6645b230edd'), ObjectId('681a2a87a522f6645b230ede'), ObjectId('681a2a87a522f6645b230edf'), ObjectId('681a2a87a522f6645b230ee0'), ObjectId('681a2a87a522f6645b230ee1'), ObjectId('681a2a87a522f6645b230ee2'), ObjectId('681a2a87a522f6645b230ee3'), ObjectId('681a2a87a522f6645b230ee4'), ObjectId('681a2a87a522f6645b230ee5'), ObjectId('681a2a87a522f6645b230ee6'), ObjectId('681a2a87a522f6645b230ee7'), ObjectId('681a2a87a522f6645b230ee8'), ObjectId('681a2a87a522f6645b230ee9'), ObjectId('681a2a87a522f6645b230eea'), ObjectId('681a2a87a522f6645b230eeb'), ObjectId('681a2a87a522f6645b230eec'), ObjectId('681a2a87a522f6645b230eed'), ObjectId('681a2a87a522f6645b230eee'), ObjectId('681a2a87a522f6645b230eef'), ObjectId('681a2a87a522f6645b230ef0'), ObjectId('681a2a87a522f6645b230ef1'), ObjectId('681a2a87a522f6645b230ef2'), ObjectId('681a2a87a522f6645b230ef3'), ObjectId('681a2a87a522f6645b230ef4'), ObjectId('681a2a87a522f6645b230ef5'), ObjectId('681a2a87a522f6645b230ef6'), ObjectId('681a2a87a522f6645b230ef7'), ObjectId('681a2a87a522f6645b230ef8'), ObjectId('681a2a87a522f6645b230ef9'), ObjectId('681a2a87a522f6645b230efa'), ObjectId('681a2a87a522f6645b230efb'), ObjectId('681a2a87a522f6645b230efc'), ObjectId('681a2a87a522f6645b230efd'), ObjectId('681a2a87a522f6645b230efe'), ObjectId('681a2a87a522f6645b230eff'), ObjectId('681a2a87a522f6645b230f00'), ObjectId('681a2a87a522f6645b230f01'), ObjectId('681a2a87a522f6645b230f02'), ObjectId('681a2a87a522f6645b230f03'), ObjectId('681a2a87a522f6645b230f04'), ObjectId('681a2a87a522f6645b230f05'), ObjectId('681a2a87a522f6645b230f06'), ObjectId('681a2a87a522f6645b230f07'), ObjectId('681a2a87a522f6645b230f08'), ObjectId('681a2a87a522f6645b230f09'), ObjectId('681a2a87a522f6645b230f0a'), ObjectId('681a2a87a522f6645b230f0b'), ObjectId('681a2a87a522f6645b230f0c'), ObjectId('681a2a87a522f6645b230f0d'), ObjectId('681a2a87a522f6645b230f0e'), ObjectId('681a2a87a522f6645b230f0f'), ObjectId('681a2a87a522f6645b230f10'), ObjectId('681a2a87a522f6645b230f11'), ObjectId('681a2a87a522f6645b230f12'), ObjectId('681a2a87a522f6645b230f13'), ObjectId('681a2a87a522f6645b230f14'), ObjectId('681a2a87a522f6645b230f15'), ObjectId('681a2a87a522f6645b230f16'), ObjectId('681a2a87a522f6645b230f17'), ObjectId('681a2a87a522f6645b230f18'), ObjectId('681a2a87a522f6645b230f19'), ObjectId('681a2a87a522f6645b230f1a'), ObjectId('681a2a87a522f6645b230f1b'), ObjectId('681a2a87a522f6645b230f1c'), ObjectId('681a2a87a522f6645b230f1d'), ObjectId('681a2a87a522f6645b230f1e'), ObjectId('681a2a87a522f6645b230f1f'), ObjectId('681a2a87a522f6645b230f20'), ObjectId('681a2a87a522f6645b230f21'), ObjectId('681a2a87a522f6645b230f22'), ObjectId('681a2a87a522f6645b230f23'), ObjectId('681a2a87a522f6645b230f24'), ObjectId('681a2a87a522f6645b230f25'), ObjectId('681a2a87a522f6645b230f26'), ObjectId('681a2a87a522f6645b230f27'), ObjectId('681a2a87a522f6645b230f28'), ObjectId('681a2a87a522f6645b230f29'), ObjectId('681a2a87a522f6645b230f2a'), ObjectId('681a2a87a522f6645b230f2b'), ObjectId('681a2a87a522f6645b230f2c'), ObjectId('681a2a87a522f6645b230f2d'), ObjectId('681a2a87a522f6645b230f2e'), ObjectId('681a2a87a522f6645b230f2f'), ObjectId('681a2a87a522f6645b230f30'), ObjectId('681a2a87a522f6645b230f31'), ObjectId('681a2a87a522f6645b230f32'), ObjectId('681a2a87a522f6645b230f33'), ObjectId('681a2a87a522f6645b230f34'), ObjectId('681a2a87a522f6645b230f35'), ObjectId('681a2a87a522f6645b230f36'), ObjectId('681a2a87a522f6645b230f37'), ObjectId('681a2a87a522f6645b230f38'), ObjectId('681a2a87a522f6645b230f39'), ObjectId('681a2a87a522f6645b230f3a'), ObjectId('681a2a87a522f6645b230f3b'), ObjectId('681a2a87a522f6645b230f3c'), ObjectId('681a2a87a522f6645b230f3d'), ObjectId('681a2a87a522f6645b230f3e'), ObjectId('681a2a87a522f6645b230f3f'), ObjectId('681a2a87a522f6645b230f40'), ObjectId('681a2a87a522f6645b230f41'), ObjectId('681a2a87a522f6645b230f42'), ObjectId('681a2a87a522f6645b230f43'), ObjectId('681a2a87a522f6645b230f44'), ObjectId('681a2a87a522f6645b230f45'), ObjectId('681a2a87a522f6645b230f46'), ObjectId('681a2a87a522f6645b230f47'), ObjectId('681a2a87a522f6645b230f48'), ObjectId('681a2a87a522f6645b230f49'), ObjectId('681a2a87a522f6645b230f4a'), ObjectId('681a2a87a522f6645b230f4b'), ObjectId('681a2a87a522f6645b230f4c'), ObjectId('681a2a87a522f6645b230f4d'), ObjectId('681a2a87a522f6645b230f4e'), ObjectId('681a2a87a522f6645b230f4f'), ObjectId('681a2a87a522f6645b230f50'), ObjectId('681a2a87a522f6645b230f51'), ObjectId('681a2a87a522f6645b230f52'), ObjectId('681a2a87a522f6645b230f53'), ObjectId('681a2a87a522f6645b230f54'), ObjectId('681a2a87a522f6645b230f55'), ObjectId('681a2a87a522f6645b230f56'), ObjectId('681a2a87a522f6645b230f57'), ObjectId('681a2a87a522f6645b230f58'), ObjectId('681a2a87a522f6645b230f59'), ObjectId('681a2a87a522f6645b230f5a'), ObjectId('681a2a87a522f6645b230f5b'), ObjectId('681a2a87a522f6645b230f5c'), ObjectId('681a2a87a522f6645b230f5d'), ObjectId('681a2a87a522f6645b230f5e'), ObjectId('681a2a87a522f6645b230f5f'), ObjectId('681a2a87a522f6645b230f60'), ObjectId('681a2a87a522f6645b230f61'), ObjectId('681a2a87a522f6645b230f62'), ObjectId('681a2a87a522f6645b230f63'), ObjectId('681a2a87a522f6645b230f64'), ObjectId('681a2a87a522f6645b230f65'), ObjectId('681a2a87a522f6645b230f66'), ObjectId('681a2a87a522f6645b230f67'), ObjectId('681a2a87a522f6645b230f68'), ObjectId('681a2a87a522f6645b230f69'), ObjectId('681a2a87a522f6645b230f6a'), ObjectId('681a2a87a522f6645b230f6b'), ObjectId('681a2a87a522f6645b230f6c'), ObjectId('681a2a87a522f6645b230f6d'), ObjectId('681a2a87a522f6645b230f6e'), ObjectId('681a2a87a522f6645b230f6f'), ObjectId('681a2a87a522f6645b230f70'), ObjectId('681a2a87a522f6645b230f71'), ObjectId('681a2a87a522f6645b230f72'), ObjectId('681a2a87a522f6645b230f73'), ObjectId('681a2a87a522f6645b230f74'), ObjectId('681a2a87a522f6645b230f75'), ObjectId('681a2a87a522f6645b230f76'), ObjectId('681a2a87a522f6645b230f77'), ObjectId('681a2a87a522f6645b230f78'), ObjectId('681a2a87a522f6645b230f79'), ObjectId('681a2a87a522f6645b230f7a'), ObjectId('681a2a87a522f6645b230f7b'), ObjectId('681a2a87a522f6645b230f7c'), ObjectId('681a2a87a522f6645b230f7d'), ObjectId('681a2a87a522f6645b230f7e'), ObjectId('681a2a87a522f6645b230f7f'), ObjectId('681a2a87a522f6645b230f80'), ObjectId('681a2a87a522f6645b230f81'), ObjectId('681a2a87a522f6645b230f82'), ObjectId('681a2a87a522f6645b230f83'), ObjectId('681a2a87a522f6645b230f84'), ObjectId('681a2a87a522f6645b230f85'), ObjectId('681a2a87a522f6645b230f86'), ObjectId('681a2a87a522f6645b230f87'), ObjectId('681a2a87a522f6645b230f88'), ObjectId('681a2a87a522f6645b230f89'), ObjectId('681a2a87a522f6645b230f8a'), ObjectId('681a2a87a522f6645b230f8b'), ObjectId('681a2a87a522f6645b230f8c'), ObjectId('681a2a87a522f6645b230f8d'), ObjectId('681a2a87a522f6645b230f8e'), ObjectId('681a2a87a522f6645b230f8f'), ObjectId('681a2a87a522f6645b230f90'), ObjectId('681a2a87a522f6645b230f91'), ObjectId('681a2a87a522f6645b230f92'), ObjectId('681a2a87a522f6645b230f93'), ObjectId('681a2a87a522f6645b230f94'), ObjectId('681a2a87a522f6645b230f95'), ObjectId('681a2a87a522f6645b230f96'), ObjectId('681a2a87a522f6645b230f97'), ObjectId('681a2a87a522f6645b230f98'), ObjectId('681a2a87a522f6645b230f99'), ObjectId('681a2a87a522f6645b230f9a'), ObjectId('681a2a87a522f6645b230f9b'), ObjectId('681a2a87a522f6645b230f9c'), ObjectId('681a2a87a522f6645b230f9d'), ObjectId('681a2a87a522f6645b230f9e'), ObjectId('681a2a87a522f6645b230f9f'), ObjectId('681a2a87a522f6645b230fa0'), ObjectId('681a2a87a522f6645b230fa1'), ObjectId('681a2a87a522f6645b230fa2'), ObjectId('681a2a87a522f6645b230fa3'), ObjectId('681a2a87a522f6645b230fa4'), ObjectId('681a2a87a522f6645b230fa5'), ObjectId('681a2a87a522f6645b230fa6'), ObjectId('681a2a87a522f6645b230fa7'), ObjectId('681a2a87a522f6645b230fa8'), ObjectId('681a2a87a522f6645b230fa9'), ObjectId('681a2a87a522f6645b230faa'), ObjectId('681a2a87a522f6645b230fab'), ObjectId('681a2a87a522f6645b230fac'), ObjectId('681a2a87a522f6645b230fad'), ObjectId('681a2a87a522f6645b230fae'), ObjectId('681a2a87a522f6645b230faf'), ObjectId('681a2a87a522f6645b230fb0'), ObjectId('681a2a87a522f6645b230fb1'), ObjectId('681a2a87a522f6645b230fb2'), ObjectId('681a2a87a522f6645b230fb3'), ObjectId('681a2a87a522f6645b230fb4'), ObjectId('681a2a87a522f6645b230fb5'), ObjectId('681a2a87a522f6645b230fb6'), ObjectId('681a2a87a522f6645b230fb7'), ObjectId('681a2a87a522f6645b230fb8'), ObjectId('681a2a87a522f6645b230fb9'), ObjectId('681a2a87a522f6645b230fba'), ObjectId('681a2a87a522f6645b230fbb'), ObjectId('681a2a87a522f6645b230fbc'), ObjectId('681a2a87a522f6645b230fbd'), ObjectId('681a2a87a522f6645b230fbe'), ObjectId('681a2a87a522f6645b230fbf'), ObjectId('681a2a87a522f6645b230fc0'), ObjectId('681a2a87a522f6645b230fc1'), ObjectId('681a2a87a522f6645b230fc2'), ObjectId('681a2a87a522f6645b230fc3'), ObjectId('681a2a87a522f6645b230fc4'), ObjectId('681a2a87a522f6645b230fc5'), ObjectId('681a2a87a522f6645b230fc6'), ObjectId('681a2a87a522f6645b230fc7'), ObjectId('681a2a87a522f6645b230fc8'), ObjectId('681a2a87a522f6645b230fc9'), ObjectId('681a2a87a522f6645b230fca'), ObjectId('681a2a87a522f6645b230fcb'), ObjectId('681a2a87a522f6645b230fcc'), ObjectId('681a2a87a522f6645b230fcd'), ObjectId('681a2a87a522f6645b230fce'), ObjectId('681a2a87a522f6645b230fcf'), ObjectId('681a2a87a522f6645b230fd0'), ObjectId('681a2a87a522f6645b230fd1'), ObjectId('681a2a87a522f6645b230fd2'), ObjectId('681a2a87a522f6645b230fd3'), ObjectId('681a2a87a522f6645b230fd4'), ObjectId('681a2a87a522f6645b230fd5'), ObjectId('681a2a87a522f6645b230fd6'), ObjectId('681a2a87a522f6645b230fd7'), ObjectId('681a2a87a522f6645b230fd8'), ObjectId('681a2a87a522f6645b230fd9'), ObjectId('681a2a87a522f6645b230fda'), ObjectId('681a2a87a522f6645b230fdb'), ObjectId('681a2a87a522f6645b230fdc'), ObjectId('681a2a87a522f6645b230fdd'), ObjectId('681a2a87a522f6645b230fde'), ObjectId('681a2a87a522f6645b230fdf'), ObjectId('681a2a87a522f6645b230fe0'), ObjectId('681a2a87a522f6645b230fe1'), ObjectId('681a2a87a522f6645b230fe2'), ObjectId('681a2a87a522f6645b230fe3'), ObjectId('681a2a87a522f6645b230fe4'), ObjectId('681a2a87a522f6645b230fe5'), ObjectId('681a2a87a522f6645b230fe6'), ObjectId('681a2a87a522f6645b230fe7'), ObjectId('681a2a87a522f6645b230fe8'), ObjectId('681a2a87a522f6645b230fe9'), ObjectId('681a2a87a522f6645b230fea'), ObjectId('681a2a87a522f6645b230feb'), ObjectId('681a2a87a522f6645b230fec'), ObjectId('681a2a87a522f6645b230fed'), ObjectId('681a2a87a522f6645b230fee'), ObjectId('681a2a87a522f6645b230fef'), ObjectId('681a2a87a522f6645b230ff0'), ObjectId('681a2a87a522f6645b230ff1'), ObjectId('681a2a87a522f6645b230ff2'), ObjectId('681a2a87a522f6645b230ff3'), ObjectId('681a2a87a522f6645b230ff4'), ObjectId('681a2a87a522f6645b230ff5'), ObjectId('681a2a87a522f6645b230ff6'), ObjectId('681a2a87a522f6645b230ff7'), ObjectId('681a2a87a522f6645b230ff8'), ObjectId('681a2a87a522f6645b230ff9'), ObjectId('681a2a87a522f6645b230ffa'), ObjectId('681a2a87a522f6645b230ffb'), ObjectId('681a2a87a522f6645b230ffc'), ObjectId('681a2a87a522f6645b230ffd'), ObjectId('681a2a87a522f6645b230ffe'), ObjectId('681a2a87a522f6645b230fff'), ObjectId('681a2a87a522f6645b231000'), ObjectId('681a2a87a522f6645b231001'), ObjectId('681a2a87a522f6645b231002'), ObjectId('681a2a87a522f6645b231003'), ObjectId('681a2a87a522f6645b231004'), ObjectId('681a2a87a522f6645b231005'), ObjectId('681a2a87a522f6645b231006'), ObjectId('681a2a87a522f6645b231007'), ObjectId('681a2a87a522f6645b231008'), ObjectId('681a2a87a522f6645b231009'), ObjectId('681a2a87a522f6645b23100a'), ObjectId('681a2a87a522f6645b23100b'), ObjectId('681a2a87a522f6645b23100c'), ObjectId('681a2a87a522f6645b23100d'), ObjectId('681a2a87a522f6645b23100e'), ObjectId('681a2a87a522f6645b23100f'), ObjectId('681a2a87a522f6645b231010'), ObjectId('681a2a87a522f6645b231011'), ObjectId('681a2a87a522f6645b231012'), ObjectId('681a2a87a522f6645b231013'), ObjectId('681a2a87a522f6645b231014'), ObjectId('681a2a87a522f6645b231015'), ObjectId('681a2a87a522f6645b231016'), ObjectId('681a2a87a522f6645b231017'), ObjectId('681a2a87a522f6645b231018'), ObjectId('681a2a87a522f6645b231019'), ObjectId('681a2a87a522f6645b23101a'), ObjectId('681a2a87a522f6645b23101b'), ObjectId('681a2a87a522f6645b23101c'), ObjectId('681a2a87a522f6645b23101d'), ObjectId('681a2a87a522f6645b23101e'), ObjectId('681a2a87a522f6645b23101f'), ObjectId('681a2a87a522f6645b231020'), ObjectId('681a2a87a522f6645b231021'), ObjectId('681a2a87a522f6645b231022'), ObjectId('681a2a87a522f6645b231023'), ObjectId('681a2a87a522f6645b231024'), ObjectId('681a2a87a522f6645b231025'), ObjectId('681a2a87a522f6645b231026'), ObjectId('681a2a87a522f6645b231027'), ObjectId('681a2a87a522f6645b231028'), ObjectId('681a2a87a522f6645b231029'), ObjectId('681a2a87a522f6645b23102a'), ObjectId('681a2a87a522f6645b23102b'), ObjectId('681a2a87a522f6645b23102c'), ObjectId('681a2a87a522f6645b23102d'), ObjectId('681a2a87a522f6645b23102e'), ObjectId('681a2a87a522f6645b23102f'), ObjectId('681a2a87a522f6645b231030'), ObjectId('681a2a87a522f6645b231031'), ObjectId('681a2a87a522f6645b231032'), ObjectId('681a2a87a522f6645b231033'), ObjectId('681a2a87a522f6645b231034'), ObjectId('681a2a87a522f6645b231035'), ObjectId('681a2a87a522f6645b231036'), ObjectId('681a2a87a522f6645b231037'), ObjectId('681a2a87a522f6645b231038'), ObjectId('681a2a87a522f6645b231039'), ObjectId('681a2a87a522f6645b23103a'), ObjectId('681a2a87a522f6645b23103b'), ObjectId('681a2a87a522f6645b23103c'), ObjectId('681a2a87a522f6645b23103d'), ObjectId('681a2a87a522f6645b23103e'), ObjectId('681a2a87a522f6645b23103f'), ObjectId('681a2a87a522f6645b231040'), ObjectId('681a2a87a522f6645b231041'), ObjectId('681a2a87a522f6645b231042'), ObjectId('681a2a87a522f6645b231043'), ObjectId('681a2a87a522f6645b231044'), ObjectId('681a2a87a522f6645b231045'), ObjectId('681a2a87a522f6645b231046'), ObjectId('681a2a87a522f6645b231047'), ObjectId('681a2a87a522f6645b231048'), ObjectId('681a2a87a522f6645b231049'), ObjectId('681a2a87a522f6645b23104a'), ObjectId('681a2a87a522f6645b23104b'), ObjectId('681a2a87a522f6645b23104c'), ObjectId('681a2a87a522f6645b23104d'), ObjectId('681a2a87a522f6645b23104e'), ObjectId('681a2a87a522f6645b23104f'), ObjectId('681a2a87a522f6645b231050'), ObjectId('681a2a87a522f6645b231051'), ObjectId('681a2a87a522f6645b231052'), ObjectId('681a2a87a522f6645b231053'), ObjectId('681a2a87a522f6645b231054'), ObjectId('681a2a87a522f6645b231055'), ObjectId('681a2a87a522f6645b231056'), ObjectId('681a2a87a522f6645b231057'), ObjectId('681a2a87a522f6645b231058'), ObjectId('681a2a87a522f6645b231059'), ObjectId('681a2a87a522f6645b23105a'), ObjectId('681a2a87a522f6645b23105b'), ObjectId('681a2a87a522f6645b23105c'), ObjectId('681a2a87a522f6645b23105d'), ObjectId('681a2a87a522f6645b23105e'), ObjectId('681a2a87a522f6645b23105f'), ObjectId('681a2a87a522f6645b231060'), ObjectId('681a2a87a522f6645b231061'), ObjectId('681a2a87a522f6645b231062'), ObjectId('681a2a87a522f6645b231063'), ObjectId('681a2a87a522f6645b231064'), ObjectId('681a2a87a522f6645b231065'), ObjectId('681a2a87a522f6645b231066'), ObjectId('681a2a87a522f6645b231067'), ObjectId('681a2a87a522f6645b231068'), ObjectId('681a2a87a522f6645b231069'), ObjectId('681a2a87a522f6645b23106a'), ObjectId('681a2a87a522f6645b23106b'), ObjectId('681a2a87a522f6645b23106c'), ObjectId('681a2a87a522f6645b23106d'), ObjectId('681a2a87a522f6645b23106e'), ObjectId('681a2a87a522f6645b23106f'), ObjectId('681a2a87a522f6645b231070'), ObjectId('681a2a87a522f6645b231071'), ObjectId('681a2a87a522f6645b231072'), ObjectId('681a2a87a522f6645b231073'), ObjectId('681a2a87a522f6645b231074'), ObjectId('681a2a87a522f6645b231075'), ObjectId('681a2a87a522f6645b231076'), ObjectId('681a2a87a522f6645b231077'), ObjectId('681a2a87a522f6645b231078'), ObjectId('681a2a87a522f6645b231079'), ObjectId('681a2a87a522f6645b23107a'), ObjectId('681a2a87a522f6645b23107b'), ObjectId('681a2a87a522f6645b23107c'), ObjectId('681a2a87a522f6645b23107d'), ObjectId('681a2a87a522f6645b23107e'), ObjectId('681a2a87a522f6645b23107f'), ObjectId('681a2a87a522f6645b231080'), ObjectId('681a2a87a522f6645b231081'), ObjectId('681a2a87a522f6645b231082'), ObjectId('681a2a87a522f6645b231083'), ObjectId('681a2a87a522f6645b231084'), ObjectId('681a2a87a522f6645b231085'), ObjectId('681a2a87a522f6645b231086'), ObjectId('681a2a87a522f6645b231087'), ObjectId('681a2a87a522f6645b231088'), ObjectId('681a2a87a522f6645b231089'), ObjectId('681a2a87a522f6645b23108a'), ObjectId('681a2a87a522f6645b23108b'), ObjectId('681a2a87a522f6645b23108c'), ObjectId('681a2a87a522f6645b23108d'), ObjectId('681a2a87a522f6645b23108e'), ObjectId('681a2a87a522f6645b23108f'), ObjectId('681a2a87a522f6645b231090'), ObjectId('681a2a87a522f6645b231091'), ObjectId('681a2a87a522f6645b231092'), ObjectId('681a2a87a522f6645b231093'), ObjectId('681a2a87a522f6645b231094'), ObjectId('681a2a87a522f6645b231095'), ObjectId('681a2a87a522f6645b231096'), ObjectId('681a2a87a522f6645b231097'), ObjectId('681a2a87a522f6645b231098'), ObjectId('681a2a87a522f6645b231099'), ObjectId('681a2a87a522f6645b23109a'), ObjectId('681a2a87a522f6645b23109b'), ObjectId('681a2a87a522f6645b23109c'), ObjectId('681a2a87a522f6645b23109d'), ObjectId('681a2a87a522f6645b23109e'), ObjectId('681a2a87a522f6645b23109f'), ObjectId('681a2a87a522f6645b2310a0'), ObjectId('681a2a87a522f6645b2310a1'), ObjectId('681a2a87a522f6645b2310a2'), ObjectId('681a2a87a522f6645b2310a3'), ObjectId('681a2a87a522f6645b2310a4'), ObjectId('681a2a87a522f6645b2310a5'), ObjectId('681a2a87a522f6645b2310a6'), ObjectId('681a2a87a522f6645b2310a7'), ObjectId('681a2a87a522f6645b2310a8'), ObjectId('681a2a87a522f6645b2310a9'), ObjectId('681a2a87a522f6645b2310aa'), ObjectId('681a2a87a522f6645b2310ab'), ObjectId('681a2a87a522f6645b2310ac'), ObjectId('681a2a87a522f6645b2310ad'), ObjectId('681a2a87a522f6645b2310ae'), ObjectId('681a2a87a522f6645b2310af'), ObjectId('681a2a87a522f6645b2310b0'), ObjectId('681a2a87a522f6645b2310b1'), ObjectId('681a2a87a522f6645b2310b2'), ObjectId('681a2a87a522f6645b2310b3'), ObjectId('681a2a87a522f6645b2310b4'), ObjectId('681a2a87a522f6645b2310b5'), ObjectId('681a2a87a522f6645b2310b6'), ObjectId('681a2a87a522f6645b2310b7'), ObjectId('681a2a87a522f6645b2310b8'), ObjectId('681a2a87a522f6645b2310b9'), ObjectId('681a2a87a522f6645b2310ba'), ObjectId('681a2a87a522f6645b2310bb'), ObjectId('681a2a87a522f6645b2310bc'), ObjectId('681a2a87a522f6645b2310bd'), ObjectId('681a2a87a522f6645b2310be'), ObjectId('681a2a87a522f6645b2310bf'), ObjectId('681a2a87a522f6645b2310c0'), ObjectId('681a2a87a522f6645b2310c1'), ObjectId('681a2a87a522f6645b2310c2'), ObjectId('681a2a87a522f6645b2310c3'), ObjectId('681a2a87a522f6645b2310c4'), ObjectId('681a2a87a522f6645b2310c5'), ObjectId('681a2a87a522f6645b2310c6'), ObjectId('681a2a87a522f6645b2310c7'), ObjectId('681a2a87a522f6645b2310c8'), ObjectId('681a2a87a522f6645b2310c9'), ObjectId('681a2a87a522f6645b2310ca'), ObjectId('681a2a87a522f6645b2310cb'), ObjectId('681a2a87a522f6645b2310cc'), ObjectId('681a2a87a522f6645b2310cd'), ObjectId('681a2a87a522f6645b2310ce'), ObjectId('681a2a87a522f6645b2310cf'), ObjectId('681a2a87a522f6645b2310d0'), ObjectId('681a2a87a522f6645b2310d1'), ObjectId('681a2a87a522f6645b2310d2'), ObjectId('681a2a87a522f6645b2310d3'), ObjectId('681a2a87a522f6645b2310d4'), ObjectId('681a2a87a522f6645b2310d5'), ObjectId('681a2a87a522f6645b2310d6'), ObjectId('681a2a87a522f6645b2310d7'), ObjectId('681a2a87a522f6645b2310d8'), ObjectId('681a2a87a522f6645b2310d9'), ObjectId('681a2a87a522f6645b2310da'), ObjectId('681a2a87a522f6645b2310db'), ObjectId('681a2a87a522f6645b2310dc'), ObjectId('681a2a87a522f6645b2310dd'), ObjectId('681a2a87a522f6645b2310de'), ObjectId('681a2a87a522f6645b2310df'), ObjectId('681a2a87a522f6645b2310e0'), ObjectId('681a2a87a522f6645b2310e1'), ObjectId('681a2a87a522f6645b2310e2'), ObjectId('681a2a87a522f6645b2310e3'), ObjectId('681a2a87a522f6645b2310e4'), ObjectId('681a2a87a522f6645b2310e5'), ObjectId('681a2a87a522f6645b2310e6'), ObjectId('681a2a87a522f6645b2310e7'), ObjectId('681a2a87a522f6645b2310e8'), ObjectId('681a2a87a522f6645b2310e9'), ObjectId('681a2a87a522f6645b2310ea'), ObjectId('681a2a87a522f6645b2310eb'), ObjectId('681a2a87a522f6645b2310ec'), ObjectId('681a2a87a522f6645b2310ed'), ObjectId('681a2a87a522f6645b2310ee'), ObjectId('681a2a87a522f6645b2310ef'), ObjectId('681a2a87a522f6645b2310f0'), ObjectId('681a2a87a522f6645b2310f1'), ObjectId('681a2a87a522f6645b2310f2'), ObjectId('681a2a87a522f6645b2310f3'), ObjectId('681a2a87a522f6645b2310f4'), ObjectId('681a2a87a522f6645b2310f5'), ObjectId('681a2a87a522f6645b2310f6'), ObjectId('681a2a87a522f6645b2310f7'), ObjectId('681a2a87a522f6645b2310f8'), ObjectId('681a2a87a522f6645b2310f9'), ObjectId('681a2a87a522f6645b2310fa'), ObjectId('681a2a87a522f6645b2310fb'), ObjectId('681a2a87a522f6645b2310fc'), ObjectId('681a2a87a522f6645b2310fd'), ObjectId('681a2a87a522f6645b2310fe'), ObjectId('681a2a87a522f6645b2310ff'), ObjectId('681a2a87a522f6645b231100'), ObjectId('681a2a87a522f6645b231101'), ObjectId('681a2a87a522f6645b231102'), ObjectId('681a2a87a522f6645b231103'), ObjectId('681a2a87a522f6645b231104'), ObjectId('681a2a87a522f6645b231105'), ObjectId('681a2a87a522f6645b231106'), ObjectId('681a2a87a522f6645b231107'), ObjectId('681a2a87a522f6645b231108'), ObjectId('681a2a87a522f6645b231109'), ObjectId('681a2a87a522f6645b23110a'), ObjectId('681a2a87a522f6645b23110b'), ObjectId('681a2a87a522f6645b23110c'), ObjectId('681a2a87a522f6645b23110d'), ObjectId('681a2a87a522f6645b23110e'), ObjectId('681a2a87a522f6645b23110f'), ObjectId('681a2a87a522f6645b231110'), ObjectId('681a2a87a522f6645b231111'), ObjectId('681a2a87a522f6645b231112'), ObjectId('681a2a87a522f6645b231113'), ObjectId('681a2a87a522f6645b231114'), ObjectId('681a2a87a522f6645b231115'), ObjectId('681a2a87a522f6645b231116'), ObjectId('681a2a87a522f6645b231117'), ObjectId('681a2a87a522f6645b231118'), ObjectId('681a2a87a522f6645b231119'), ObjectId('681a2a87a522f6645b23111a'), ObjectId('681a2a87a522f6645b23111b'), ObjectId('681a2a87a522f6645b23111c'), ObjectId('681a2a87a522f6645b23111d'), ObjectId('681a2a87a522f6645b23111e'), ObjectId('681a2a87a522f6645b23111f'), ObjectId('681a2a87a522f6645b231120'), ObjectId('681a2a87a522f6645b231121'), ObjectId('681a2a87a522f6645b231122'), ObjectId('681a2a87a522f6645b231123'), ObjectId('681a2a87a522f6645b231124'), ObjectId('681a2a87a522f6645b231125'), ObjectId('681a2a87a522f6645b231126'), ObjectId('681a2a87a522f6645b231127'), ObjectId('681a2a87a522f6645b231128'), ObjectId('681a2a87a522f6645b231129'), ObjectId('681a2a87a522f6645b23112a'), ObjectId('681a2a87a522f6645b23112b'), ObjectId('681a2a87a522f6645b23112c'), ObjectId('681a2a87a522f6645b23112d'), ObjectId('681a2a87a522f6645b23112e'), ObjectId('681a2a87a522f6645b23112f'), ObjectId('681a2a87a522f6645b231130'), ObjectId('681a2a87a522f6645b231131'), ObjectId('681a2a87a522f6645b231132'), ObjectId('681a2a87a522f6645b231133'), ObjectId('681a2a87a522f6645b231134'), ObjectId('681a2a87a522f6645b231135'), ObjectId('681a2a87a522f6645b231136'), ObjectId('681a2a87a522f6645b231137'), ObjectId('681a2a87a522f6645b231138'), ObjectId('681a2a87a522f6645b231139'), ObjectId('681a2a87a522f6645b23113a'), ObjectId('681a2a87a522f6645b23113b'), ObjectId('681a2a87a522f6645b23113c'), ObjectId('681a2a87a522f6645b23113d'), ObjectId('681a2a87a522f6645b23113e'), ObjectId('681a2a87a522f6645b23113f'), ObjectId('681a2a87a522f6645b231140'), ObjectId('681a2a87a522f6645b231141'), ObjectId('681a2a87a522f6645b231142'), ObjectId('681a2a87a522f6645b231143'), ObjectId('681a2a87a522f6645b231144'), ObjectId('681a2a87a522f6645b231145'), ObjectId('681a2a87a522f6645b231146'), ObjectId('681a2a87a522f6645b231147'), ObjectId('681a2a87a522f6645b231148'), ObjectId('681a2a87a522f6645b231149'), ObjectId('681a2a87a522f6645b23114a'), ObjectId('681a2a87a522f6645b23114b'), ObjectId('681a2a87a522f6645b23114c'), ObjectId('681a2a87a522f6645b23114d'), ObjectId('681a2a87a522f6645b23114e'), ObjectId('681a2a87a522f6645b23114f'), ObjectId('681a2a87a522f6645b231150'), ObjectId('681a2a87a522f6645b231151'), ObjectId('681a2a87a522f6645b231152'), ObjectId('681a2a87a522f6645b231153'), ObjectId('681a2a87a522f6645b231154'), ObjectId('681a2a87a522f6645b231155'), ObjectId('681a2a87a522f6645b231156'), ObjectId('681a2a87a522f6645b231157'), ObjectId('681a2a87a522f6645b231158'), ObjectId('681a2a87a522f6645b231159'), ObjectId('681a2a87a522f6645b23115a'), ObjectId('681a2a87a522f6645b23115b'), ObjectId('681a2a87a522f6645b23115c'), ObjectId('681a2a87a522f6645b23115d'), ObjectId('681a2a87a522f6645b23115e'), ObjectId('681a2a87a522f6645b23115f'), ObjectId('681a2a87a522f6645b231160'), ObjectId('681a2a87a522f6645b231161'), ObjectId('681a2a87a522f6645b231162'), ObjectId('681a2a87a522f6645b231163'), ObjectId('681a2a87a522f6645b231164'), ObjectId('681a2a87a522f6645b231165'), ObjectId('681a2a87a522f6645b231166'), ObjectId('681a2a87a522f6645b231167'), ObjectId('681a2a87a522f6645b231168'), ObjectId('681a2a87a522f6645b231169'), ObjectId('681a2a87a522f6645b23116a'), ObjectId('681a2a87a522f6645b23116b'), ObjectId('681a2a87a522f6645b23116c'), ObjectId('681a2a87a522f6645b23116d'), ObjectId('681a2a87a522f6645b23116e'), ObjectId('681a2a87a522f6645b23116f'), ObjectId('681a2a87a522f6645b231170'), ObjectId('681a2a87a522f6645b231171'), ObjectId('681a2a87a522f6645b231172'), ObjectId('681a2a87a522f6645b231173'), ObjectId('681a2a87a522f6645b231174'), ObjectId('681a2a87a522f6645b231175'), ObjectId('681a2a87a522f6645b231176'), ObjectId('681a2a87a522f6645b231177'), ObjectId('681a2a87a522f6645b231178'), ObjectId('681a2a87a522f6645b231179'), ObjectId('681a2a87a522f6645b23117a'), ObjectId('681a2a87a522f6645b23117b'), ObjectId('681a2a87a522f6645b23117c'), ObjectId('681a2a87a522f6645b23117d'), ObjectId('681a2a87a522f6645b23117e'), ObjectId('681a2a87a522f6645b23117f')], acknowledged=True)"
      ]
     },
     "execution_count": 17,
     "metadata": {},
     "output_type": "execute_result"
    }
   ],
   "source": [
    "# ---Menyimpan Data ke MongoDB---\n",
    "client = MongoClient(\"mongodb://localhost:27017/\")\n",
    "db = client[\"staff_db\"]\n",
    "collection = db[\"cleaned_data\"]\n",
    "\n",
    "data_dict = balanced_df.to_dict(\"records\")\n",
    "collection.insert_many(data_dict)"
   ]
  }
 ],
 "metadata": {
  "kernelspec": {
   "display_name": ".venv",
   "language": "python",
   "name": "python3"
  },
  "language_info": {
   "codemirror_mode": {
    "name": "ipython",
    "version": 3
   },
   "file_extension": ".py",
   "mimetype": "text/x-python",
   "name": "python",
   "nbconvert_exporter": "python",
   "pygments_lexer": "ipython3",
   "version": "3.13.3"
  }
 },
 "nbformat": 4,
 "nbformat_minor": 5
}
