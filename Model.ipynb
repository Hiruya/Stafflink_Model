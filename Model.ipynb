{
 "cells": [
  {
   "cell_type": "code",
   "execution_count": 1,
   "id": "fee8de8a-bfb8-484d-8c54-1490854769cc",
   "metadata": {},
   "outputs": [],
   "source": [
    "import numpy as np \n",
    "import pandas as pd\n",
    "from sklearn.model_selection import train_test_split\n",
    "from sklearn.preprocessing import StandardScaler\n",
    "from xgboost import XGBClassifier\n",
    "from sklearn.ensemble import RandomForestClassifier\n",
    "from sklearn.linear_model import LogisticRegression\n",
    "from sklearn.metrics import classification_report\n",
    "from pymongo import MongoClient"
   ]
  },
  {
   "cell_type": "code",
   "execution_count": 2,
   "id": "138d80b9-f9ae-4345-9672-270021ceba7f",
   "metadata": {},
   "outputs": [
    {
     "data": {
      "text/html": [
       "<div>\n",
       "<style scoped>\n",
       "    .dataframe tbody tr th:only-of-type {\n",
       "        vertical-align: middle;\n",
       "    }\n",
       "\n",
       "    .dataframe tbody tr th {\n",
       "        vertical-align: top;\n",
       "    }\n",
       "\n",
       "    .dataframe thead th {\n",
       "        text-align: right;\n",
       "    }\n",
       "</style>\n",
       "<table border=\"1\" class=\"dataframe\">\n",
       "  <thead>\n",
       "    <tr style=\"text-align: right;\">\n",
       "      <th></th>\n",
       "      <th>department</th>\n",
       "      <th>education</th>\n",
       "      <th>gender</th>\n",
       "      <th>recruitment_channel</th>\n",
       "      <th>no_of_trainings</th>\n",
       "      <th>age</th>\n",
       "      <th>previous_year_rating</th>\n",
       "      <th>length_of_service</th>\n",
       "      <th>KPIs_met &gt;80%</th>\n",
       "      <th>awards_won?</th>\n",
       "      <th>avg_training_score</th>\n",
       "      <th>is_promoted</th>\n",
       "    </tr>\n",
       "  </thead>\n",
       "  <tbody>\n",
       "    <tr>\n",
       "      <th>0</th>\n",
       "      <td>0</td>\n",
       "      <td>1</td>\n",
       "      <td>0</td>\n",
       "      <td>0</td>\n",
       "      <td>1</td>\n",
       "      <td>35</td>\n",
       "      <td>5</td>\n",
       "      <td>3</td>\n",
       "      <td>1</td>\n",
       "      <td>0</td>\n",
       "      <td>50</td>\n",
       "      <td>1</td>\n",
       "    </tr>\n",
       "    <tr>\n",
       "      <th>1</th>\n",
       "      <td>1</td>\n",
       "      <td>0</td>\n",
       "      <td>0</td>\n",
       "      <td>0</td>\n",
       "      <td>1</td>\n",
       "      <td>42</td>\n",
       "      <td>5</td>\n",
       "      <td>11</td>\n",
       "      <td>1</td>\n",
       "      <td>0</td>\n",
       "      <td>60</td>\n",
       "      <td>1</td>\n",
       "    </tr>\n",
       "    <tr>\n",
       "      <th>2</th>\n",
       "      <td>0</td>\n",
       "      <td>1</td>\n",
       "      <td>0</td>\n",
       "      <td>1</td>\n",
       "      <td>1</td>\n",
       "      <td>40</td>\n",
       "      <td>3</td>\n",
       "      <td>2</td>\n",
       "      <td>1</td>\n",
       "      <td>0</td>\n",
       "      <td>90</td>\n",
       "      <td>1</td>\n",
       "    </tr>\n",
       "    <tr>\n",
       "      <th>3</th>\n",
       "      <td>5</td>\n",
       "      <td>1</td>\n",
       "      <td>0</td>\n",
       "      <td>1</td>\n",
       "      <td>1</td>\n",
       "      <td>27</td>\n",
       "      <td>4</td>\n",
       "      <td>4</td>\n",
       "      <td>1</td>\n",
       "      <td>0</td>\n",
       "      <td>72</td>\n",
       "      <td>1</td>\n",
       "    </tr>\n",
       "    <tr>\n",
       "      <th>4</th>\n",
       "      <td>2</td>\n",
       "      <td>1</td>\n",
       "      <td>0</td>\n",
       "      <td>1</td>\n",
       "      <td>2</td>\n",
       "      <td>34</td>\n",
       "      <td>5</td>\n",
       "      <td>8</td>\n",
       "      <td>0</td>\n",
       "      <td>0</td>\n",
       "      <td>88</td>\n",
       "      <td>1</td>\n",
       "    </tr>\n",
       "  </tbody>\n",
       "</table>\n",
       "</div>"
      ],
      "text/plain": [
       "   department  education  gender  recruitment_channel  no_of_trainings  age  \\\n",
       "0           0          1       0                    0                1   35   \n",
       "1           1          0       0                    0                1   42   \n",
       "2           0          1       0                    1                1   40   \n",
       "3           5          1       0                    1                1   27   \n",
       "4           2          1       0                    1                2   34   \n",
       "\n",
       "   previous_year_rating  length_of_service  KPIs_met >80%  awards_won?  \\\n",
       "0                     5                  3              1            0   \n",
       "1                     5                 11              1            0   \n",
       "2                     3                  2              1            0   \n",
       "3                     4                  4              1            0   \n",
       "4                     5                  8              0            0   \n",
       "\n",
       "   avg_training_score  is_promoted  \n",
       "0                  50            1  \n",
       "1                  60            1  \n",
       "2                  90            1  \n",
       "3                  72            1  \n",
       "4                  88            1  "
      ]
     },
     "execution_count": 2,
     "metadata": {},
     "output_type": "execute_result"
    }
   ],
   "source": [
    "# --- 1. Koneksi ke MongoDB ---\n",
    "client = MongoClient(\"mongodb://localhost:27017/\")\n",
    "db = client[\"staff_db\"]\n",
    "df = pd.DataFrame(list(db[\"cleaned_data\"].find()))\n",
    "\n",
    "# --- 2. Bersihkan Data ---\n",
    "if '_id' in df.columns:\n",
    "    df.drop('_id', axis=1, inplace=True)\n",
    "\n",
    "df.head()"
   ]
  },
  {
   "cell_type": "code",
   "execution_count": 3,
   "id": "f8b0e7fe-1630-4866-a5dc-e6a8580fac6c",
   "metadata": {},
   "outputs": [],
   "source": [
    "# --- 3. Pisahkan fitur dan target ---\n",
    "X = df.drop(\"is_promoted\", axis=1)\n",
    "y = df[\"is_promoted\"]"
   ]
  },
  {
   "cell_type": "code",
   "execution_count": 4,
   "id": "e13e8369-458a-4bfd-a4c1-fcb7fa372e74",
   "metadata": {},
   "outputs": [],
   "source": [
    "# --- 4. Split dan normalisasi ---\n",
    "X_train, X_test, y_train, y_test = train_test_split(X, y, test_size=0.2, random_state=42)\n",
    "\n",
    "scaler = StandardScaler()\n",
    "X_train_scaled = scaler.fit_transform(X_train)\n",
    "X_test_scaled = scaler.transform(X_test)"
   ]
  },
  {
   "cell_type": "code",
   "execution_count": 5,
   "id": "08289906",
   "metadata": {},
   "outputs": [
    {
     "name": "stdout",
     "output_type": "stream",
     "text": [
      "\n",
      "Model: Logistic Regression\n",
      "              precision    recall  f1-score   support\n",
      "\n",
      "           0     0.7230    0.6951    0.7088       492\n",
      "           1     0.7414    0.7665    0.7537       561\n",
      "\n",
      "    accuracy                         0.7331      1053\n",
      "   macro avg     0.7322    0.7308    0.7313      1053\n",
      "weighted avg     0.7328    0.7331    0.7327      1053\n",
      "\n",
      "\n",
      "Model: Random Forest\n",
      "              precision    recall  f1-score   support\n",
      "\n",
      "           0     0.8140    0.7114    0.7592       492\n",
      "           1     0.7721    0.8574    0.8125       561\n",
      "\n",
      "    accuracy                         0.7892      1053\n",
      "   macro avg     0.7930    0.7844    0.7859      1053\n",
      "weighted avg     0.7916    0.7892    0.7876      1053\n",
      "\n",
      "\n",
      "Model: XGBoost\n",
      "              precision    recall  f1-score   support\n",
      "\n",
      "           0     0.8194    0.7195    0.7662       492\n",
      "           1     0.7778    0.8610    0.8173       561\n",
      "\n",
      "    accuracy                         0.7949      1053\n",
      "   macro avg     0.7986    0.7902    0.7917      1053\n",
      "weighted avg     0.7972    0.7949    0.7934      1053\n",
      "\n"
     ]
    }
   ],
   "source": [
    "# --- 5. Inisialisasi model ---\n",
    "models = {\n",
    "    \"Logistic Regression\": LogisticRegression(max_iter=1000),\n",
    "    \"Random Forest\": RandomForestClassifier(random_state=42),\n",
    "    \"XGBoost\": XGBClassifier(eval_metric='logloss', random_state=42)\n",
    "}\n",
    "\n",
    "# --- 6. Training dan evaluasi semua model ---\n",
    "for name, model in models.items():\n",
    "    print(f\"\\nModel: {name}\")\n",
    "    model.fit(X_train, y_train)\n",
    "    y_pred = model.predict(X_test)\n",
    "    print(classification_report(y_test, y_pred, digits=4))"
   ]
  },
  {
   "cell_type": "code",
   "execution_count": 5,
   "id": "a5002513-de4e-4f90-a822-52f528b2078d",
   "metadata": {},
   "outputs": [
    {
     "name": "stdout",
     "output_type": "stream",
     "text": [
      "\n",
      "=== Hasil Evaluasi XGBoost ===\n",
      "              precision    recall  f1-score   support\n",
      "\n",
      "           0     0.8194    0.7195    0.7662       492\n",
      "           1     0.7778    0.8610    0.8173       561\n",
      "\n",
      "    accuracy                         0.7949      1053\n",
      "   macro avg     0.7986    0.7902    0.7917      1053\n",
      "weighted avg     0.7972    0.7949    0.7934      1053\n",
      "\n"
     ]
    }
   ],
   "source": [
    "# --- 5. Inisialisasi dan latih XGBoost ---\n",
    "model = XGBClassifier(eval_metric='logloss', random_state=42)\n",
    "model.fit(X_train_scaled, y_train)\n",
    "\n",
    "# --- 6. Evaluasi model ---\n",
    "y_pred = model.predict(X_test_scaled)\n",
    "print(\"\\n=== Hasil Evaluasi XGBoost ===\")\n",
    "print(classification_report(y_test, y_pred, digits=4))"
   ]
  },
  {
   "cell_type": "code",
   "execution_count": 6,
   "id": "0081fcbf-007f-4824-b4ac-b1057416020f",
   "metadata": {},
   "outputs": [
    {
     "name": "stdout",
     "output_type": "stream",
     "text": [
      "['department', 'education', 'gender', 'recruitment_channel', 'no_of_trainings', 'age', 'previous_year_rating', 'length_of_service', 'KPIs_met >80%', 'awards_won?', 'avg_training_score']\n"
     ]
    }
   ],
   "source": [
    "print(list(X.columns))"
   ]
  },
  {
   "cell_type": "code",
   "execution_count": 8,
   "id": "80a74064-0e93-4734-975c-7001fe529d74",
   "metadata": {},
   "outputs": [
    {
     "name": "stdout",
     "output_type": "stream",
     "text": [
      "\n",
      "Prediksi: Di Promosi\n"
     ]
    }
   ],
   "source": [
    "# --- 7. Prediksi data baru ---\n",
    "sample = np.array([[1, 1, 0, 1, 2, 20, 2, 5, 1, 0, 90]])\n",
    "sample_df = pd.DataFrame(sample, columns=X.columns)\n",
    "sample_scaled = scaler.transform(sample_df)\n",
    "pred = model.predict(sample_scaled)\n",
    "\n",
    "print(\"\\nPrediksi:\", \"Di Promosi\" if pred[0] == 1 else \"Tidak Di Promosi\")"
   ]
  },
  {
   "cell_type": "code",
   "execution_count": 9,
   "id": "c251d5b1-bf3c-4296-849f-9fbb0cddec2a",
   "metadata": {},
   "outputs": [
    {
     "data": {
      "text/plain": [
       "['scaler.pkl']"
      ]
     },
     "execution_count": 9,
     "metadata": {},
     "output_type": "execute_result"
    }
   ],
   "source": [
    "import joblib\n",
    "\n",
    "joblib.dump(model, \"model_xgboost.pkl\")\n",
    "\n",
    "joblib.dump(scaler, \"scaler.pkl\")"
   ]
  }
 ],
 "metadata": {
  "kernelspec": {
   "display_name": ".venv",
   "language": "python",
   "name": "python3"
  },
  "language_info": {
   "codemirror_mode": {
    "name": "ipython",
    "version": 3
   },
   "file_extension": ".py",
   "mimetype": "text/x-python",
   "name": "python",
   "nbconvert_exporter": "python",
   "pygments_lexer": "ipython3",
   "version": "3.13.3"
  }
 },
 "nbformat": 4,
 "nbformat_minor": 5
}
