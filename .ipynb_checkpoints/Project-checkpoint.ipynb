{
 "cells": [
  {
   "cell_type": "markdown",
   "id": "735ce7d1-9f07-4021-a662-3800bc00949b",
   "metadata": {},
   "source": [
    "**Load and Describe Data**"
   ]
  },
  {
   "cell_type": "code",
   "execution_count": 2,
   "id": "c9d5bb8b-65ae-43c9-b18e-3b0e18edbb64",
   "metadata": {},
   "outputs": [
    {
     "name": "stdout",
     "output_type": "stream",
     "text": [
      "numpy version :  2.2.2\n",
      "pandas version :  2.2.3\n",
      "seaborn version :  0.13.2\n",
      "C:\\Users\\Pongo\\Project\\Project.ipynb\n",
      "C:\\Users\\Pongo\\Project\\train_LZdllcl.csv\n",
      "C:\\Users\\Pongo\\Project\\.ipynb_checkpoints\\Project-checkpoint.ipynb\n"
     ]
    }
   ],
   "source": [
    "import warnings\n",
    "warnings.filterwarnings('ignore')\n",
    "\n",
    "import numpy as np\n",
    "import pandas as pd\n",
    "import seaborn as sns\n",
    "import matplotlib.pyplot as plt\n",
    "%matplotlib inline\n",
    "\n",
    "import plotly.express as px\n",
    "from IPython.display import Image\n",
    "from plotly.subplots import make_subplots\n",
    "\n",
    "from sklearn.preprocessing import MinMaxScaler, StandardScaler\n",
    "from imblearn import over_sampling\n",
    "from sklearn.ensemble import RandomForestClassifier\n",
    "from sklearn.metrics import classification_report, roc_auc_score, confusion_matrix\n",
    "from sklearn.metrics import precision_score, recall_score, accuracy_score, f1_score\n",
    "from sklearn import tree\n",
    "from sklearn.model_selection import train_test_split, RandomizedSearchCV, GridSearchCV\n",
    "from sklearn.model_selection import cross_val_score, KFold, StratifiedKFold, RepeatedStratifiedKFold\n",
    "from scipy.stats import uniform\n",
    "import pickle\n",
    "import xgboost as xgb\n",
    "\n",
    "sns.set(rc={'figure.figsize':(16,8)})\n",
    "sns.set_style(\"whitegrid\")\n",
    "sns.color_palette(\"dark\")\n",
    "plt.style.use(\"fivethirtyeight\")\n",
    "\n",
    "print('numpy version : ',np.__version__)\n",
    "print('pandas version : ',pd.__version__)\n",
    "print('seaborn version : ',sns.__version__)\n",
    "\n",
    "import os\n",
    "for dirname, _, filenames in os.walk(r'C:\\Users\\Pongo\\Project'):\n",
    "    for filename in filenames:\n",
    "        print(os.path.join(dirname, filename))"
   ]
  },
  {
   "cell_type": "code",
   "execution_count": 3,
   "id": "d2abf3b5-caca-4978-a134-6398d9494954",
   "metadata": {},
   "outputs": [
    {
     "name": "stdout",
     "output_type": "stream",
     "text": [
      "Ada 54808 baris data dalam dataset\n",
      "Total Feature 14\n"
     ]
    },
    {
     "data": {
      "text/html": [
       "<div>\n",
       "<style scoped>\n",
       "    .dataframe tbody tr th:only-of-type {\n",
       "        vertical-align: middle;\n",
       "    }\n",
       "\n",
       "    .dataframe tbody tr th {\n",
       "        vertical-align: top;\n",
       "    }\n",
       "\n",
       "    .dataframe thead th {\n",
       "        text-align: right;\n",
       "    }\n",
       "</style>\n",
       "<table border=\"1\" class=\"dataframe\">\n",
       "  <thead>\n",
       "    <tr style=\"text-align: right;\">\n",
       "      <th></th>\n",
       "      <th>employee_id</th>\n",
       "      <th>department</th>\n",
       "      <th>region</th>\n",
       "      <th>education</th>\n",
       "      <th>gender</th>\n",
       "      <th>recruitment_channel</th>\n",
       "      <th>no_of_trainings</th>\n",
       "      <th>age</th>\n",
       "      <th>previous_year_rating</th>\n",
       "      <th>length_of_service</th>\n",
       "      <th>KPIs_met &gt;80%</th>\n",
       "      <th>awards_won?</th>\n",
       "      <th>avg_training_score</th>\n",
       "      <th>is_promoted</th>\n",
       "    </tr>\n",
       "  </thead>\n",
       "  <tbody>\n",
       "    <tr>\n",
       "      <th>0</th>\n",
       "      <td>65438</td>\n",
       "      <td>Sales &amp; Marketing</td>\n",
       "      <td>region_7</td>\n",
       "      <td>Master's &amp; above</td>\n",
       "      <td>f</td>\n",
       "      <td>sourcing</td>\n",
       "      <td>1</td>\n",
       "      <td>35</td>\n",
       "      <td>5.0</td>\n",
       "      <td>8</td>\n",
       "      <td>1</td>\n",
       "      <td>0</td>\n",
       "      <td>49</td>\n",
       "      <td>0</td>\n",
       "    </tr>\n",
       "    <tr>\n",
       "      <th>1</th>\n",
       "      <td>65141</td>\n",
       "      <td>Operations</td>\n",
       "      <td>region_22</td>\n",
       "      <td>Bachelor's</td>\n",
       "      <td>m</td>\n",
       "      <td>other</td>\n",
       "      <td>1</td>\n",
       "      <td>30</td>\n",
       "      <td>5.0</td>\n",
       "      <td>4</td>\n",
       "      <td>0</td>\n",
       "      <td>0</td>\n",
       "      <td>60</td>\n",
       "      <td>0</td>\n",
       "    </tr>\n",
       "    <tr>\n",
       "      <th>2</th>\n",
       "      <td>7513</td>\n",
       "      <td>Sales &amp; Marketing</td>\n",
       "      <td>region_19</td>\n",
       "      <td>Bachelor's</td>\n",
       "      <td>m</td>\n",
       "      <td>sourcing</td>\n",
       "      <td>1</td>\n",
       "      <td>34</td>\n",
       "      <td>3.0</td>\n",
       "      <td>7</td>\n",
       "      <td>0</td>\n",
       "      <td>0</td>\n",
       "      <td>50</td>\n",
       "      <td>0</td>\n",
       "    </tr>\n",
       "    <tr>\n",
       "      <th>3</th>\n",
       "      <td>2542</td>\n",
       "      <td>Sales &amp; Marketing</td>\n",
       "      <td>region_23</td>\n",
       "      <td>Bachelor's</td>\n",
       "      <td>m</td>\n",
       "      <td>other</td>\n",
       "      <td>2</td>\n",
       "      <td>39</td>\n",
       "      <td>1.0</td>\n",
       "      <td>10</td>\n",
       "      <td>0</td>\n",
       "      <td>0</td>\n",
       "      <td>50</td>\n",
       "      <td>0</td>\n",
       "    </tr>\n",
       "    <tr>\n",
       "      <th>4</th>\n",
       "      <td>48945</td>\n",
       "      <td>Technology</td>\n",
       "      <td>region_26</td>\n",
       "      <td>Bachelor's</td>\n",
       "      <td>m</td>\n",
       "      <td>other</td>\n",
       "      <td>1</td>\n",
       "      <td>45</td>\n",
       "      <td>3.0</td>\n",
       "      <td>2</td>\n",
       "      <td>0</td>\n",
       "      <td>0</td>\n",
       "      <td>73</td>\n",
       "      <td>0</td>\n",
       "    </tr>\n",
       "  </tbody>\n",
       "</table>\n",
       "</div>"
      ],
      "text/plain": [
       "   employee_id         department     region         education gender  \\\n",
       "0        65438  Sales & Marketing   region_7  Master's & above      f   \n",
       "1        65141         Operations  region_22        Bachelor's      m   \n",
       "2         7513  Sales & Marketing  region_19        Bachelor's      m   \n",
       "3         2542  Sales & Marketing  region_23        Bachelor's      m   \n",
       "4        48945         Technology  region_26        Bachelor's      m   \n",
       "\n",
       "  recruitment_channel  no_of_trainings  age  previous_year_rating  \\\n",
       "0            sourcing                1   35                   5.0   \n",
       "1               other                1   30                   5.0   \n",
       "2            sourcing                1   34                   3.0   \n",
       "3               other                2   39                   1.0   \n",
       "4               other                1   45                   3.0   \n",
       "\n",
       "   length_of_service  KPIs_met >80%  awards_won?  avg_training_score  \\\n",
       "0                  8              1            0                  49   \n",
       "1                  4              0            0                  60   \n",
       "2                  7              0            0                  50   \n",
       "3                 10              0            0                  50   \n",
       "4                  2              0            0                  73   \n",
       "\n",
       "   is_promoted  \n",
       "0            0  \n",
       "1            0  \n",
       "2            0  \n",
       "3            0  \n",
       "4            0  "
      ]
     },
     "execution_count": 3,
     "metadata": {},
     "output_type": "execute_result"
    }
   ],
   "source": [
    "data = pd.read_csv(r\"C:\\Users\\Pongo\\Project\\train_LZdllcl.csv\")\n",
    "\n",
    "#see the amount of data in the dataset\n",
    "print('Ada ' + str(len(data)) + ' baris data dalam dataset')\n",
    "print(\"Total Feature\", data.shape[1])\n",
    "data.head()"
   ]
  },
  {
   "cell_type": "code",
   "execution_count": 4,
   "id": "2e8a350e-17e9-4244-a016-8b0d1a78e028",
   "metadata": {},
   "outputs": [
    {
     "data": {
      "text/plain": [
       "is_promoted\n",
       "0    50140\n",
       "1     4668\n",
       "Name: count, dtype: int64"
      ]
     },
     "execution_count": 4,
     "metadata": {},
     "output_type": "execute_result"
    }
   ],
   "source": [
    "#Lihat jumlah data pada setiap target\n",
    "data['is_promoted'].value_counts()"
   ]
  },
  {
   "cell_type": "code",
   "execution_count": 5,
   "id": "43451e4f-d32d-4373-a274-796443e54531",
   "metadata": {},
   "outputs": [
    {
     "name": "stdout",
     "output_type": "stream",
     "text": [
      "1. Persentase karyawan yang belum menerima promosi adalah 91.48%\n",
      "2. Persentase karyawan yang mendapat promosi adalah 8.52%\n"
     ]
    }
   ],
   "source": [
    "print('1. Persentase karyawan yang belum menerima promosi adalah ' + str(round((50140/54808)*100,2)) + '%')\n",
    "print('2. Persentase karyawan yang mendapat promosi adalah ' + str(round((4668/54808)*100,2)) + '%')"
   ]
  },
  {
   "cell_type": "code",
   "execution_count": 6,
   "id": "de0acb76-7d33-4d4f-b9ad-bd6716f3fa74",
   "metadata": {},
   "outputs": [
    {
     "name": "stdout",
     "output_type": "stream",
     "text": [
      "<class 'pandas.core.frame.DataFrame'>\n",
      "RangeIndex: 54808 entries, 0 to 54807\n",
      "Data columns (total 14 columns):\n",
      " #   Column                Non-Null Count  Dtype  \n",
      "---  ------                --------------  -----  \n",
      " 0   employee_id           54808 non-null  int64  \n",
      " 1   department            54808 non-null  object \n",
      " 2   region                54808 non-null  object \n",
      " 3   education             52399 non-null  object \n",
      " 4   gender                54808 non-null  object \n",
      " 5   recruitment_channel   54808 non-null  object \n",
      " 6   no_of_trainings       54808 non-null  int64  \n",
      " 7   age                   54808 non-null  int64  \n",
      " 8   previous_year_rating  50684 non-null  float64\n",
      " 9   length_of_service     54808 non-null  int64  \n",
      " 10  KPIs_met >80%         54808 non-null  int64  \n",
      " 11  awards_won?           54808 non-null  int64  \n",
      " 12  avg_training_score    54808 non-null  int64  \n",
      " 13  is_promoted           54808 non-null  int64  \n",
      "dtypes: float64(1), int64(8), object(5)\n",
      "memory usage: 5.9+ MB\n"
     ]
    }
   ],
   "source": [
    "data.info()"
   ]
  },
  {
   "cell_type": "raw",
   "id": "e500e212-f5cd-4817-8430-ab766701997a",
   "metadata": {},
   "source": [
    "Kesimpulan"
   ]
  },
  {
   "cell_type": "raw",
   "id": "58a66286-f932-40a3-a132-132bc5cdbbbd",
   "metadata": {},
   "source": [
    "Dataframe memiliki 14 kolom\n",
    "Dataframe memiliki 54.808 baris\n",
    "Total kolom kategorikal ada 5 kolom\n",
    "Total kolom numerik ada 9 kolom\n",
    "Terdapat 2 kolom yang memiliki nilai hilang (education dan previous_year_rating)\n",
    "Kolom is_promoted adalah target dari dataset ini"
   ]
  },
  {
   "cell_type": "code",
   "execution_count": null,
   "id": "4853c062-d249-4bf2-969a-7e70b1a29a14",
   "metadata": {},
   "outputs": [],
   "source": []
  },
  {
   "cell_type": "markdown",
   "id": "02c0d3d1-ddd1-4755-a36a-b5d17ef61e83",
   "metadata": {},
   "source": [
    "**Data Understanding: Analisis Data Eksploratif (EDA)**"
   ]
  },
  {
   "cell_type": "raw",
   "id": "ebfe105a-3411-4069-a5ba-df0acb20d39d",
   "metadata": {},
   "source": [
    "1. Ringkasan Statistik"
   ]
  },
  {
   "cell_type": "raw",
   "id": "1e93303b-0d0e-4d97-9c3a-604b9357d127",
   "metadata": {},
   "source": [
    "a. Pemisahan Data Kategorikal dan Numerik"
   ]
  },
  {
   "cell_type": "code",
   "execution_count": 9,
   "id": "a6625501-3f27-4377-95f9-2f2deb64fbeb",
   "metadata": {},
   "outputs": [],
   "source": [
    "# Tetapkan data kategorikal ke dalam objek cats\n",
    "cats = ['department','region','education','gender','recruitment_channel']\n",
    "\n",
    "# Tetapkan data numerik ke dalam objek nums\n",
    "nums = ['employee_id','no_of_trainings','age','previous_year_rating','length_of_service','KPIs_met >80%','awards_won?',\n",
    "        'avg_training_score','is_promoted']"
   ]
  },
  {
   "cell_type": "raw",
   "id": "f5211528-7729-4761-9a22-dc3d0934b4f9",
   "metadata": {},
   "source": []
  },
  {
   "cell_type": "raw",
   "id": "866e768e-7c39-458d-a4bd-7cef7e65e13a",
   "metadata": {},
   "source": [
    "b. Data Statistik Numerik"
   ]
  },
  {
   "cell_type": "code",
   "execution_count": 10,
   "id": "76c88e78-79f2-485d-ac69-98dc5d2a0674",
   "metadata": {},
   "outputs": [
    {
     "data": {
      "text/html": [
       "<div>\n",
       "<style scoped>\n",
       "    .dataframe tbody tr th:only-of-type {\n",
       "        vertical-align: middle;\n",
       "    }\n",
       "\n",
       "    .dataframe tbody tr th {\n",
       "        vertical-align: top;\n",
       "    }\n",
       "\n",
       "    .dataframe thead th {\n",
       "        text-align: right;\n",
       "    }\n",
       "</style>\n",
       "<table border=\"1\" class=\"dataframe\">\n",
       "  <thead>\n",
       "    <tr style=\"text-align: right;\">\n",
       "      <th></th>\n",
       "      <th>employee_id</th>\n",
       "      <th>no_of_trainings</th>\n",
       "      <th>age</th>\n",
       "      <th>previous_year_rating</th>\n",
       "      <th>length_of_service</th>\n",
       "      <th>KPIs_met &gt;80%</th>\n",
       "      <th>awards_won?</th>\n",
       "      <th>avg_training_score</th>\n",
       "      <th>is_promoted</th>\n",
       "    </tr>\n",
       "  </thead>\n",
       "  <tbody>\n",
       "    <tr>\n",
       "      <th>count</th>\n",
       "      <td>54808.000000</td>\n",
       "      <td>54808.000000</td>\n",
       "      <td>54808.000000</td>\n",
       "      <td>50684.000000</td>\n",
       "      <td>54808.000000</td>\n",
       "      <td>54808.000000</td>\n",
       "      <td>54808.000000</td>\n",
       "      <td>54808.000000</td>\n",
       "      <td>54808.000000</td>\n",
       "    </tr>\n",
       "    <tr>\n",
       "      <th>mean</th>\n",
       "      <td>39195.830627</td>\n",
       "      <td>1.253011</td>\n",
       "      <td>34.803915</td>\n",
       "      <td>3.329256</td>\n",
       "      <td>5.865512</td>\n",
       "      <td>0.351974</td>\n",
       "      <td>0.023172</td>\n",
       "      <td>63.386750</td>\n",
       "      <td>0.085170</td>\n",
       "    </tr>\n",
       "    <tr>\n",
       "      <th>std</th>\n",
       "      <td>22586.581449</td>\n",
       "      <td>0.609264</td>\n",
       "      <td>7.660169</td>\n",
       "      <td>1.259993</td>\n",
       "      <td>4.265094</td>\n",
       "      <td>0.477590</td>\n",
       "      <td>0.150450</td>\n",
       "      <td>13.371559</td>\n",
       "      <td>0.279137</td>\n",
       "    </tr>\n",
       "    <tr>\n",
       "      <th>min</th>\n",
       "      <td>1.000000</td>\n",
       "      <td>1.000000</td>\n",
       "      <td>20.000000</td>\n",
       "      <td>1.000000</td>\n",
       "      <td>1.000000</td>\n",
       "      <td>0.000000</td>\n",
       "      <td>0.000000</td>\n",
       "      <td>39.000000</td>\n",
       "      <td>0.000000</td>\n",
       "    </tr>\n",
       "    <tr>\n",
       "      <th>25%</th>\n",
       "      <td>19669.750000</td>\n",
       "      <td>1.000000</td>\n",
       "      <td>29.000000</td>\n",
       "      <td>3.000000</td>\n",
       "      <td>3.000000</td>\n",
       "      <td>0.000000</td>\n",
       "      <td>0.000000</td>\n",
       "      <td>51.000000</td>\n",
       "      <td>0.000000</td>\n",
       "    </tr>\n",
       "    <tr>\n",
       "      <th>50%</th>\n",
       "      <td>39225.500000</td>\n",
       "      <td>1.000000</td>\n",
       "      <td>33.000000</td>\n",
       "      <td>3.000000</td>\n",
       "      <td>5.000000</td>\n",
       "      <td>0.000000</td>\n",
       "      <td>0.000000</td>\n",
       "      <td>60.000000</td>\n",
       "      <td>0.000000</td>\n",
       "    </tr>\n",
       "    <tr>\n",
       "      <th>75%</th>\n",
       "      <td>58730.500000</td>\n",
       "      <td>1.000000</td>\n",
       "      <td>39.000000</td>\n",
       "      <td>4.000000</td>\n",
       "      <td>7.000000</td>\n",
       "      <td>1.000000</td>\n",
       "      <td>0.000000</td>\n",
       "      <td>76.000000</td>\n",
       "      <td>0.000000</td>\n",
       "    </tr>\n",
       "    <tr>\n",
       "      <th>max</th>\n",
       "      <td>78298.000000</td>\n",
       "      <td>10.000000</td>\n",
       "      <td>60.000000</td>\n",
       "      <td>5.000000</td>\n",
       "      <td>37.000000</td>\n",
       "      <td>1.000000</td>\n",
       "      <td>1.000000</td>\n",
       "      <td>99.000000</td>\n",
       "      <td>1.000000</td>\n",
       "    </tr>\n",
       "  </tbody>\n",
       "</table>\n",
       "</div>"
      ],
      "text/plain": [
       "        employee_id  no_of_trainings           age  previous_year_rating  \\\n",
       "count  54808.000000     54808.000000  54808.000000          50684.000000   \n",
       "mean   39195.830627         1.253011     34.803915              3.329256   \n",
       "std    22586.581449         0.609264      7.660169              1.259993   \n",
       "min        1.000000         1.000000     20.000000              1.000000   \n",
       "25%    19669.750000         1.000000     29.000000              3.000000   \n",
       "50%    39225.500000         1.000000     33.000000              3.000000   \n",
       "75%    58730.500000         1.000000     39.000000              4.000000   \n",
       "max    78298.000000        10.000000     60.000000              5.000000   \n",
       "\n",
       "       length_of_service  KPIs_met >80%   awards_won?  avg_training_score  \\\n",
       "count       54808.000000   54808.000000  54808.000000        54808.000000   \n",
       "mean            5.865512       0.351974      0.023172           63.386750   \n",
       "std             4.265094       0.477590      0.150450           13.371559   \n",
       "min             1.000000       0.000000      0.000000           39.000000   \n",
       "25%             3.000000       0.000000      0.000000           51.000000   \n",
       "50%             5.000000       0.000000      0.000000           60.000000   \n",
       "75%             7.000000       1.000000      0.000000           76.000000   \n",
       "max            37.000000       1.000000      1.000000           99.000000   \n",
       "\n",
       "        is_promoted  \n",
       "count  54808.000000  \n",
       "mean       0.085170  \n",
       "std        0.279137  \n",
       "min        0.000000  \n",
       "25%        0.000000  \n",
       "50%        0.000000  \n",
       "75%        0.000000  \n",
       "max        1.000000  "
      ]
     },
     "execution_count": 10,
     "metadata": {},
     "output_type": "execute_result"
    }
   ],
   "source": [
    "data[nums].describe()"
   ]
  },
  {
   "cell_type": "markdown",
   "id": "db176984-7829-495b-b2bf-3d68625fa30c",
   "metadata": {},
   "source": [
    "**Kesimpulan dari Data Statistik Numerik**"
   ]
  },
  {
   "cell_type": "raw",
   "id": "274cdd4e-1dcd-4731-9770-cd3e4d892bb5",
   "metadata": {},
   "source": [
    "Distribusi data untuk fitur no_of_trainings, age, length_of_service, dan avg_training_score terlihat normal (mean & median cukup dekat)."
   ]
  },
  {
   "cell_type": "code",
   "execution_count": null,
   "id": "0c98c26b-47ab-47a5-b166-fa4acdfed705",
   "metadata": {},
   "outputs": [],
   "source": []
  },
  {
   "cell_type": "raw",
   "id": "4bda0d73-c43b-49da-8336-95960d5381f3",
   "metadata": {},
   "source": [
    "c. Data Statistik Kategorikal"
   ]
  },
  {
   "cell_type": "code",
   "execution_count": 11,
   "id": "dd7f0aad-66cb-4420-92d1-4cb316635d49",
   "metadata": {},
   "outputs": [
    {
     "data": {
      "text/html": [
       "<div>\n",
       "<style scoped>\n",
       "    .dataframe tbody tr th:only-of-type {\n",
       "        vertical-align: middle;\n",
       "    }\n",
       "\n",
       "    .dataframe tbody tr th {\n",
       "        vertical-align: top;\n",
       "    }\n",
       "\n",
       "    .dataframe thead th {\n",
       "        text-align: right;\n",
       "    }\n",
       "</style>\n",
       "<table border=\"1\" class=\"dataframe\">\n",
       "  <thead>\n",
       "    <tr style=\"text-align: right;\">\n",
       "      <th></th>\n",
       "      <th>department</th>\n",
       "      <th>region</th>\n",
       "      <th>education</th>\n",
       "      <th>gender</th>\n",
       "      <th>recruitment_channel</th>\n",
       "    </tr>\n",
       "  </thead>\n",
       "  <tbody>\n",
       "    <tr>\n",
       "      <th>count</th>\n",
       "      <td>54808</td>\n",
       "      <td>54808</td>\n",
       "      <td>52399</td>\n",
       "      <td>54808</td>\n",
       "      <td>54808</td>\n",
       "    </tr>\n",
       "    <tr>\n",
       "      <th>unique</th>\n",
       "      <td>9</td>\n",
       "      <td>34</td>\n",
       "      <td>3</td>\n",
       "      <td>2</td>\n",
       "      <td>3</td>\n",
       "    </tr>\n",
       "    <tr>\n",
       "      <th>top</th>\n",
       "      <td>Sales &amp; Marketing</td>\n",
       "      <td>region_2</td>\n",
       "      <td>Bachelor's</td>\n",
       "      <td>m</td>\n",
       "      <td>other</td>\n",
       "    </tr>\n",
       "    <tr>\n",
       "      <th>freq</th>\n",
       "      <td>16840</td>\n",
       "      <td>12343</td>\n",
       "      <td>36669</td>\n",
       "      <td>38496</td>\n",
       "      <td>30446</td>\n",
       "    </tr>\n",
       "  </tbody>\n",
       "</table>\n",
       "</div>"
      ],
      "text/plain": [
       "               department    region   education gender recruitment_channel\n",
       "count               54808     54808       52399  54808               54808\n",
       "unique                  9        34           3      2                   3\n",
       "top     Sales & Marketing  region_2  Bachelor's      m               other\n",
       "freq                16840     12343       36669  38496               30446"
      ]
     },
     "execution_count": 11,
     "metadata": {},
     "output_type": "execute_result"
    }
   ],
   "source": [
    "data[cats].describe()"
   ]
  },
  {
   "cell_type": "markdown",
   "id": "53b38320-faf4-4067-a1a9-b7797fdce516",
   "metadata": {},
   "source": [
    "**Kesimpulan Data Kategorikal**"
   ]
  },
  {
   "cell_type": "raw",
   "id": "903c3691-d707-4981-9829-0f30a63d6ce1",
   "metadata": {},
   "source": [
    "Data mayoritas pada gender adalah laki-laki dengan frekuensi 38.496\n",
    "Data mayoritas pada departemen adalah Sales & Marketing dengan frekuensi 16.840\n",
    "Data mayoritas pada pendidikan adalah Bachelor's dengan frekuensi 36.669\n",
    "Data mayoritas pada wilayah adalah region_2 dengan frekuensi 12.343\n",
    "Data mayoritas pada recruitment_channel adalah other dengan frekuensi 30.446"
   ]
  },
  {
   "cell_type": "raw",
   "id": "c250c6d9-d4f4-4554-b167-4659c6079fc4",
   "metadata": {},
   "source": []
  },
  {
   "cell_type": "raw",
   "id": "721703c3-416d-4151-a550-27a6b9f2fb0c",
   "metadata": {},
   "source": [
    "d. Periksa Missing Value\n",
    "education previous_year_rating employee_id"
   ]
  },
  {
   "cell_type": "code",
   "execution_count": 14,
   "id": "00fa8bce-9d90-46f7-8d11-ab21d7b407fc",
   "metadata": {},
   "outputs": [
    {
     "data": {
      "text/html": [
       "<div>\n",
       "<style scoped>\n",
       "    .dataframe tbody tr th:only-of-type {\n",
       "        vertical-align: middle;\n",
       "    }\n",
       "\n",
       "    .dataframe tbody tr th {\n",
       "        vertical-align: top;\n",
       "    }\n",
       "\n",
       "    .dataframe thead th {\n",
       "        text-align: right;\n",
       "    }\n",
       "</style>\n",
       "<table border=\"1\" class=\"dataframe\">\n",
       "  <thead>\n",
       "    <tr style=\"text-align: right;\">\n",
       "      <th></th>\n",
       "      <th>feature</th>\n",
       "      <th>missing_value</th>\n",
       "      <th>percentage</th>\n",
       "    </tr>\n",
       "  </thead>\n",
       "  <tbody>\n",
       "    <tr>\n",
       "      <th>0</th>\n",
       "      <td>education</td>\n",
       "      <td>2409</td>\n",
       "      <td>4.395344</td>\n",
       "    </tr>\n",
       "    <tr>\n",
       "      <th>1</th>\n",
       "      <td>previous_year_rating</td>\n",
       "      <td>4124</td>\n",
       "      <td>7.524449</td>\n",
       "    </tr>\n",
       "  </tbody>\n",
       "</table>\n",
       "</div>"
      ],
      "text/plain": [
       "                feature  missing_value  percentage\n",
       "0             education           2409    4.395344\n",
       "1  previous_year_rating           4124    7.524449"
      ]
     },
     "execution_count": 14,
     "metadata": {},
     "output_type": "execute_result"
    }
   ],
   "source": [
    "# menetapkan feature dengan nilai yang hilang ke dalam objek data_missing\n",
    "data_missing = data.isnull().sum().reset_index()\n",
    "data_missing.columns = ['feature','missing_value']\n",
    "data_missing = data_missing[data_missing['missing_value'] > 0].reset_index(drop=True)\n",
    "data_missing['percentage'] = (data_missing['missing_value']/len(data))*100\n",
    "data_missing"
   ]
  },
  {
   "cell_type": "code",
   "execution_count": 23,
   "id": "185dddf4-c76f-450e-985c-cf077f29eb0a",
   "metadata": {},
   "outputs": [
    {
     "data": {
      "text/plain": [
       "Text(0.125, 0.8, 'Distribusi dari Missing Value')"
      ]
     },
     "execution_count": 23,
     "metadata": {},
     "output_type": "execute_result"
    },
    {
     "data": {
      "image/png": "[encoded data removed]",
      "text/plain": [
       "<Figure size 1500x700 with 1 Axes>"
      ]
     },
     "metadata": {},
     "output_type": "display_data"
    }
   ],
   "source": [
    "fig, ax = plt.subplots(figsize = (15,7))\n",
    "\n",
    "mvalue_plot = sns.barplot(x='feature', y='percentage', data=data_missing,\n",
    "           palette = sns.color_palette('Blues_d', n_colors = 13, desat = 1))\n",
    "\n",
    "ax.set_ylim(0,12)\n",
    "\n",
    "for p in mvalue_plot.patches:\n",
    "    height = p.get_height()\n",
    "    mvalue_plot.text(x = p.get_x() + (p.get_width()/2),\n",
    "                y = height + 0.1,\n",
    "                s = str('{:.2f}'.format(height)) + '%',\n",
    "                ha = 'center')\n",
    "\n",
    "title = '''Distribusi dari Missing Value'''\n",
    "fig.text(x=0.125, y=0.8, s = title, fontsize = 24, weight = 'bold')\n",
    "\n",
    "#plt.savefig('fig/Distribution of Missing Value.png')"
   ]
  },
  {
   "cell_type": "raw",
   "id": "375712de-faac-48ab-a771-97e722ab6f6c",
   "metadata": {},
   "source": [
    "Terdapat 2 fitur dengan nilai yang hilang, 1 untuk numerik & 1 untuk non-numerik (data kategorikal)\n",
    "- previous_year_rating sebagai data numerik memiliki nilai yang hilang sebesar 7,52% (4124 baris)\n",
    "- education sebagai data non-numerik memiliki nilai yang hilang sebesar 4,40% (2409 baris)\n",
    "\n",
    "Dibandingkan dengan dataset, nilai yang hilang ini tidak terlalu besar"
   ]
  },
  {
   "cell_type": "code",
   "execution_count": null,
   "id": "05bc62a9-940a-42ae-9a45-e2854ba576df",
   "metadata": {},
   "outputs": [],
   "source": []
  },
  {
   "cell_type": "raw",
   "id": "79561e22-b939-4c54-889c-c3acb6db8be8",
   "metadata": {},
   "source": [
    "Check Cardinality or Unique Value from Categocial Data"
   ]
  },
  {
   "cell_type": "code",
   "execution_count": 25,
   "id": "684b8cfe-637a-4ca2-8191-21885114c7ea",
   "metadata": {},
   "outputs": [
    {
     "data": {
      "text/plain": [
       "Index(['department', 'region', 'education', 'gender', 'recruitment_channel'], dtype='object')"
      ]
     },
     "metadata": {},
     "output_type": "display_data"
    },
    {
     "name": "stdout",
     "output_type": "stream",
     "text": [
      "(54808, 5)\n"
     ]
    },
    {
     "data": {
      "text/html": [
       "<div>\n",
       "<style scoped>\n",
       "    .dataframe tbody tr th:only-of-type {\n",
       "        vertical-align: middle;\n",
       "    }\n",
       "\n",
       "    .dataframe tbody tr th {\n",
       "        vertical-align: top;\n",
       "    }\n",
       "\n",
       "    .dataframe thead th {\n",
       "        text-align: right;\n",
       "    }\n",
       "</style>\n",
       "<table border=\"1\" class=\"dataframe\">\n",
       "  <thead>\n",
       "    <tr style=\"text-align: right;\">\n",
       "      <th></th>\n",
       "      <th>department</th>\n",
       "      <th>region</th>\n",
       "      <th>education</th>\n",
       "      <th>gender</th>\n",
       "      <th>recruitment_channel</th>\n",
       "    </tr>\n",
       "  </thead>\n",
       "  <tbody>\n",
       "    <tr>\n",
       "      <th>0</th>\n",
       "      <td>Sales &amp; Marketing</td>\n",
       "      <td>region_7</td>\n",
       "      <td>Master's &amp; above</td>\n",
       "      <td>f</td>\n",
       "      <td>sourcing</td>\n",
       "    </tr>\n",
       "    <tr>\n",
       "      <th>1</th>\n",
       "      <td>Operations</td>\n",
       "      <td>region_22</td>\n",
       "      <td>Bachelor's</td>\n",
       "      <td>m</td>\n",
       "      <td>other</td>\n",
       "    </tr>\n",
       "    <tr>\n",
       "      <th>2</th>\n",
       "      <td>Sales &amp; Marketing</td>\n",
       "      <td>region_19</td>\n",
       "      <td>Bachelor's</td>\n",
       "      <td>m</td>\n",
       "      <td>sourcing</td>\n",
       "    </tr>\n",
       "  </tbody>\n",
       "</table>\n",
       "</div>"
      ],
      "text/plain": [
       "          department     region         education gender recruitment_channel\n",
       "0  Sales & Marketing   region_7  Master's & above      f            sourcing\n",
       "1         Operations  region_22        Bachelor's      m               other\n",
       "2  Sales & Marketing  region_19        Bachelor's      m            sourcing"
      ]
     },
     "execution_count": 25,
     "metadata": {},
     "output_type": "execute_result"
    }
   ],
   "source": [
    "# periksa kardinalitas atau nilai unik dari data kategorikal\n",
    "# dan tetapkan hasilnya ke dalam objek data_cat_unique\n",
    "display(data.select_dtypes(include=['object']).columns)\n",
    "print(data.select_dtypes(include=object).shape)\n",
    "data_cat = data.select_dtypes(include=['object'])\n",
    "data_cat.head(3)"
   ]
  },
  {
   "cell_type": "code",
   "execution_count": 26,
   "id": "35446450-ac71-4ab6-b4e9-cf88ccee3854",
   "metadata": {},
   "outputs": [
    {
     "data": {
      "text/html": [
       "<div>\n",
       "<style scoped>\n",
       "    .dataframe tbody tr th:only-of-type {\n",
       "        vertical-align: middle;\n",
       "    }\n",
       "\n",
       "    .dataframe tbody tr th {\n",
       "        vertical-align: top;\n",
       "    }\n",
       "\n",
       "    .dataframe thead th {\n",
       "        text-align: right;\n",
       "    }\n",
       "</style>\n",
       "<table border=\"1\" class=\"dataframe\">\n",
       "  <thead>\n",
       "    <tr style=\"text-align: right;\">\n",
       "      <th></th>\n",
       "      <th>feature</th>\n",
       "      <th>unique value</th>\n",
       "    </tr>\n",
       "  </thead>\n",
       "  <tbody>\n",
       "    <tr>\n",
       "      <th>0</th>\n",
       "      <td>region</td>\n",
       "      <td>34</td>\n",
       "    </tr>\n",
       "    <tr>\n",
       "      <th>1</th>\n",
       "      <td>department</td>\n",
       "      <td>9</td>\n",
       "    </tr>\n",
       "    <tr>\n",
       "      <th>2</th>\n",
       "      <td>education</td>\n",
       "      <td>3</td>\n",
       "    </tr>\n",
       "    <tr>\n",
       "      <th>3</th>\n",
       "      <td>recruitment_channel</td>\n",
       "      <td>3</td>\n",
       "    </tr>\n",
       "    <tr>\n",
       "      <th>4</th>\n",
       "      <td>gender</td>\n",
       "      <td>2</td>\n",
       "    </tr>\n",
       "  </tbody>\n",
       "</table>\n",
       "</div>"
      ],
      "text/plain": [
       "               feature  unique value\n",
       "0               region            34\n",
       "1           department             9\n",
       "2            education             3\n",
       "3  recruitment_channel             3\n",
       "4               gender             2"
      ]
     },
     "execution_count": 26,
     "metadata": {},
     "output_type": "execute_result"
    }
   ],
   "source": [
    "data_cat_unique = data_cat.nunique().reset_index()\n",
    "data_cat_unique.columns = ['feature', 'unique value']\n",
    "data_cat_unique = data_cat_unique.sort_values('unique value', ascending=False).reset_index(drop=True)\n",
    "data_cat_unique"
   ]
  },
  {
   "cell_type": "code",
   "execution_count": 30,
   "id": "b2ccf8f5-15d0-45b1-9677-1c660fd2874b",
   "metadata": {},
   "outputs": [
    {
     "data": {
      "text/plain": [
       "<function matplotlib.pyplot.tight_layout(*, pad: 'float' = 1.08, h_pad: 'float | None' = None, w_pad: 'float | None' = None, rect: 'tuple[float, float, float, float] | None' = None) -> 'None'>"
      ]
     },
     "execution_count": 30,
     "metadata": {},
     "output_type": "execute_result"
    },
    {
     "data": {
      "image/png": "[encoded data removed]",
      "text/plain": [
       "<Figure size 1500x700 with 1 Axes>"
      ]
     },
     "metadata": {},
     "output_type": "display_data"
    }
   ],
   "source": [
    "#melihat distribusi unique value dari data categorical\n",
    "fig, ax = plt.subplots(figsize=(15,7))\n",
    "\n",
    "g = sns.barplot(x = 'feature',y='unique value',data=data_cat_unique,ax=ax, \n",
    "               palette=sns.color_palette(\"Blues_d\", n_colors=5, desat=1))\n",
    "\n",
    "x = np.arange(len(data_cat_unique['feature']))\n",
    "y = data_cat_unique['unique value']\n",
    "\n",
    "for i, v in enumerate(y):\n",
    "    ax.text(x[i]- 0.1, v+0.75, str(v), fontsize = 20, color='gray', fontweight='bold')\n",
    "    \n",
    "title = '''\n",
    "Distribusi Nilai Unik dalam Data Kategorikal\n",
    "'''\n",
    "ax.text(1,28,title,horizontalalignment='left',color='black',fontsize=25,fontweight='bold')\n",
    "\n",
    "ax.set_ylim(0,35)\n",
    "\n",
    "ax.set_xticklabels(ax.get_xticklabels(),rotation=0)\n",
    "plt.tight_layout\n",
    "\n",
    "#plt.savefig('fig/Insight Awal ke-9.png')"
   ]
  },
  {
   "cell_type": "raw",
   "id": "82661748-8364-432c-9ad3-d9ffb618f264",
   "metadata": {},
   "source": [
    "Terdapat 5 fitur dengan data kategorikal  \n",
    "- region memiliki 34 nilai unik  \n",
    "- department memiliki 9 nilai unik  \n",
    "- education memiliki 3 nilai unik  \n",
    "- recruitment_channel memiliki 3 nilai unik  \n",
    "- gender memiliki 2 nilai unik  "
   ]
  },
  {
   "cell_type": "raw",
   "id": "bdbafa05-d5d4-4857-8af5-befa3cb66aac",
   "metadata": {},
   "source": []
  },
  {
   "cell_type": "raw",
   "id": "dc435581-1d62-4b78-9fbe-bc4c17125419",
   "metadata": {},
   "source": [
    "Cek Duplikasi Data"
   ]
  },
  {
   "cell_type": "code",
   "execution_count": null,
   "id": "1e11f868-c6c5-47ce-b0f8-29d55754f6e7",
   "metadata": {},
   "outputs": [],
   "source": []
  }
 ],
 "metadata": {
  "kernelspec": {
   "display_name": "Python 3 (ipykernel)",
   "language": "python",
   "name": "python3"
  },
  "language_info": {
   "codemirror_mode": {
    "name": "ipython",
    "version": 3
   },
   "file_extension": ".py",
   "mimetype": "text/x-python",
   "name": "python",
   "nbconvert_exporter": "python",
   "pygments_lexer": "ipython3",
   "version": "3.13.2"
  }
 },
 "nbformat": 4,
 "nbformat_minor": 5
}
